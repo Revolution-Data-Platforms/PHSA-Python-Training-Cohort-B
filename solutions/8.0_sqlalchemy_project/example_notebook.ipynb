{
 "cells": [
  {
   "attachments": {},
   "cell_type": "markdown",
   "metadata": {},
   "source": [
    "# Example Notebook\n"
   ]
  },
  {
   "attachments": {},
   "cell_type": "markdown",
   "metadata": {},
   "source": [
    "## Import Libraries\n"
   ]
  },
  {
   "cell_type": "code",
   "execution_count": 4,
   "metadata": {},
   "outputs": [],
   "source": [
    "from database import init_db, get_session\n",
    "from operations.book_operations import (\n",
    "    add_book,\n",
    "    get_all_books,\n",
    "    get_book_by_id,\n",
    "    update_book_availability,\n",
    "    delete_book,\n",
    ")\n",
    "from operations.member_operations import (\n",
    "    add_member,\n",
    "    get_all_members,\n",
    "    get_member_by_id,\n",
    "    update_member_info,\n",
    "    delete_member,\n",
    ")\n",
    "from operations.loan_operations import (\n",
    "    add_loan,\n",
    "    get_all_loans,\n",
    "    get_loan_by_id,\n",
    "    return_loan,\n",
    "    delete_loan,\n",
    ")\n"
   ]
  },
  {
   "attachments": {},
   "cell_type": "markdown",
   "metadata": {},
   "source": [
    "## Initialize the Database and Create Session\n"
   ]
  },
  {
   "cell_type": "code",
   "execution_count": 5,
   "metadata": {},
   "outputs": [
    {
     "name": "stdout",
     "output_type": "stream",
     "text": [
      "2023-04-27 16:24:11,040 INFO sqlalchemy.engine.Engine BEGIN (implicit)\n",
      "2023-04-27 16:24:11,041 INFO sqlalchemy.engine.Engine PRAGMA main.table_info(\"books\")\n",
      "2023-04-27 16:24:11,042 INFO sqlalchemy.engine.Engine [raw sql] ()\n",
      "2023-04-27 16:24:11,045 INFO sqlalchemy.engine.Engine PRAGMA temp.table_info(\"books\")\n",
      "2023-04-27 16:24:11,045 INFO sqlalchemy.engine.Engine [raw sql] ()\n",
      "2023-04-27 16:24:11,047 INFO sqlalchemy.engine.Engine PRAGMA main.table_info(\"members\")\n",
      "2023-04-27 16:24:11,048 INFO sqlalchemy.engine.Engine [raw sql] ()\n",
      "2023-04-27 16:24:11,049 INFO sqlalchemy.engine.Engine PRAGMA temp.table_info(\"members\")\n",
      "2023-04-27 16:24:11,050 INFO sqlalchemy.engine.Engine [raw sql] ()\n",
      "2023-04-27 16:24:11,050 INFO sqlalchemy.engine.Engine PRAGMA main.table_info(\"loans\")\n",
      "2023-04-27 16:24:11,051 INFO sqlalchemy.engine.Engine [raw sql] ()\n",
      "2023-04-27 16:24:11,053 INFO sqlalchemy.engine.Engine PRAGMA temp.table_info(\"loans\")\n",
      "2023-04-27 16:24:11,054 INFO sqlalchemy.engine.Engine [raw sql] ()\n",
      "2023-04-27 16:24:11,056 INFO sqlalchemy.engine.Engine \n",
      "CREATE TABLE books (\n",
      "\tid INTEGER NOT NULL, \n",
      "\ttitle VARCHAR NOT NULL, \n",
      "\tauthor VARCHAR NOT NULL, \n",
      "\tisbn VARCHAR NOT NULL, \n",
      "\tavailable INTEGER, \n",
      "\tPRIMARY KEY (id), \n",
      "\tUNIQUE (isbn)\n",
      ")\n",
      "\n",
      "\n",
      "2023-04-27 16:24:11,056 INFO sqlalchemy.engine.Engine [no key 0.00062s] ()\n",
      "2023-04-27 16:24:11,064 INFO sqlalchemy.engine.Engine \n",
      "CREATE TABLE members (\n",
      "\tid INTEGER NOT NULL, \n",
      "\tname VARCHAR NOT NULL, \n",
      "\temail VARCHAR NOT NULL, \n",
      "\tphone VARCHAR NOT NULL, \n",
      "\tPRIMARY KEY (id), \n",
      "\tUNIQUE (email)\n",
      ")\n",
      "\n",
      "\n",
      "2023-04-27 16:24:11,065 INFO sqlalchemy.engine.Engine [no key 0.00101s] ()\n",
      "2023-04-27 16:24:11,074 INFO sqlalchemy.engine.Engine \n",
      "CREATE TABLE loans (\n",
      "\tid INTEGER NOT NULL, \n",
      "\tbook_id INTEGER NOT NULL, \n",
      "\tmember_id INTEGER NOT NULL, \n",
      "\tstart_date DATE NOT NULL, \n",
      "\tdue_date DATE NOT NULL, \n",
      "\treturn_date DATE, \n",
      "\tPRIMARY KEY (id), \n",
      "\tFOREIGN KEY(book_id) REFERENCES books (id), \n",
      "\tFOREIGN KEY(member_id) REFERENCES members (id)\n",
      ")\n",
      "\n",
      "\n",
      "2023-04-27 16:24:11,075 INFO sqlalchemy.engine.Engine [no key 0.00122s] ()\n",
      "2023-04-27 16:24:11,083 INFO sqlalchemy.engine.Engine COMMIT\n"
     ]
    }
   ],
   "source": [
    "db_name = \"library_management_system\"\n",
    "engine = init_db(db_name)\n",
    "session = get_session(engine)\n"
   ]
  },
  {
   "attachments": {},
   "cell_type": "markdown",
   "metadata": {},
   "source": [
    "## Interact with the Database\n"
   ]
  },
  {
   "cell_type": "code",
   "execution_count": 6,
   "metadata": {},
   "outputs": [
    {
     "name": "stdout",
     "output_type": "stream",
     "text": [
      "2023-04-27 16:24:11,304 INFO sqlalchemy.engine.Engine BEGIN (implicit)\n",
      "2023-04-27 16:24:11,307 INFO sqlalchemy.engine.Engine INSERT INTO books (title, author, isbn, available) VALUES (?, ?, ?, ?)\n",
      "2023-04-27 16:24:11,308 INFO sqlalchemy.engine.Engine [generated in 0.00120s] ('The Catcher in the Rye', 'J.D. Salinger', '9780316769488', 1)\n",
      "2023-04-27 16:24:11,311 INFO sqlalchemy.engine.Engine COMMIT\n"
     ]
    }
   ],
   "source": [
    "# Use the functions from book_operations, member_operations, and loan_operations to perform CRUD operations\n",
    "add_book(session, \"The Catcher in the Rye\", \"J.D. Salinger\", \"9780316769488\")\n"
   ]
  },
  {
   "cell_type": "code",
   "execution_count": 7,
   "metadata": {},
   "outputs": [
    {
     "name": "stdout",
     "output_type": "stream",
     "text": [
      "2023-04-27 16:24:11,371 INFO sqlalchemy.engine.Engine BEGIN (implicit)\n",
      "2023-04-27 16:24:11,374 INFO sqlalchemy.engine.Engine SELECT books.id AS books_id, books.title AS books_title, books.author AS books_author, books.isbn AS books_isbn, books.available AS books_available \n",
      "FROM books\n",
      "2023-04-27 16:24:11,376 INFO sqlalchemy.engine.Engine [generated in 0.00140s] ()\n",
      "The Catcher in the Rye J.D. Salinger 9780316769488 1\n"
     ]
    }
   ],
   "source": [
    "for book in get_all_books(session):\n",
    "    print(book.title, book.author, book.isbn, book.available)\n"
   ]
  }
 ],
 "metadata": {
  "kernelspec": {
   "display_name": "Python 3",
   "language": "python",
   "name": "python3"
  },
  "language_info": {
   "codemirror_mode": {
    "name": "ipython",
    "version": 3
   },
   "file_extension": ".py",
   "mimetype": "text/x-python",
   "name": "python",
   "nbconvert_exporter": "python",
   "pygments_lexer": "ipython3",
   "version": "3.10.6"
  },
  "orig_nbformat": 4
 },
 "nbformat": 4,
 "nbformat_minor": 2
}
