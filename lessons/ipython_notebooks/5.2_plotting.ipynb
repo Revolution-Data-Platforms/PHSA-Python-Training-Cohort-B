{
 "cells": [
  {
   "attachments": {},
   "cell_type": "markdown",
   "metadata": {},
   "source": [
    "# Plotting\n"
   ]
  },
  {
   "attachments": {},
   "cell_type": "markdown",
   "metadata": {},
   "source": [
    "In this tutorial, we will learn how to plot using the `matplotlib` library.\n"
   ]
  },
  {
   "attachments": {},
   "cell_type": "markdown",
   "metadata": {},
   "source": [
    "## Installing matplotlib\n"
   ]
  },
  {
   "attachments": {},
   "cell_type": "markdown",
   "metadata": {},
   "source": [
    "To install matplotlib, run the following command in your terminal:\n",
    "\n",
    "```bash\n",
    "pip install matplotlib\n",
    "```\n",
    "\n",
    "Once you have installed `matplotlib`, you can import it into your Python code:\n",
    "\n",
    "```python\n",
    "import matplotlib.pyplot as plt\n",
    "```\n"
   ]
  },
  {
   "attachments": {},
   "cell_type": "markdown",
   "metadata": {},
   "source": [
    "## Line Plot\n"
   ]
  },
  {
   "attachments": {},
   "cell_type": "markdown",
   "metadata": {},
   "source": [
    "Let's start by plotting a simple line graph. We will use the plot method provided by Matplotlib.\n"
   ]
  },
  {
   "cell_type": "code",
   "execution_count": null,
   "metadata": {},
   "outputs": [],
   "source": [
    "import matplotlib.pyplot as plt\n",
    "\n",
    "# x-axis values\n",
    "x = [1, 2, 3, 4, 5]\n",
    "# y-axis values\n",
    "y = [2, 4, 6, 8, 10]\n",
    "\n",
    "# plotting the line graph\n",
    "plt.plot(x, y)\n",
    "\n",
    "# adding labels to the axes\n",
    "plt.xlabel(\"x-axis\")\n",
    "plt.ylabel(\"Y-axis\")\n",
    "\n",
    "# adding a title to the graph\n",
    "plt.title(\"Line Graph\")\n",
    "\n",
    "# displaying the graph\n",
    "plt.show()\n"
   ]
  },
  {
   "attachments": {},
   "cell_type": "markdown",
   "metadata": {},
   "source": [
    "The `plot` method takes two arrays, one for the x-axis values and one for the y-axis values. The `xlabel` and `ylabel` methods are used to add labels to the x and y axes, respectively. The `title` method is used to add a title to the graph. Finally, the `show` method is used to display the graph.\n"
   ]
  },
  {
   "attachments": {},
   "cell_type": "markdown",
   "metadata": {},
   "source": [
    "## Changing Line Style and Color\n"
   ]
  },
  {
   "attachments": {},
   "cell_type": "markdown",
   "metadata": {},
   "source": [
    "To make the plot more informative, you can add labels to the axes and a title to the plot:\n"
   ]
  },
  {
   "cell_type": "code",
   "execution_count": null,
   "metadata": {},
   "outputs": [],
   "source": [
    "# Create a dashed line with blue color and circle markers\n",
    "plt.plot(x, y, linestyle=\"--\", color=\"blue\", marker=\"o\")\n",
    "plt.xlabel(\"x-axis\")\n",
    "plt.ylabel(\"y-axis\")\n",
    "plt.title(\"A Customized Line Plot\")\n",
    "\n",
    "plt.show()\n"
   ]
  },
  {
   "attachments": {},
   "cell_type": "markdown",
   "metadata": {},
   "source": [
    "## Scatter Plot\n"
   ]
  },
  {
   "attachments": {},
   "cell_type": "markdown",
   "metadata": {},
   "source": [
    "Next, let's plot a scatter plot. We will use the `scatter` method provided by Matplotlib.\n"
   ]
  },
  {
   "cell_type": "code",
   "execution_count": null,
   "metadata": {},
   "outputs": [],
   "source": [
    "import matplotlib.pyplot as plt\n",
    "import numpy as np\n",
    "\n",
    "# x-axis values\n",
    "x = np.random.rand(50)\n",
    "# y-axis values\n",
    "y = np.random.rand(50)\n",
    "\n",
    "# plotting the scatter plot\n",
    "plt.scatter(x, y)\n",
    "\n",
    "# adding labels to the axes\n",
    "plt.xlabel(\"x-axis\")\n",
    "plt.ylabel(\"Y-axis\")\n",
    "\n",
    "# adding a title to the graph\n",
    "plt.title(\"Scatter Plot\")\n",
    "\n",
    "# displaying the graph\n",
    "plt.show()\n"
   ]
  },
  {
   "attachments": {},
   "cell_type": "markdown",
   "metadata": {},
   "source": [
    "The `scatter` method takes two arrays, one for the x-axis values and one for the y-axis values. The `xlabel` and `ylabel` methods are used to add labels to the x and y axes, respectively. The title method is used to add a title to the graph. Finally, the `show` method is used to display the graph.\n"
   ]
  },
  {
   "attachments": {},
   "cell_type": "markdown",
   "metadata": {},
   "source": [
    "## Bar Chart\n"
   ]
  },
  {
   "attachments": {},
   "cell_type": "markdown",
   "metadata": {},
   "source": [
    "Next, let's plot a bar chart. We will use the `bar` method provided by Matplotlib.\n"
   ]
  },
  {
   "cell_type": "code",
   "execution_count": null,
   "metadata": {},
   "outputs": [],
   "source": [
    "import matplotlib.pyplot as plt\n",
    "\n",
    "# x-axis values\n",
    "x = [\"A\", \"B\", \"C\", \"D\", \"E\"]\n",
    "# y-axis values\n",
    "y = [10, 24, 36, 40, 15]\n",
    "\n",
    "# plotting the bar chart\n",
    "plt.bar(x, y)\n",
    "\n",
    "# adding labels to the axes\n",
    "plt.xlabel(\"x-axis\")\n",
    "plt.ylabel(\"Y-axis\")\n",
    "\n",
    "# adding a title to the graph\n",
    "plt.title(\"Bar Chart\")\n",
    "\n",
    "# displaying the graph\n",
    "plt.show()\n"
   ]
  },
  {
   "attachments": {},
   "cell_type": "markdown",
   "metadata": {},
   "source": [
    "The `bar` method takes two arrays, one for the x-axis values and one for the y-axis values. The `xlabel` and `ylabel` methods are used to add labels to the x and y axes, respectively. The `title` method is used to add a title to the graph. Finally, the `show` method is used to display the graph.\n"
   ]
  },
  {
   "attachments": {},
   "cell_type": "markdown",
   "metadata": {},
   "source": [
    "## Pie Charts\n"
   ]
  },
  {
   "attachments": {},
   "cell_type": "markdown",
   "metadata": {},
   "source": [
    "Finally, let's plot a pie chart. We will use the `pie` method provided by Matplotlib.\n"
   ]
  },
  {
   "cell_type": "code",
   "execution_count": null,
   "metadata": {},
   "outputs": [],
   "source": [
    "import matplotlib.pyplot as plt\n",
    "\n",
    "# labels for the sections of the pie chart\n",
    "labels = [\"A\", \"B\", \"C\", \"D\", \"E\"]\n",
    "# sizes of each section\n",
    "sizes = [10, 24, 36, 40, 15]\n",
    "\n",
    "# plotting the pie chart\n",
    "plt.pie(sizes, labels=labels)\n",
    "\n",
    "# adding a title to the graph\n",
    "plt.title(\"Pie Chart\")\n",
    "\n",
    "# displaying the graph\n",
    "plt.show()\n"
   ]
  },
  {
   "attachments": {},
   "cell_type": "markdown",
   "metadata": {},
   "source": [
    "The `pie` method takes an array for the sizes of each section of the pie chart and a list of labels for each section. The `title` method is used to add a title to the graph. Finally, the `show` method is used to display the graph.\n"
   ]
  },
  {
   "attachments": {},
   "cell_type": "markdown",
   "metadata": {},
   "source": [
    "## Saving a Plot\n"
   ]
  },
  {
   "attachments": {},
   "cell_type": "markdown",
   "metadata": {},
   "source": [
    "To save a plot as an image file, you can use the `savefig` method:\n"
   ]
  },
  {
   "cell_type": "code",
   "execution_count": null,
   "metadata": {},
   "outputs": [],
   "source": [
    "plt.plot(x, y)\n",
    "plt.xlabel(\"x-axis\")\n",
    "plt.ylabel(\"y-axis\")\n",
    "plt.title(\"A Line Plot to be Saved\")\n",
    "\n",
    "# Save the plot as a PNG file\n",
    "plt.savefig(\"line_plot.png\")\n",
    "\n",
    "# Close the plot\n",
    "plt.close()\n"
   ]
  },
  {
   "attachments": {},
   "cell_type": "markdown",
   "metadata": {},
   "source": [
    "## Exercises\n"
   ]
  },
  {
   "attachments": {},
   "cell_type": "markdown",
   "metadata": {},
   "source": [
    "1. Plot a line graph showing the sales trend of a company over the past year. Label the x-axis as \"Month\" and the y-axis as \"Sales\" with a title \"Sales Trend\".\n",
    "\n",
    "2. Create a scatter plot showing the relationship between the weight and height of a group of individuals. Label the x-axis as \"Weight\" and the y-axis as \"Height\" with a title \"Weight vs. Height\".\n",
    "\n",
    "3. Plot a bar chart showing the number of medals won by a group of countries in the 2020 Olympics. Label the x-axis as \"Country\" and the y-axis as \"Medals\" with a title \"2020 Olympics Medal Count\".\n",
    "\n",
    "4. Create a pie chart showing the percentage of different types of fruits in a fruit basket. Label each section with the name of the fruit and add a title \"Fruit Basket\".\n",
    "\n",
    "5. Plot a histogram showing the distribution of grades in a class. Label the x-axis as \"Grade\" and the y-axis as \"Frequency\" with a title \"Grade Distribution\".\n",
    "\n",
    "6. Create a boxplot showing the distribution of the heights of basketball players in a team. Label the y-axis as \"Height\" with a title \"Basketball Player Height Distribution\".\n",
    "\n",
    "7. Plot a line graph showing the temperature trend of a city over the past week. Label the x-axis as \"Day\" and the y-axis as \"Temperature\" with a title \"Temperature Trend\".\n",
    "\n",
    "8. Create a scatter plot showing the relationship between the price and quality of a group of products. Label the x-axis as \"Price\" and the y-axis as \"Quality\" with a title \"Price vs. Quality\".\n",
    "\n",
    "9. Plot a stacked bar chart showing the percentage of different types of expenses in a budget. Label the x-axis as \"Category\" and the y-axis as \"Percentage\" with a title \"Budget Expenses\".\n",
    "\n",
    "10. Create a radar chart showing the performance of a team in different areas such as communication, teamwork, and leadership. Label each axis with the name of the area and add a title \"Team Performance\".\n"
   ]
  },
  {
   "attachments": {},
   "cell_type": "markdown",
   "metadata": {},
   "source": [
    "## Project: Visualizing COVID-19 Data\n"
   ]
  },
  {
   "attachments": {},
   "cell_type": "markdown",
   "metadata": {},
   "source": [
    "### Project Description\n"
   ]
  },
  {
   "attachments": {},
   "cell_type": "markdown",
   "metadata": {},
   "source": [
    "The objective of this project is to visualize the COVID-19 data using the Matplotlib library. The data will be retrieved from an API and will be displayed in various types of graphs such as line charts, bar charts, and pie charts.\n"
   ]
  },
  {
   "attachments": {},
   "cell_type": "markdown",
   "metadata": {},
   "source": [
    "### Project Requirements\n"
   ]
  },
  {
   "attachments": {},
   "cell_type": "markdown",
   "metadata": {},
   "source": [
    "The objective of this project is to visualize the COVID-19 data using the Matplotlib library. The data will be retrieved from an API and will be displayed in various types of graphs such as line charts, bar charts, and pie charts.\n",
    "\n",
    "To complete this project, you'll need the following:\n",
    "\n",
    "- Python 3.x\n",
    "- Matplotlib library\n",
    "- Requests library\n"
   ]
  },
  {
   "attachments": {},
   "cell_type": "markdown",
   "metadata": {},
   "source": [
    "### Project Steps\n"
   ]
  },
  {
   "attachments": {},
   "cell_type": "markdown",
   "metadata": {},
   "source": [
    "1. Installed the required libraries.\n",
    "2. Retrieve the COVID-19 data from an API using the following code:\n",
    "\n",
    "   ```python\n",
    "   import requests\n",
    "\n",
    "   url = 'https://api.covid19api.com/dayone/country/canada'\n",
    "   response = requests.get(url)\n",
    "   data = response.json()\n",
    "   ```\n",
    "\n",
    "3. Create a line chart showing the total number of confirmed cases in Canada over time.\n",
    "4. Create a bar chart showing the total number of confirmed cases and deaths in Canada.\n",
    "5. Create a pie chart showing the percentage of confirmed cases and deaths in Canada.\n",
    "6. Explore the data and see what other plots you can come up with!\n",
    "7. Save the graphs as images.\n"
   ]
  }
 ],
 "metadata": {
  "kernelspec": {
   "display_name": "Python 3",
   "language": "python",
   "name": "python3"
  },
  "language_info": {
   "codemirror_mode": {
    "name": "ipython",
    "version": 3
   },
   "file_extension": ".py",
   "mimetype": "text/x-python",
   "name": "python",
   "nbconvert_exporter": "python",
   "pygments_lexer": "ipython3",
   "version": "3.10.6"
  },
  "orig_nbformat": 4
 },
 "nbformat": 4,
 "nbformat_minor": 2
}
