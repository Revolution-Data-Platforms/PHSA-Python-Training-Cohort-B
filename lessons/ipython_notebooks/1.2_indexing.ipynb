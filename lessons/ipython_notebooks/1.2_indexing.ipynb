{
 "cells": [
  {
   "attachments": {},
   "cell_type": "markdown",
   "metadata": {},
   "source": [
    "# Indexing"
   ]
  },
  {
   "attachments": {},
   "cell_type": "markdown",
   "metadata": {},
   "source": [
    "Indexing in Python is the process of accessing a single item or a group of items from a collection, such as a list, tuple or string. In Python, the index of an item in a collection starts from `0`, not `1`. For example, the index of the first item in a list is `0`, the index of the second item in a list is `1`, and so on. \n",
    "\n",
    "In this tutorial, we will learn how to access items from a list, tuple and string using indexing and slicing. We will also learn how to use negative indexing and slicing. Finally, we will learn how to access a range of items from a collection using slicing."
   ]
  },
  {
   "attachments": {},
   "cell_type": "markdown",
   "metadata": {},
   "source": [
    "## List Indexing"
   ]
  },
  {
   "attachments": {},
   "cell_type": "markdown",
   "metadata": {},
   "source": [
    "Lists are ordered collections of items. Each item in a list has an index, which is used to access the item."
   ]
  },
  {
   "cell_type": "code",
   "execution_count": null,
   "metadata": {},
   "outputs": [],
   "source": [
    "fruits = [\"apple\", \"banana\", \"cherry\"]\n",
    "print(fruits[0])"
   ]
  },
  {
   "attachments": {},
   "cell_type": "markdown",
   "metadata": {},
   "source": [
    "List values can be altered by using the index of the item to be changed. For example:"
   ]
  },
  {
   "cell_type": "code",
   "execution_count": null,
   "metadata": {},
   "outputs": [],
   "source": [
    "fruits = [\"apple\", \"banana\", \"cherry\"]\n",
    "fruits[0] = \"kiwi\"\n",
    "\n",
    "print(fruits)"
   ]
  },
  {
   "attachments": {},
   "cell_type": "markdown",
   "metadata": {},
   "source": [
    "## Tuple Indexing"
   ]
  },
  {
   "attachments": {},
   "cell_type": "markdown",
   "metadata": {},
   "source": [
    "Tuples are ordered collections of items. Each item in a tuple has an index, which is used to access the item."
   ]
  },
  {
   "cell_type": "code",
   "execution_count": null,
   "metadata": {},
   "outputs": [],
   "source": [
    "numbers = (1, 2, 3)\n",
    "print(numbers[2])"
   ]
  },
  {
   "attachments": {},
   "cell_type": "markdown",
   "metadata": {},
   "source": [
    "However, tuples are immutable, which means that they cannot be changed."
   ]
  },
  {
   "cell_type": "code",
   "execution_count": null,
   "metadata": {},
   "outputs": [],
   "source": [
    "numbers = (1, 2, 3)\n",
    "numbers[2] = 4"
   ]
  },
  {
   "attachments": {},
   "cell_type": "markdown",
   "metadata": {},
   "source": [
    "## String Indexing "
   ]
  },
  {
   "attachments": {},
   "cell_type": "markdown",
   "metadata": {},
   "source": [
    "Strings are immutable, so you cannot change the value of a string. However, you can access items from a string using indexing and slicing."
   ]
  },
  {
   "cell_type": "code",
   "execution_count": null,
   "metadata": {},
   "outputs": [],
   "source": [
    "word = \"hello\"\n",
    "print(word[4])"
   ]
  },
  {
   "attachments": {},
   "cell_type": "markdown",
   "metadata": {},
   "source": [
    "Like tuples, strings are immutable. This means that you cannot change the characters inside a string through indexing."
   ]
  },
  {
   "cell_type": "code",
   "execution_count": null,
   "metadata": {},
   "outputs": [],
   "source": [
    "word = \"hello\"\n",
    "word[4] = \"a\""
   ]
  },
  {
   "attachments": {},
   "cell_type": "markdown",
   "metadata": {},
   "source": [
    "## Negative Indexing"
   ]
  },
  {
   "attachments": {},
   "cell_type": "markdown",
   "metadata": {},
   "source": [
    "Negative indexing is a way to access items from the end of a collection. For example, the index of the last item in a list is `-1`, the index of the second last item in a list is `-2`, and so on."
   ]
  },
  {
   "cell_type": "code",
   "execution_count": null,
   "metadata": {},
   "outputs": [],
   "source": [
    "numbers = [1, 2, 3, 4, 5]\n",
    "print(numbers[-1])"
   ]
  },
  {
   "attachments": {},
   "cell_type": "markdown",
   "metadata": {},
   "source": [
    "## Slicing"
   ]
  },
  {
   "attachments": {},
   "cell_type": "markdown",
   "metadata": {},
   "source": [
    "The syntax for slicing is `start_index:end_index:step`. The `start_index` is the index of the first item in the group and the `end_index` is the index of the last item in the group. The `end_index` is not included in the group. The `step` is the number of items to skip between each item in the group. The default value of `step` is `1`."
   ]
  },
  {
   "cell_type": "code",
   "execution_count": null,
   "metadata": {},
   "outputs": [],
   "source": [
    "numbers = [1, 2, 3, 4, 5]\n",
    "print(numbers[1:3])"
   ]
  },
  {
   "attachments": {},
   "cell_type": "markdown",
   "metadata": {},
   "source": [
    "## Exercises"
   ]
  },
  {
   "attachments": {},
   "cell_type": "markdown",
   "metadata": {},
   "source": [
    "1. Given the following list of fruits:\n",
    "    ```python\n",
    "    fruits = [\"apple\", \"banana\", \"cherry\", \"orange\", \"kiwi\"]\n",
    "    ```\n",
    "\n",
    "    a. Access the second fruit in the list.\\\n",
    "    b. Access the last fruit in the list using negative indexing.\\\n",
    "    c. Access the first three fruits in the list using slicing. \\\n",
    "    d. Change the value of the last fruit in the list to \"grape\".\n",
    "\n",
    "2. Given the following string:\n",
    "    ```python\n",
    "    word = \"hello, world\"\n",
    "    ```\n",
    "\n",
    "    a. Access the first character in the string.\\\n",
    "    b. Access the last character in the string using negative indexing.\\\n",
    "    c. Access the sub-string \"hello\" in the string.\n",
    "\n",
    "3. Given the following tuple:\n",
    "    ```python\n",
    "    numbers = (1, 2, 3, 4, 5)\n",
    "    ```\n",
    "\n",
    "    a. Access the first number in the tuple.\\\n",
    "    b. Access the last number in the tuple using negative indexing.\\\n",
    "    c. Access the first three numbers in the tuple using slicing. \n",
    "\n",
    "4. Given the following list of numbers:\n",
    "    ```python\n",
    "    numbers = [1, 2, 3, 4, 5, 6, 7, 8, 9, 10]\n",
    "    ```\n",
    "\n",
    "    a. Access every other number in the list using slicing.\\\n",
    "    b. Access the last five numbers in the list using slicing.\\\n",
    "    c. Access the numbers from the middle of the list to the end using slicing. \\\n",
    "    d. Change the value of every even number in the list to the string `\"even\"`.\n",
    " \n",
    "5. Given the following string:\n",
    "    ```python\n",
    "    sentence = \"The quick brown fox jumps over the lazy dog.\"\n",
    "    ```\n",
    "\n",
    "    a. Access the first 10 characters in the string.\\\n",
    "    b. Access the last 10 characters in the string using negative indexing.\\\n",
    "    c. Access the sub-string \"quick brown\" in the string.\n"
   ]
  },
  {
   "attachments": {},
   "cell_type": "markdown",
   "metadata": {},
   "source": [
    "## Further Reading"
   ]
  },
  {
   "attachments": {},
   "cell_type": "markdown",
   "metadata": {},
   "source": [
    "Check out the following resources to learn more about indexing and slicing in Python:\n",
    "- [W3Schools](https://www.w3schools.com/python/python_lists_access.asp)\n",
    "- [GeeksforGeeks](https://www.geeksforgeeks.org/how-to-index-and-slice-strings-in-python/)\n",
    "- [Python Documentation](https://docs.python.org/3/tutorial/introduction.html#lists)\n",
    "\n",
    "Use search terms like \"python indexing\" or \"python slicing\" to find more resources online."
   ]
  }
 ],
 "metadata": {
  "kernelspec": {
   "display_name": "Python 3",
   "language": "python",
   "name": "python3"
  },
  "language_info": {
   "codemirror_mode": {
    "name": "ipython",
    "version": 3
   },
   "file_extension": ".py",
   "mimetype": "text/x-python",
   "name": "python",
   "nbconvert_exporter": "python",
   "pygments_lexer": "ipython3",
   "version": "3.10.6"
  },
  "orig_nbformat": 4,
  "vscode": {
   "interpreter": {
    "hash": "31f2aee4e71d21fbe5cf8b01ff0e069b9275f58929596ceb00d14d90e3e16cd6"
   }
  }
 },
 "nbformat": 4,
 "nbformat_minor": 2
}
