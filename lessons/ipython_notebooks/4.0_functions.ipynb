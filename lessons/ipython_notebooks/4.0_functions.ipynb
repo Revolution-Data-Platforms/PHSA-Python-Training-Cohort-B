{
 "cells": [
  {
   "attachments": {},
   "cell_type": "markdown",
   "metadata": {},
   "source": [
    "# Functions\n"
   ]
  },
  {
   "attachments": {},
   "cell_type": "markdown",
   "metadata": {},
   "source": [
    "Functions in Python are reusable blocks of code that can be executed whenever you need to perform a specific task. They can take inputs and produce outputs, and are a powerful tool for organizing and simplifying your code. To define a function in Python, you use the `def` keyword followed by the name of the function, any parameters it takes (in parentheses), and a colon. The body of the function is indented below the definition. The syntax for defining a function is as follows:\n",
    "\n",
    "```python\n",
    "def function_name(input1, input2, ...):\n",
    "    \"\"\"Optional docstring describing function.\"\"\"\n",
    "    # do something\n",
    "    return output # optional\n",
    "```\n"
   ]
  },
  {
   "attachments": {},
   "cell_type": "markdown",
   "metadata": {},
   "source": [
    "## Defining and calling a function\n"
   ]
  },
  {
   "attachments": {},
   "cell_type": "markdown",
   "metadata": {},
   "source": [
    "Here's an example of defining and calling a function:\n"
   ]
  },
  {
   "cell_type": "code",
   "execution_count": null,
   "metadata": {},
   "outputs": [],
   "source": [
    "# Define the function\n",
    "def greet():\n",
    "    pass\n",
    "\n",
    "greet()\n"
   ]
  },
  {
   "attachments": {},
   "cell_type": "markdown",
   "metadata": {},
   "source": [
    "In this example, we define a function called `greet`. It currently takes no arguments and uses the pass statement as a placeholder to do nothing. We will fill out this function in the next section.\n"
   ]
  },
  {
   "attachments": {},
   "cell_type": "markdown",
   "metadata": {},
   "source": [
    "## Parameters and Arguments\n"
   ]
  },
  {
   "attachments": {},
   "cell_type": "markdown",
   "metadata": {},
   "source": [
    "When you define a function, you can specify one or more parameters that the function expects to receive when it is called. Parameters are like placeholders for values that will be passed in as arguments when the function is called.\n",
    "\n",
    "Here's an example of a function with one parameter:\n"
   ]
  },
  {
   "cell_type": "code",
   "execution_count": null,
   "metadata": {},
   "outputs": [],
   "source": [
    "def greet(name):\n",
    "    print(\"Hello, \" + name + \"!\")"
   ]
  },
  {
   "attachments": {},
   "cell_type": "markdown",
   "metadata": {},
   "source": [
    "In this case, `name` is the parameter, and it is used inside the function to print a personalized greeting.\n",
    "\n",
    "When you call a function, you pass in values for each of its parameters, which are called arguments. Here's an example of calling the `greet` function with an argument:\n"
   ]
  },
  {
   "cell_type": "code",
   "execution_count": null,
   "metadata": {},
   "outputs": [],
   "source": [
    "greet(\"Alice\")"
   ]
  },
  {
   "attachments": {},
   "cell_type": "markdown",
   "metadata": {},
   "source": [
    "In this case, we pass in the string `\"Alice\"` as the argument for the name parameter of the `greet` function.\n"
   ]
  },
  {
   "attachments": {},
   "cell_type": "markdown",
   "metadata": {},
   "source": [
    "## Return Values\n"
   ]
  },
  {
   "attachments": {},
   "cell_type": "markdown",
   "metadata": {},
   "source": [
    "Functions in Python can also return values, which can be stored in variables or used in other parts of your code. To return a value from a function, you use the `return` keyword followed by the value you want to return.\n",
    "\n",
    "Here's an example of a function that returns a value:\n"
   ]
  },
  {
   "cell_type": "code",
   "execution_count": null,
   "metadata": {},
   "outputs": [],
   "source": [
    "def add_numbers(a, b):\n",
    "    return a + b"
   ]
  },
  {
   "attachments": {},
   "cell_type": "markdown",
   "metadata": {},
   "source": [
    "When you call this function, it returns the sum of the two numbers you pass in as arguments:\n"
   ]
  },
  {
   "cell_type": "code",
   "execution_count": null,
   "metadata": {},
   "outputs": [],
   "source": [
    "result = add_numbers(2, 3)\n",
    "print(result)"
   ]
  },
  {
   "attachments": {},
   "cell_type": "markdown",
   "metadata": {},
   "source": [
    "In this case, we call the `add_numbers` function with the arguments `2` and `3`, and it returns the value `5`, which we store in the `result` variable and print to the console.\n"
   ]
  },
  {
   "attachments": {},
   "cell_type": "markdown",
   "metadata": {},
   "source": [
    "### Returning Multiple Values\n"
   ]
  },
  {
   "attachments": {},
   "cell_type": "markdown",
   "metadata": {},
   "source": [
    "A function can return multiple values by using a tuple or a list. For example, the following function returns two values:\n"
   ]
  },
  {
   "cell_type": "code",
   "execution_count": null,
   "metadata": {},
   "outputs": [],
   "source": [
    "def get_values():\n",
    "    return 1, 2\n",
    "\n",
    "x, y = get_values()\n",
    "print(x)\n",
    "print(y)\n"
   ]
  },
  {
   "cell_type": "code",
   "execution_count": null,
   "metadata": {},
   "outputs": [],
   "source": [
    "z = get_values()\n",
    "print(z)"
   ]
  },
  {
   "attachments": {},
   "cell_type": "markdown",
   "metadata": {},
   "source": [
    "## Function Arguments and Keyword Arguments\n"
   ]
  },
  {
   "attachments": {},
   "cell_type": "markdown",
   "metadata": {},
   "source": [
    "In Python, we have two types of function arguments:\n",
    "\n",
    "1. Positional arguments: These are the arguments that are passed to a function in a specific order.\n",
    "\n",
    "2. Keyword arguments: These are the arguments that are passed to a function using the keyword argument syntax, which allows us to specify the argument name and its value.\n",
    "\n",
    "Let's see an example of both types of arguments being passed to a function call:\n"
   ]
  },
  {
   "cell_type": "code",
   "execution_count": null,
   "metadata": {},
   "outputs": [],
   "source": [
    "def func(a, b, c):\n",
    "    print(\"a:\", a)\n",
    "    print(\"b:\", b)\n",
    "    print(\"c:\", c)"
   ]
  },
  {
   "cell_type": "code",
   "execution_count": null,
   "metadata": {},
   "outputs": [],
   "source": [
    "func(2, 1, 3)"
   ]
  },
  {
   "cell_type": "code",
   "execution_count": null,
   "metadata": {},
   "outputs": [],
   "source": [
    "func(b=2, c=3, a=1)"
   ]
  },
  {
   "attachments": {},
   "cell_type": "markdown",
   "metadata": {},
   "source": [
    "In the above example, the function `func` takes three arguments, `a`, `b`, and `c`.\n",
    "\n",
    "In the first call, we passed three arguments, which are all positional arguments. The first argument is assigned to `a`, the second to `b`, and the third to `c`. In the second call, we passed the arguments using keyword arguments, so the order does not matter.\n"
   ]
  },
  {
   "attachments": {},
   "cell_type": "markdown",
   "metadata": {},
   "source": [
    "### Default Parameter Values\n"
   ]
  },
  {
   "attachments": {},
   "cell_type": "markdown",
   "metadata": {},
   "source": [
    "You can also provide default values for function parameters, which will be used if no argument is passed in for that parameter. Here's an example:\n"
   ]
  },
  {
   "cell_type": "code",
   "execution_count": null,
   "metadata": {},
   "outputs": [],
   "source": [
    "def greet(name=\"world\"):\n",
    "    print(\"Hello, \" + name + \"!\")"
   ]
  },
  {
   "attachments": {},
   "cell_type": "markdown",
   "metadata": {},
   "source": [
    "In this case, we define a `greet` function with a default parameter value of `\"world\"`. If you call the function with no arguments, it will use the default value:\n"
   ]
  },
  {
   "cell_type": "code",
   "execution_count": null,
   "metadata": {},
   "outputs": [],
   "source": [
    "greet()"
   ]
  },
  {
   "attachments": {},
   "cell_type": "markdown",
   "metadata": {},
   "source": [
    "But you can also override the default value by passing in a different argument:\n"
   ]
  },
  {
   "cell_type": "code",
   "execution_count": null,
   "metadata": {},
   "outputs": [],
   "source": [
    "greet(\"Alice\")"
   ]
  },
  {
   "attachments": {},
   "cell_type": "markdown",
   "metadata": {},
   "source": [
    "In this case, we pass in the string `\"Alice\"` as the argument for the name parameter of the greet function, and it overrides the default value.\n"
   ]
  },
  {
   "attachments": {},
   "cell_type": "markdown",
   "metadata": {},
   "source": [
    "## Variable Scope\n"
   ]
  },
  {
   "attachments": {},
   "cell_type": "markdown",
   "metadata": {},
   "source": [
    "### Local Variables\n"
   ]
  },
  {
   "attachments": {},
   "cell_type": "markdown",
   "metadata": {},
   "source": [
    "Variables that are defined inside a function are said to have local scope. This means that they can only be accessed from within the function, and not from outside of it.\n",
    "\n",
    "Here's an example:\n"
   ]
  },
  {
   "cell_type": "code",
   "execution_count": null,
   "metadata": {},
   "outputs": [],
   "source": [
    "def print_number():\n",
    "    number = 42\n",
    "    print(number)\n",
    "\n",
    "print_number()"
   ]
  },
  {
   "cell_type": "code",
   "execution_count": null,
   "metadata": {},
   "outputs": [],
   "source": [
    "print(number)"
   ]
  },
  {
   "attachments": {},
   "cell_type": "markdown",
   "metadata": {},
   "source": [
    "In this case, the `number` variable is defined inside the `print_number` function, and can only be accessed from within that function. When we try to access it from outside the function, we get a `NameError`.\n"
   ]
  },
  {
   "attachments": {},
   "cell_type": "markdown",
   "metadata": {},
   "source": [
    "### Global Variables\n"
   ]
  },
  {
   "attachments": {},
   "cell_type": "markdown",
   "metadata": {},
   "source": [
    "If you want to use a variable inside a function and also access it outside of the function, you can define it as a global variable. To do this, you use the global keyword followed by the name of the variable, inside the function.\n",
    "\n",
    "Here's an example:\n"
   ]
  },
  {
   "cell_type": "code",
   "execution_count": null,
   "metadata": {},
   "outputs": [],
   "source": [
    "number = 42\n",
    "\n",
    "def print_number():\n",
    "    global number\n",
    "    print(number)\n",
    "    number = 24\n",
    "\n",
    "print_number()"
   ]
  },
  {
   "cell_type": "code",
   "execution_count": null,
   "metadata": {},
   "outputs": [],
   "source": [
    "print(number)"
   ]
  },
  {
   "attachments": {},
   "cell_type": "markdown",
   "metadata": {},
   "source": [
    "Notice how after we define the `number` variable as a global variable, we can access it's edited value from outside the function without returning it. Global variables are generally not used very often, and it's usually better to use local variables instead.\n"
   ]
  },
  {
   "attachments": {},
   "cell_type": "markdown",
   "metadata": {},
   "source": [
    "## Lambda Functions\n"
   ]
  },
  {
   "attachments": {},
   "cell_type": "markdown",
   "metadata": {},
   "source": [
    "Lambda functions are small, anonymous functions in Python that can be defined inline and used wherever a function is required. They are also known as \"anonymous functions\", because they do not have a name like regular functions do.\n",
    "\n",
    "The syntax of a lambda function is very simple. It consists of the keyword lambda, followed by one or more arguments separated by commas, followed by a colon, and then the expression to be returned by the function. Here's the general syntax of a lambda function:\n",
    "\n",
    "```python\n",
    "lambda arguments: expression\n",
    "```\n",
    "\n",
    "Here's an example of a lambda function that takes a single argument and returns its square:\n"
   ]
  },
  {
   "cell_type": "code",
   "execution_count": null,
   "metadata": {},
   "outputs": [],
   "source": [
    "lambda x: x ** 2"
   ]
  },
  {
   "attachments": {},
   "cell_type": "markdown",
   "metadata": {},
   "source": [
    "Here's an example of a lambda function that takes two arguments and returns their sum:\n"
   ]
  },
  {
   "cell_type": "code",
   "execution_count": null,
   "metadata": {},
   "outputs": [],
   "source": [
    "lambda x, y: x + y"
   ]
  },
  {
   "attachments": {},
   "cell_type": "markdown",
   "metadata": {},
   "source": [
    "Lambda functions are useful when you need to define a simple function that will only be used once, and you don't want to define a named function for it.\n"
   ]
  },
  {
   "attachments": {},
   "cell_type": "markdown",
   "metadata": {},
   "source": [
    "### Using Lambda Functions\n"
   ]
  },
  {
   "attachments": {},
   "cell_type": "markdown",
   "metadata": {},
   "source": [
    "Lambda functions are commonly used with other built-in Python functions, such as `map()`, `filter()`, and `reduce()`. These functions take a function as their first argument, and then apply that function to a sequence of values.\n",
    "\n",
    "Here's an example of using a lambda function with the `map()` function:\n"
   ]
  },
  {
   "cell_type": "code",
   "execution_count": null,
   "metadata": {},
   "outputs": [],
   "source": [
    "numbers = [1, 2, 3, 4, 5]\n",
    "squared_numbers = list(map(lambda x: x ** 2, numbers))\n",
    "print(squared_numbers)\n"
   ]
  },
  {
   "attachments": {},
   "cell_type": "markdown",
   "metadata": {},
   "source": [
    "Finally, lambda functions can be assigned to variables, which allows you to use them like regular functions. For example:\n"
   ]
  },
  {
   "cell_type": "code",
   "execution_count": null,
   "metadata": {},
   "outputs": [],
   "source": [
    "square = lambda x: x ** 2\n",
    "print(square(5))"
   ]
  },
  {
   "attachments": {},
   "cell_type": "markdown",
   "metadata": {},
   "source": [
    "## Writing Functions With an Arbitrary Number of Arguments\n"
   ]
  },
  {
   "attachments": {},
   "cell_type": "markdown",
   "metadata": {},
   "source": [
    "`*args` and `**kwargs` are special syntax in Python that allow you to pass a variable number of arguments to a function. The term \"args\" stands for \"arguments\", and \"kwargs\" stands for \"keyword arguments\".\n",
    "\n",
    "`*args` allows you to pass any number of positional arguments to a function, which are then collected into a tuple. This can be useful when you don't know how many arguments a function will need to take ahead of time. Here's an example:\n"
   ]
  },
  {
   "cell_type": "code",
   "execution_count": null,
   "metadata": {},
   "outputs": [],
   "source": [
    "def my_function(*args):\n",
    "    for arg in args:\n",
    "        print(arg)\n",
    "\n",
    "my_function(1, 2, 3)\n"
   ]
  },
  {
   "attachments": {},
   "cell_type": "markdown",
   "metadata": {},
   "source": [
    "`**kwargs` allows you to pass any number of keyword arguments to a function, which are then collected into a dictionary. This can be useful when you want to pass in a large number of arguments, and you want to be able to refer to them by name inside the function. Here's an example:\n"
   ]
  },
  {
   "cell_type": "code",
   "execution_count": null,
   "metadata": {},
   "outputs": [],
   "source": [
    "def my_function(**kwargs):\n",
    "    for key, value in kwargs.items():\n",
    "        print(key, value)\n",
    "\n",
    "my_function(name=\"Alice\", age=30, location=\"London\")\n"
   ]
  },
  {
   "attachments": {},
   "cell_type": "markdown",
   "metadata": {},
   "source": [
    "### Using `*args` and `**kwargs` Together\n"
   ]
  },
  {
   "attachments": {},
   "cell_type": "markdown",
   "metadata": {},
   "source": [
    "You can also use `*args` and `**kwargs` together in the same function definition. In this case, the positional arguments will be collected into the `args` tuple, and the keyword arguments will be collected into the `kwargs` dictionary. Here's an example:\n"
   ]
  },
  {
   "cell_type": "code",
   "execution_count": null,
   "metadata": {},
   "outputs": [],
   "source": [
    "def my_function(*args, **kwargs):\n",
    "    for arg in args:\n",
    "        print(arg)\n",
    "    for key, value in kwargs.items():\n",
    "        print(key, value)\n",
    "\n",
    "my_function(1, 2, 3, name=\"Alice\", age=30, location=\"London\")"
   ]
  },
  {
   "attachments": {},
   "cell_type": "markdown",
   "metadata": {},
   "source": [
    "## Docstrings\n"
   ]
  },
  {
   "attachments": {},
   "cell_type": "markdown",
   "metadata": {},
   "source": [
    "It is good practice to include a docstring for each function you define. A docstring is a string that describes what the function does, and is enclosed in triple quotes. Like comments in Python, docstrings are ignored by the Python interpreter, but they are used by other tools, such as IDEs and documentation generators. Here's an example:\n"
   ]
  },
  {
   "cell_type": "code",
   "execution_count": null,
   "metadata": {},
   "outputs": [],
   "source": [
    "def print_number(number):\n",
    "    \"\"\"Prints the input number.\"\"\"\n",
    "    print(number)"
   ]
  },
  {
   "attachments": {},
   "cell_type": "markdown",
   "metadata": {},
   "source": [
    "## Exercises\n"
   ]
  },
  {
   "attachments": {},
   "cell_type": "markdown",
   "metadata": {},
   "source": [
    "1.  Write a function that takes two numbers as arguments and returns their sum.\n",
    "2.  Write a function that takes a string as an argument and returns the string reversed.\n",
    "3.  Write a function that takes a list of numbers as an argument and returns the largest number in the list.\n",
    "4.  Write a function that takes a list of strings as an argument and returns the longest string in the list.\n",
    "5.  Write a function that takes a string as an argument and returns a count of how many vowels are in the string.\n",
    "6.  Write a function that takes a list of numbers as an argument and returns a new list with each number squared.\n",
    "7.  Write a function that takes a list of strings as an argument and returns a new list with each string capitalized.\n",
    "8.  Write a function that takes a list of numbers as an argument and returns the average of the numbers.\n",
    "9.  Write a function that takes two strings as arguments and returns `True` if they are anagrams (contain the same letters, regardless of order), and `False` otherwise.\n",
    "10. Write a function that takes a list of numbers as an argument and returns the median of the numbers (the middle value, if the list is sorted).\n",
    "11. Write a lambda function that takes a list of integers and returns a new list with each integer multiplied by 2.\n",
    "12. Write a lambda function that takes a list of strings and returns a new list with each string in uppercase.\n",
    "13. Write a function that takes any number of arguments using \\*args and returns the average of all the arguments.\n",
    "14. Write a function that takes any number of keyword arguments using \\*\\*kwargs and returns a new dictionary with all the key-value pairs reversed, i.e. where the keys are the values and the values are the keys.\n",
    "15. Below is a complex Python script that performs several tasks related to processing a list of students and their grades. Rewrite the script using functions to make it more readable and maintainable. This is a process called refactoring, and it is an important part of writing good code.\n",
    "\n",
    "    ```python\n",
    "    students = [\n",
    "    {\"name\": \"Alice\", \"grades\": [90, 85, 88]},\n",
    "    {\"name\": \"Bob\", \"grades\": [80, 75, 78]},\n",
    "    {\"name\": \"Charlie\", \"grades\": [87, 91, 94]},\n",
    "    {\"name\": \"David\", \"grades\": [76, 82, 85]},\n",
    "    {\"name\": \"Eve\", \"grades\": [90, 92, 95]}\n",
    "    ]\n",
    "\n",
    "    # Calculate the average grade for each student\n",
    "    for student in students:\n",
    "        total = 0\n",
    "        count = 0\n",
    "        for grade in student[\"grades\"]:\n",
    "            total += grade\n",
    "            count += 1\n",
    "        average = total / count\n",
    "        student[\"average\"] = average\n",
    "\n",
    "    # Find the highest average\n",
    "    highest_average = 0\n",
    "    top_student = None\n",
    "    for student in students:\n",
    "        if student[\"average\"] > highest_average:\n",
    "            highest_average = student[\"average\"]\n",
    "            top_student = student[\"name\"]\n",
    "\n",
    "    # Print the top student and their average\n",
    "    print(f\"The top student is {top_student} with an average grade of {highest_average:.2f}\")\n",
    "\n",
    "    # Find the lowest average\n",
    "    lowest_average = 100\n",
    "    bottom_student = None\n",
    "    for student in students:\n",
    "        if student[\"average\"] < lowest_average:\n",
    "            lowest_average = student[\"average\"]\n",
    "            bottom_student = student[\"name\"]\n",
    "\n",
    "    # Print the bottom student and their average\n",
    "    print(f\"The bottom student is {bottom_student} with an average grade of {lowest_average:.2f}\")\n",
    "\n",
    "    # Calculate the overall class average\n",
    "    total_class_average = 0\n",
    "    for student in students:\n",
    "        total_class_average += student[\"average\"]\n",
    "    total_class_average /= len(students)\n",
    "\n",
    "    # Print the class average\n",
    "    print(f\"The class average is {total_class_average:.2f}\")\n",
    "    ```\n",
    "\n",
    "    The script performs the following tasks:\n",
    "\n",
    "        1. Calculate the average grade for each student.\n",
    "        2. Find the student with the highest average grade.\n",
    "        3. Find the student with the lowest average grade.\n",
    "        4. Calculate the overall class average.\n",
    "\n",
    "    These tasks can be refactored into separate functions to improve code readability, maintainability, and testability.\n"
   ]
  },
  {
   "attachments": {},
   "cell_type": "markdown",
   "metadata": {},
   "source": [
    "## Project: Temperature Converter\n"
   ]
  },
  {
   "attachments": {},
   "cell_type": "markdown",
   "metadata": {},
   "source": [
    "Create a Python program that converts temperature from Fahrenheit to Celsius and vice versa. The program should use functions to perform the conversions.\n"
   ]
  },
  {
   "attachments": {},
   "cell_type": "markdown",
   "metadata": {},
   "source": [
    "### Project Requirements\n"
   ]
  },
  {
   "attachments": {},
   "cell_type": "markdown",
   "metadata": {},
   "source": [
    "1. The program should allow the user to convert temperature from Fahrenheit to Celsius and vice versa.\n",
    "2. The program should use functions to perform the conversions.\n",
    "3. The program should handle errors appropriately, for example, when the user enters non-numeric inputs.\n"
   ]
  },
  {
   "attachments": {},
   "cell_type": "markdown",
   "metadata": {},
   "source": [
    "### Example Output\n"
   ]
  },
  {
   "attachments": {},
   "cell_type": "markdown",
   "metadata": {},
   "source": [
    "```\n",
    "Temperature Converter\n",
    "\n",
    "Choose an option:\n",
    "1. Fahrenheit to Celsius\n",
    "2. Celsius to Fahrenheit\n",
    "\n",
    "Enter your choice (1/2): 1\n",
    "\n",
    "Enter temperature in Fahrenheit: 32\n",
    "32°F is 0°C.\n",
    "```\n"
   ]
  },
  {
   "attachments": {},
   "cell_type": "markdown",
   "metadata": {},
   "source": [
    "## Bonus Projects: Converting to Functions\n"
   ]
  },
  {
   "attachments": {},
   "cell_type": "markdown",
   "metadata": {},
   "source": [
    "Try to refactor your previous project code to use functions! For example, your `Simple Calculator` project could be adapted to use functions for each operation. You can also try to refactor your `Grocery List` project to use functions. Refactoring code is a common practice in programming, and it is a great way to improve your code. Having reproducible code in functions will make it easier to reuse, test and debug your code, as well as reducing the chances of errors creeping in in the first place! It will also make your code more readable and easier to maintain, which is important for larger projects and projects with multiple collaborators.\n"
   ]
  },
  {
   "attachments": {},
   "cell_type": "markdown",
   "metadata": {},
   "source": [
    "## Further Reading\n"
   ]
  },
  {
   "attachments": {},
   "cell_type": "markdown",
   "metadata": {},
   "source": [
    "Check out these resources to learn more about functions in Python:\n",
    "\n",
    "- W3Schools\n",
    "  - [Python Functions](https://www.w3schools.com/python/python_functions.asp)\n",
    "- Real Python\n",
    "  - [Python Functions](https://realpython.com/defining-your-own-python-function/)\n",
    "  - [Python Function Arguments](https://realpython.com/python-kwargs-and-args/)\n",
    "  - [Python Docstrings](https://realpython.com/documenting-python-code/)\n",
    "- Python Documentation\n",
    "  - [Functions](https://docs.python.org/3/tutorial/controlflow.html#defining-functions)\n",
    "  - [Default Argument Values](https://docs.python.org/3/tutorial/controlflow.html#default-argument-values)\n",
    "  - [Keyword Arguments](https://docs.python.org/3/tutorial/controlflow.html#keyword-arguments)\n",
    "  - [Variable Scope](https://docs.python.org/3/tutorial/controlflow.html#tut-scope)\n"
   ]
  }
 ],
 "metadata": {
  "kernelspec": {
   "display_name": "Python 3",
   "language": "python",
   "name": "python3"
  },
  "language_info": {
   "codemirror_mode": {
    "name": "ipython",
    "version": 3
   },
   "file_extension": ".py",
   "mimetype": "text/x-python",
   "name": "python",
   "nbconvert_exporter": "python",
   "pygments_lexer": "ipython3",
   "version": "3.10.6"
  },
  "orig_nbformat": 4,
  "vscode": {
   "interpreter": {
    "hash": "916dbcbb3f70747c44a77c7bcd40155683ae19c65e1c03b4aa3499c5328201f1"
   }
  }
 },
 "nbformat": 4,
 "nbformat_minor": 2
}
