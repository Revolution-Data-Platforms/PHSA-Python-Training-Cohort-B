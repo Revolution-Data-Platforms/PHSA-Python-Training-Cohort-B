{
 "cells": [
  {
   "attachments": {},
   "cell_type": "markdown",
   "metadata": {},
   "source": [
    "# NumPy\n"
   ]
  },
  {
   "attachments": {},
   "cell_type": "markdown",
   "metadata": {},
   "source": [
    "NumPy is a popular Python library used for scientific computing. It provides a high-performance multi-dimensional array object, as well as tools for working with these arrays. NumPy is especially useful for numerical and scientific computations, such as linear algebra, statistical analysis, and machine learning.\n",
    "\n",
    "NumPy is an essential component of the scientific Python ecosystem, and it is used extensively in many popular libraries, including SciPy, pandas, scikit-learn, and TensorFlow.\n",
    "\n",
    "In this tutorial, we will cover the basics of using NumPy, including:\n",
    "\n",
    "1. Installing NumPy\n",
    "2. Creating NumPy arrays\n",
    "3. Array indexing and slicing\n",
    "4. Array manipulation\n",
    "5. Mathematical operations\n",
    "6. Broadcasting\n",
    "7. Linear algebra operations\n"
   ]
  },
  {
   "attachments": {},
   "cell_type": "markdown",
   "metadata": {},
   "source": [
    "## Installing NumPy\n"
   ]
  },
  {
   "attachments": {},
   "cell_type": "markdown",
   "metadata": {},
   "source": [
    "NumPy is available through the Python Package Index (PyPI), which can be installed using the following command in the terminal:\n",
    "\n",
    "```bash\n",
    "pip install numpy\n",
    "```\n"
   ]
  },
  {
   "attachments": {},
   "cell_type": "markdown",
   "metadata": {},
   "source": [
    "## Importing NumPy\n"
   ]
  },
  {
   "attachments": {},
   "cell_type": "markdown",
   "metadata": {},
   "source": [
    "The NumPy library is imported using the following command:\n",
    "\n",
    "```python\n",
    "import numpy\n",
    "```\n",
    "\n",
    "This imports the NumPy library and makes it available for use in our current Python session. We can then access NumPy functions using the `numpy` prefix, such as `numpy.array()`. However, it is more common to import NumPy using the alias `np`:\n"
   ]
  },
  {
   "cell_type": "code",
   "execution_count": null,
   "metadata": {},
   "outputs": [],
   "source": [
    "import numpy as np\n"
   ]
  },
  {
   "attachments": {},
   "cell_type": "markdown",
   "metadata": {},
   "source": [
    "Using this alias, we can instead access NumPy functions using the `np` prefix, such as `np.array()`. This is the convention used in this tutorial.\n"
   ]
  },
  {
   "attachments": {},
   "cell_type": "markdown",
   "metadata": {},
   "source": [
    "## Creating NumPy Arrays\n"
   ]
  },
  {
   "attachments": {},
   "cell_type": "markdown",
   "metadata": {},
   "source": [
    "The most fundamental object in NumPy is the ndarray (n-dimensional array) object. An ndarray is a collection of items of the same type, arranged in a rectangular shape. It can have any number of dimensions, although most commonly we will work with 1D, 2D, and 3D arrays. To create an NumPy array, we can use the `np.array()` function. For example:\n"
   ]
  },
  {
   "cell_type": "code",
   "execution_count": null,
   "metadata": {},
   "outputs": [],
   "source": [
    "import numpy as np\n",
    "\n",
    "# Create a 1D array\n",
    "a = np.array([1, 2, 3])\n",
    "print(a)\n"
   ]
  },
  {
   "cell_type": "code",
   "execution_count": null,
   "metadata": {},
   "outputs": [],
   "source": [
    "# Create a 2D array\n",
    "b = np.array([[1, 2, 3], [4, 5, 6]])\n",
    "print(b)\n"
   ]
  },
  {
   "cell_type": "code",
   "execution_count": null,
   "metadata": {},
   "outputs": [],
   "source": [
    "# Create a 3D array\n",
    "c = np.array([[[1, 2], [3, 4]], [[5, 6], [7, 8]]])\n",
    "print(c)\n"
   ]
  },
  {
   "attachments": {},
   "cell_type": "markdown",
   "metadata": {},
   "source": [
    "## Array Indexing\n"
   ]
  },
  {
   "attachments": {},
   "cell_type": "markdown",
   "metadata": {},
   "source": [
    "NumPy arrays can be indexed and sliced in the same way as regular Python lists. To access a single element of a NumPy array, use the syntax `array[index]`. To access a slice of a NumPy array, use the syntax `array[start:stop:step]` where `start` is the index of the first element in the slice, `stop` is the index of the last element in the slice, and `step` is the number of elements to skip between each element in the slice.\n"
   ]
  },
  {
   "cell_type": "code",
   "execution_count": null,
   "metadata": {},
   "outputs": [],
   "source": [
    "import numpy as np\n",
    "\n",
    "a = np.array([1, 2, 3, 4, 5])\n"
   ]
  },
  {
   "cell_type": "code",
   "execution_count": null,
   "metadata": {},
   "outputs": [],
   "source": [
    "# Get the first element\n",
    "print(a[0])\n"
   ]
  },
  {
   "cell_type": "code",
   "execution_count": null,
   "metadata": {},
   "outputs": [],
   "source": [
    "# Get the last element\n",
    "print(a[-1])\n"
   ]
  },
  {
   "cell_type": "code",
   "execution_count": null,
   "metadata": {},
   "outputs": [],
   "source": [
    "# Get the first three elements\n",
    "print(a[:3])\n"
   ]
  },
  {
   "cell_type": "code",
   "execution_count": null,
   "metadata": {},
   "outputs": [],
   "source": [
    "# Get every other element starting from the second element\n",
    "print(a[1::2])\n"
   ]
  },
  {
   "attachments": {},
   "cell_type": "markdown",
   "metadata": {},
   "source": [
    "Indexing and slicing higher-dimensional arrays is done by passing multiple indices separated by commas. For 2D arrays, also referred to as matrices, the syntax is `array[row, column]`. For 3D arrays, the syntax is `array[matrix, row, column]`. For example:\n"
   ]
  },
  {
   "cell_type": "code",
   "execution_count": null,
   "metadata": {},
   "outputs": [],
   "source": [
    "import numpy as np\n",
    "\n",
    "a = np.array([[1, 2, 3], [4, 5, 6]])\n",
    "b = np.array([[[1, 2], [3, 4]], [[5, 6], [7, 8]]])\n"
   ]
  },
  {
   "cell_type": "code",
   "execution_count": null,
   "metadata": {},
   "outputs": [],
   "source": [
    "# Get the element from the third row and first column from the first array.\n",
    "print(a[1, 0])\n"
   ]
  },
  {
   "cell_type": "code",
   "execution_count": null,
   "metadata": {},
   "outputs": [],
   "source": [
    "# Get the first row of the first array.\n",
    "print(a[0])\n"
   ]
  },
  {
   "cell_type": "code",
   "execution_count": null,
   "metadata": {},
   "outputs": [],
   "source": [
    "# Get the last column of the first array.\n",
    "print(a[:, -1])\n"
   ]
  },
  {
   "cell_type": "code",
   "execution_count": null,
   "metadata": {},
   "outputs": [],
   "source": [
    "# Get the element from the second matrix, first row and first column from the second array.\n",
    "print(b[1, 0, 0])\n"
   ]
  },
  {
   "cell_type": "code",
   "execution_count": null,
   "metadata": {},
   "outputs": [],
   "source": [
    "# Get the second matrix of the second array.\n",
    "print(b[1])\n"
   ]
  },
  {
   "cell_type": "code",
   "execution_count": null,
   "metadata": {},
   "outputs": [],
   "source": [
    "# Get the first row from each matrix of the second array.\n",
    "print(b[:, 0])\n"
   ]
  },
  {
   "attachments": {},
   "cell_type": "markdown",
   "metadata": {},
   "source": [
    "As you can see, there are multiple options to access the elements in your arrays and to slice them. It can be confusing at first, but with practice you will get used to it. For each higher dimension, we add another index separated by commas. This follows the formula `array[dim_n, dim_n-1, ..., dim_0]` where n is the number of dimensions.\n"
   ]
  },
  {
   "attachments": {},
   "cell_type": "markdown",
   "metadata": {},
   "source": [
    "## Array Manipulation\n"
   ]
  },
  {
   "attachments": {},
   "cell_type": "markdown",
   "metadata": {},
   "source": [
    "NumPy arrays can be manipulated in a variety of ways. For example, we can reshape an array using the `array.reshape()` method. We can also transpose an array using the `array.transpose()` attribute. For example:\n"
   ]
  },
  {
   "cell_type": "code",
   "execution_count": null,
   "metadata": {},
   "outputs": [],
   "source": [
    "import numpy as np\n",
    "\n",
    "a = np.array([[1, 2, 3], [4, 5, 6]])\n"
   ]
  },
  {
   "cell_type": "code",
   "execution_count": null,
   "metadata": {},
   "outputs": [],
   "source": [
    "# Reshape the array to have three rows and two columns\n",
    "b = np.reshape(a, (3, 2))\n",
    "print(b)\n"
   ]
  },
  {
   "cell_type": "code",
   "execution_count": null,
   "metadata": {},
   "outputs": [],
   "source": [
    "# Transpose the array to have two rows and three columns\n",
    "c = np.transpose(a)\n",
    "print(c)\n"
   ]
  },
  {
   "attachments": {},
   "cell_type": "markdown",
   "metadata": {},
   "source": [
    "The transpose method can be also accessed in shorthand using the `array.T` attribute. For example:\n"
   ]
  },
  {
   "cell_type": "code",
   "execution_count": null,
   "metadata": {},
   "outputs": [],
   "source": [
    "import numpy as np\n",
    "\n",
    "a = np.array([[1, 2, 3], [4, 5, 6]])\n",
    "\n",
    "# Transpose the array to have two rows and three columns\n",
    "b = a.T\n",
    "print(b)\n"
   ]
  },
  {
   "attachments": {},
   "cell_type": "markdown",
   "metadata": {},
   "source": [
    "Other useful methods include `array.flatten()`, which flattens the array into a 1D array, and `array.ravel()`, which also flattens the array into a 1D array, but returns a view of the original array instead of a copy. For example:\n"
   ]
  },
  {
   "cell_type": "code",
   "execution_count": null,
   "metadata": {},
   "outputs": [],
   "source": [
    "import numpy as np\n",
    "\n",
    "a = np.array([[1, 2, 3], [4, 5, 6]])\n"
   ]
  },
  {
   "cell_type": "code",
   "execution_count": null,
   "metadata": {},
   "outputs": [],
   "source": [
    "# Flatten the array and return a copy\n",
    "b = a.flatten()\n",
    "print(b)\n"
   ]
  },
  {
   "cell_type": "code",
   "execution_count": null,
   "metadata": {},
   "outputs": [],
   "source": [
    "# Flatten the array and return a reference\n",
    "c = a.ravel()\n",
    "print(c)\n"
   ]
  },
  {
   "cell_type": "code",
   "execution_count": null,
   "metadata": {},
   "outputs": [],
   "source": [
    "# Alter the array and see the changes in b and c.\n",
    "a[1, 1] = 10\n",
    "\n",
    "print(b, c)\n"
   ]
  },
  {
   "attachments": {},
   "cell_type": "markdown",
   "metadata": {},
   "source": [
    "This tutorial only covers a small subset of the many useful operations that NumPy provides. For a more comprehensive list of NumPy operations, see the [NumPy Reference](https://numpy.org/doc/stable/reference/index.html).\n"
   ]
  },
  {
   "attachments": {},
   "cell_type": "markdown",
   "metadata": {},
   "source": [
    "## Mathematical Operations\n"
   ]
  },
  {
   "attachments": {},
   "cell_type": "markdown",
   "metadata": {},
   "source": [
    "NumPy provides a wide range of mathematical functions and operations that can be applied to arrays. Some of the most commonly used functions include `np.sum()`, `np.mean()`, `np.std()`, `np.min()`, and `np.max()`. For example:\n"
   ]
  },
  {
   "cell_type": "code",
   "execution_count": null,
   "metadata": {},
   "outputs": [],
   "source": [
    "import numpy as np\n",
    "\n",
    "a = np.array([1, 2, 3, 4, 5])\n"
   ]
  },
  {
   "cell_type": "code",
   "execution_count": null,
   "metadata": {},
   "outputs": [],
   "source": [
    "# Compute the sum of the array\n",
    "print(np.sum(a))\n"
   ]
  },
  {
   "cell_type": "code",
   "execution_count": null,
   "metadata": {},
   "outputs": [],
   "source": [
    "# Compute the mean of the array\n",
    "print(np.mean(a))\n"
   ]
  },
  {
   "cell_type": "code",
   "execution_count": null,
   "metadata": {},
   "outputs": [],
   "source": [
    "# Compute the standard deviation of the array\n",
    "print(np.std(a))\n"
   ]
  },
  {
   "cell_type": "code",
   "execution_count": null,
   "metadata": {},
   "outputs": [],
   "source": [
    "# Find the minimum value in the array\n",
    "print(np.min(a))\n"
   ]
  },
  {
   "cell_type": "code",
   "execution_count": null,
   "metadata": {},
   "outputs": [],
   "source": [
    "# Find the maximum value in the array\n",
    "print(np.max(a))\n"
   ]
  },
  {
   "attachments": {},
   "cell_type": "markdown",
   "metadata": {},
   "source": [
    "## Broadcasting\n"
   ]
  },
  {
   "attachments": {},
   "cell_type": "markdown",
   "metadata": {},
   "source": [
    "NumPy's broadcasting capability allows mathematical operations to be performed on arrays of different shapes and sizes. For example, you can add a scalar to an array, or add two arrays with different shapes. For example:\n"
   ]
  },
  {
   "cell_type": "code",
   "execution_count": null,
   "metadata": {},
   "outputs": [],
   "source": [
    "import numpy as np\n",
    "\n",
    "a = np.array([[1, 2, 3], [4, 5, 6]])\n",
    "b = np.array([10, 20, 30])\n"
   ]
  },
  {
   "cell_type": "code",
   "execution_count": null,
   "metadata": {},
   "outputs": [],
   "source": [
    "# Add the scalar 1 to every element of the array a\n",
    "print(a + 1)\n"
   ]
  },
  {
   "cell_type": "code",
   "execution_count": null,
   "metadata": {},
   "outputs": [],
   "source": [
    "# Add the array b to each row of the array a\n",
    "print(a + b)\n"
   ]
  },
  {
   "cell_type": "code",
   "execution_count": null,
   "metadata": {},
   "outputs": [],
   "source": [
    "# Multiply every element of the array a by 2\n",
    "print(a * 2)\n"
   ]
  },
  {
   "cell_type": "code",
   "execution_count": null,
   "metadata": {},
   "outputs": [],
   "source": [
    "# Multiply each row of the array a by the array b\n",
    "print(a * b)\n"
   ]
  },
  {
   "attachments": {},
   "cell_type": "markdown",
   "metadata": {},
   "source": [
    "Broadcasting operations will fail if the arrays do not have compatible shapes. For example, the following code will fail:\n"
   ]
  },
  {
   "cell_type": "code",
   "execution_count": null,
   "metadata": {},
   "outputs": [],
   "source": [
    "import numpy as np\n",
    "\n",
    "a = np.array([[1, 2, 3], [4, 5, 6]])\n",
    "b = np.array([[10, 20, 30, 40, 50, 60]])\n",
    "\n",
    "# Add array a to array b\n",
    "print(a + b)\n"
   ]
  },
  {
   "attachments": {},
   "cell_type": "markdown",
   "metadata": {},
   "source": [
    "Once again, this can be confusing at first, but with practice you will get used to it.\n"
   ]
  },
  {
   "attachments": {},
   "cell_type": "markdown",
   "metadata": {},
   "source": [
    "## Linear Algebra Operations\n"
   ]
  },
  {
   "attachments": {},
   "cell_type": "markdown",
   "metadata": {},
   "source": [
    "NumPy provides a range of functions for performing linear algebra operations, such as matrix multiplication, dot products, and eigenvalue decomposition. For example:\n"
   ]
  },
  {
   "cell_type": "code",
   "execution_count": null,
   "metadata": {},
   "outputs": [],
   "source": [
    "import numpy as np\n",
    "\n",
    "a = np.array([[1, 2], [3, 4]])\n",
    "b = np.array([[5, 6], [7, 8]])\n"
   ]
  },
  {
   "cell_type": "code",
   "execution_count": null,
   "metadata": {},
   "outputs": [],
   "source": [
    "# Multiply two matrices\n",
    "print(np.dot(a, b))\n"
   ]
  },
  {
   "cell_type": "code",
   "execution_count": null,
   "metadata": {},
   "outputs": [],
   "source": [
    "# Compute the eigenvalues and eigenvectors of a matrix\n",
    "eigvals, eigvecs = np.linalg.eig(a)\n",
    "print(eigvals)\n",
    "print(eigvecs)\n"
   ]
  },
  {
   "attachments": {},
   "cell_type": "markdown",
   "metadata": {},
   "source": [
    "## Exercises\n",
    "\n",
    "Some of these exercises may use methods that we have not covered in this tutorial. If you are unfamiliar with a method, you can use the [NumPy Reference](https://numpy.org/doc/stable/reference/index.html) to look up the method and learn more about it.\n"
   ]
  },
  {
   "attachments": {},
   "cell_type": "markdown",
   "metadata": {},
   "source": [
    "1. Create a NumPy array of integers from 1 to 20 and print its shape, size, and data type.\n",
    "\n",
    "2. Generate a 5x5 NumPy array of random integers between 1 and 100.\n",
    "\n",
    "3. Create a 4x4 identity matrix using NumPy.\n",
    "\n",
    "4. Create two 3x3 NumPy arrays, A and B, with random integers from 1 to 10. Calculate and print their sum, difference, and element-wise product.\n",
    "\n",
    "5. Generate a 1D NumPy array of 20 evenly spaced numbers between 0 and 10 using the `np.linspace()` function.\n",
    "\n",
    "6. Create a 6x6 NumPy array with random integers from 1 to 50. Calculate the mean, median, and standard deviation of its elements.\n",
    "\n",
    "7. Reshape a 1D NumPy array of 16 elements into a 4x4 2D array.\n",
    "\n",
    "8. Create a 5x5 NumPy array with random integers from 1 to 25. Extract a 3x3 subarray from the center of the original array.\n",
    "9. Given a NumPy array, replace all elements that are greater than a specific value, say 10, with 0.\n",
    "\n",
    "10. Create a 10x10 NumPy array with random integers from 1 to 100. Normalize the array by subtracting the mean and dividing by the standard deviation.\n",
    "\n",
    "11. Create two 1D NumPy arrays of equal length, A and B, with random integers from 1 to 20. Calculate the Euclidean distance between A and B.\n",
    "\n",
    "12. Given a 1D NumPy array, find the top 5 maximum values and their indices.\n",
    "\n",
    "13. Create a 3x3 NumPy array with random integers from 1 to 9. Calculate its determinant and eigenvalues using NumPy's linear algebra functions.\n",
    "\n",
    "14. Create a 5x5 NumPy array with random integers from 1 to 25. Sort each row in ascending order.\n",
    "\n",
    "15. Create two 2x2 NumPy arrays, A and B, with random integers from 1 to 5. Calculate and print their matrix multiplication and element-wise product.\n"
   ]
  },
  {
   "attachments": {},
   "cell_type": "markdown",
   "metadata": {},
   "source": [
    "## Project: Matrix Manipulation\n"
   ]
  },
  {
   "attachments": {},
   "cell_type": "markdown",
   "metadata": {},
   "source": [
    "Create a Python program that uses the NumPy package to perform various operations on matrices. The program should allow the user to enter matrices and perform operations such as addition, subtraction, multiplication, and transpose.\n"
   ]
  },
  {
   "attachments": {},
   "cell_type": "markdown",
   "metadata": {},
   "source": [
    "### Project Requirements\n"
   ]
  },
  {
   "attachments": {},
   "cell_type": "markdown",
   "metadata": {},
   "source": [
    "1. The program should use the NumPy package to define matrices and perform operations on them.\n",
    "\n",
    "2. The program should handle errors appropriately, for example, when the user enters matrices with different dimensions.\n"
   ]
  },
  {
   "attachments": {},
   "cell_type": "markdown",
   "metadata": {},
   "source": [
    "### Example Output\n"
   ]
  },
  {
   "attachments": {},
   "cell_type": "markdown",
   "metadata": {},
   "source": [
    "```\n",
    "Matrix Manipulation\n",
    "\n",
    "Enter matrix A:\n",
    "1 2 3\n",
    "4 5 6\n",
    "7 8 9\n",
    "\n",
    "Enter matrix B:\n",
    "9 8 7\n",
    "6 5 4\n",
    "3 2 1\n",
    "\n",
    "Matrix A:\n",
    "[[1 2 3]\n",
    " [4 5 6]\n",
    " [7 8 9]]\n",
    "\n",
    "Matrix B:\n",
    "[[9 8 7]\n",
    " [6 5 4]\n",
    " [3 2 1]]\n",
    "\n",
    "Matrix A + B:\n",
    "[[10 10 10]\n",
    " [10 10 10]\n",
    " [10 10 10]]\n",
    "\n",
    "Matrix A - B:\n",
    "[[-8 -6 -4]\n",
    " [-2  0  2]\n",
    " [ 4  6  8]]\n",
    "\n",
    "Matrix A * B:\n",
    "[[30 24 18]\n",
    " [84 69 54]\n",
    " [138 114 90]]\n",
    "\n",
    "Matrix A transpose:\n",
    "[[1 4 7]\n",
    " [2 5 8]\n",
    " [3 6 9]]\n",
    "```\n"
   ]
  },
  {
   "attachments": {},
   "cell_type": "markdown",
   "metadata": {},
   "source": [
    "## Further Reading\n"
   ]
  },
  {
   "attachments": {},
   "cell_type": "markdown",
   "metadata": {},
   "source": [
    "Check out the following resources to learn more about the NumPy package in python:\n",
    "\n",
    "- Documentation\n",
    "  - [NumPy Documentation](https://numpy.org/doc/stable/index.html)\n",
    "  - [NumPy Reference](https://numpy.org/doc/stable/reference/index.html)\n",
    "- Tutorials\n",
    "  - [NumPy Tutorial](https://numpy.org/doc/stable/user/quickstart.html)\n",
    "  - [W3Schools](https://www.w3schools.com/python/numpy/default.asp)\n",
    "  - [Tutorials Point](https://www.tutorialspoint.com/numpy/index.htm)\n",
    "  - [DataCamp](https://www.datacamp.com/community/tutorials/python-numpy-tutorial)\n",
    "  - [DataQuest](https://www.dataquest.io/blog/numpy-tutorial-python/)\n",
    "\n",
    "Now we're delving into into the big wide world of external Python packages. This is the bread and butter of Python, and it's where you'll find most of the functionality you'll need to do anything useful. These packages are written by other people, and they're usually pretty good at what they do. The only downside is that you have to install them yourself, and you have to learn how to use them independently.\n",
    "\n",
    "Whilst these tutorials will give you a good overview of how to use the packages, you'll have to do a bit of research to find out how to do specific things. This is a good thing, because it means you'll be able to find the answers to your own questions, and you'll be able to use the packages in ways that the tutorials don't cover.\n",
    "\n",
    "Remember, the internet is your friend. If you're stuck, search engines are your best friend. If you can't find the answer to your question, try reaching out to your colleagues or your tutor.\n"
   ]
  }
 ],
 "metadata": {
  "kernelspec": {
   "display_name": "Python 3",
   "language": "python",
   "name": "python3"
  },
  "language_info": {
   "codemirror_mode": {
    "name": "ipython",
    "version": 3
   },
   "file_extension": ".py",
   "mimetype": "text/x-python",
   "name": "python",
   "nbconvert_exporter": "python",
   "pygments_lexer": "ipython3",
   "version": "3.10.6"
  },
  "orig_nbformat": 4,
  "vscode": {
   "interpreter": {
    "hash": "31f2aee4e71d21fbe5cf8b01ff0e069b9275f58929596ceb00d14d90e3e16cd6"
   }
  }
 },
 "nbformat": 4,
 "nbformat_minor": 2
}
