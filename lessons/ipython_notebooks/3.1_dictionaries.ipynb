{
 "cells": [
  {
   "attachments": {},
   "cell_type": "markdown",
   "metadata": {},
   "source": [
    "# Dictionaries\n"
   ]
  },
  {
   "attachments": {},
   "cell_type": "markdown",
   "metadata": {},
   "source": [
    "A dictionary is a data structure in Python that is used to store a collection of key-value pairs. The key in the dictionary is used to index the value, which can be any Python object. Dictionaries are mutable, which means you can modify their contents. They are also unordered, so the order in which items are added to a dictionary is not preserved.\n"
   ]
  },
  {
   "attachments": {},
   "cell_type": "markdown",
   "metadata": {},
   "source": [
    "## Creating a Dictionary\n"
   ]
  },
  {
   "attachments": {},
   "cell_type": "markdown",
   "metadata": {},
   "source": [
    "In Python, dictionaries are defined using curly braces (`{}`). Each key-value pair is separated by a comma (`,`) and the key and value are separated by a colon (`:`). For example:\n"
   ]
  },
  {
   "cell_type": "code",
   "execution_count": null,
   "metadata": {},
   "outputs": [],
   "source": [
    "# create an empty dictionary\n",
    "my_dict = {}\n",
    "\n",
    "# create a dictionary with some key-value pairs\n",
    "my_dict = {'apple': 1, 'banana': 2, 'orange': 3}"
   ]
  },
  {
   "attachments": {},
   "cell_type": "markdown",
   "metadata": {},
   "source": [
    "In the above example, the keys are strings (`'apple'`, `'banana'`, `'orange'`) and the respective values are integers (`1`, `2`, `3`). The keys in a dictionary must be unique. If you try to add a key that already exists, the value will be overwritten.\n"
   ]
  },
  {
   "attachments": {},
   "cell_type": "markdown",
   "metadata": {},
   "source": [
    "## Accessing Values in a Dictionary\n"
   ]
  },
  {
   "attachments": {},
   "cell_type": "markdown",
   "metadata": {},
   "source": [
    "Values in a dictionary can be accessed using the key. For example:\n"
   ]
  },
  {
   "cell_type": "code",
   "execution_count": null,
   "metadata": {},
   "outputs": [],
   "source": [
    "# access a value using a key\n",
    "my_dict = {'apple': 1, 'banana': 2, 'orange': 3}\n",
    "print(my_dict['apple'])"
   ]
  },
  {
   "attachments": {},
   "cell_type": "markdown",
   "metadata": {},
   "source": [
    "If the key does not exist in the dictionary, a `KeyError` will be raised. To avoid this, you can use the `get()` method, which returns `None` if the key is not found in the dictionary:\n"
   ]
  },
  {
   "cell_type": "code",
   "execution_count": null,
   "metadata": {},
   "outputs": [],
   "source": [
    "# access a value using the get method\n",
    "my_dict = {'apple': 1, 'banana': 2, 'orange': 3}\n",
    "print(my_dict.get('apple'))\n",
    "print(my_dict.get('grape'))"
   ]
  },
  {
   "attachments": {},
   "cell_type": "markdown",
   "metadata": {},
   "source": [
    "## Adding and Modifying Key-Value Pairs in a Dictionary\n"
   ]
  },
  {
   "attachments": {},
   "cell_type": "markdown",
   "metadata": {},
   "source": [
    "You can add new key-value pairs to a dictionary by simply assigning a value to a new key. For example:\n"
   ]
  },
  {
   "cell_type": "code",
   "execution_count": null,
   "metadata": {},
   "outputs": [],
   "source": [
    "# add a new key-value pair\n",
    "my_dict = {'apple': 1, 'banana': 2, 'orange': 3}\n",
    "my_dict['grape'] = 4\n",
    "print(my_dict)"
   ]
  },
  {
   "attachments": {},
   "cell_type": "markdown",
   "metadata": {},
   "source": [
    "You can also modify the value of an existing key by assigning a new value to it. For example:\n"
   ]
  },
  {
   "cell_type": "code",
   "execution_count": null,
   "metadata": {},
   "outputs": [],
   "source": [
    "# modify an existing key-value pair\n",
    "my_dict = {'apple': 1, 'banana': 2, 'orange': 3}\n",
    "my_dict['apple'] = 5\n",
    "print(my_dict)"
   ]
  },
  {
   "attachments": {},
   "cell_type": "markdown",
   "metadata": {},
   "source": [
    "## Removing Key-Value Pairs from a Dictionary\n"
   ]
  },
  {
   "attachments": {},
   "cell_type": "markdown",
   "metadata": {},
   "source": [
    "To remove a key-value pair from a dictionary, you can use the `del` keyword or the `pop()` method. For example:\n"
   ]
  },
  {
   "cell_type": "code",
   "execution_count": null,
   "metadata": {},
   "outputs": [],
   "source": [
    "# delete a key-value pair\n",
    "my_dict = {'apple': 1, 'banana': 2, 'orange': 3}\n",
    "del my_dict['apple']\n",
    "print(my_dict)"
   ]
  },
  {
   "cell_type": "code",
   "execution_count": null,
   "metadata": {},
   "outputs": [],
   "source": [
    "# remove a key-value pair using the pop method\n",
    "my_dict = {'apple': 1, 'banana': 2, 'orange': 3}\n",
    "popped_value = my_dict.pop('apple')\n",
    "print(my_dict)\n",
    "print(popped_value)"
   ]
  },
  {
   "attachments": {},
   "cell_type": "markdown",
   "metadata": {},
   "source": [
    "## Iterating Through a Dictionary\n"
   ]
  },
  {
   "attachments": {},
   "cell_type": "markdown",
   "metadata": {},
   "source": [
    "You can iterate through a dictionary using a `for` loop. For example:\n"
   ]
  },
  {
   "cell_type": "code",
   "execution_count": null,
   "metadata": {},
   "outputs": [],
   "source": [
    "# iterate through a dictionary\n",
    "my_dict = {'apple': 1, 'banana': 2, 'orange': 3}\n",
    "for key in my_dict:\n",
    "    print(key, my_dict[key])"
   ]
  },
  {
   "attachments": {},
   "cell_type": "markdown",
   "metadata": {},
   "source": [
    "Alternatively, you can use the `items()` method to iterate through the key-value pairs in a dictionary. For example:\n"
   ]
  },
  {
   "cell_type": "code",
   "execution_count": null,
   "metadata": {},
   "outputs": [],
   "source": [
    "# iterate through a dictionary\n",
    "my_dict = {'apple': 1, 'banana': 2, 'orange': 3}\n",
    "for key, value in my_dict.items():\n",
    "    print(key, value)"
   ]
  },
  {
   "attachments": {},
   "cell_type": "markdown",
   "metadata": {},
   "source": [
    "## Checking if a Key Exists in a Dictionary\n"
   ]
  },
  {
   "attachments": {},
   "cell_type": "markdown",
   "metadata": {},
   "source": [
    "To check whether a key exists in the dictionary, you can use the `in` keyword. For example:\n"
   ]
  },
  {
   "cell_type": "code",
   "execution_count": null,
   "metadata": {},
   "outputs": [],
   "source": [
    "# checking if a key exists\n",
    "my_dict = {'apple': 1, 'banana': 2, 'orange': 3}\n",
    "\n",
    "print('apple' in my_dict)"
   ]
  },
  {
   "attachments": {},
   "cell_type": "markdown",
   "metadata": {},
   "source": [
    "You can also use the `in` keyword in conjunction with an `if` statement to check if a key exists in a dictionary. For example:\n"
   ]
  },
  {
   "cell_type": "code",
   "execution_count": null,
   "metadata": {},
   "outputs": [],
   "source": [
    "# checking if a key exists\n",
    "my_dict = {'apple': 1, 'banana': 2, 'orange': 3}\n",
    "\n",
    "if 'apple' in my_dict:\n",
    "    print('apple exists')\n",
    "elif 'grape' in my_dict:\n",
    "    print('grape exists')"
   ]
  },
  {
   "attachments": {},
   "cell_type": "markdown",
   "metadata": {},
   "source": [
    "As mentioned earlier, the `get()` method returns `None` if the key is not found in the dictionary. You can use this to check if a key exists in a dictionary.\n"
   ]
  },
  {
   "attachments": {},
   "cell_type": "markdown",
   "metadata": {},
   "source": [
    "## Dictionary Comprehensions\n"
   ]
  },
  {
   "attachments": {},
   "cell_type": "markdown",
   "metadata": {},
   "source": [
    "Like lists, dictionaries can also be created using comprehensions. It provides a concise way to create a new dictionary from an iterable using a single line of code. The syntax for dictionary comprehension is as follows:\n",
    "\n",
    "```python\n",
    "{key:value for (key, value) in iterable if condition}\n",
    "```\n",
    "\n",
    "where `key` is the key in the resulting dictionary, `value` is the value in the resulting dictionary, and `iterable` is the iterable you are using to create the dictionary. For example:\n"
   ]
  },
  {
   "cell_type": "code",
   "execution_count": null,
   "metadata": {},
   "outputs": [],
   "source": [
    "numbers = [1, 2, 3, 4, 5]\n",
    "squares = {x: x**2 for x in numbers}\n",
    "print(squares)"
   ]
  },
  {
   "attachments": {},
   "cell_type": "markdown",
   "metadata": {},
   "source": [
    "You can also filter the elements of the iterable using an `if` statement in the dictionary comprehension. For example:\n"
   ]
  },
  {
   "cell_type": "code",
   "execution_count": null,
   "metadata": {},
   "outputs": [],
   "source": [
    "numbers = [1, 2, 3, 4, 5]\n",
    "even_squares = {x: x**2 for x in numbers if x % 2 == 0}\n",
    "print(even_squares)"
   ]
  },
  {
   "attachments": {},
   "cell_type": "markdown",
   "metadata": {},
   "source": [
    "## Exercises\n"
   ]
  },
  {
   "attachments": {},
   "cell_type": "markdown",
   "metadata": {},
   "source": [
    "1. Create a dictionary with the following key-value pairs: `\"name\": \"John\", \"age\": 30, \"city\": \"New York\"`. Print the dictionary.\n",
    "\n",
    "2. Add a new key-value pair to the dictionary from exercise 1: `\"job\": \"programmer\"`. Print the updated dictionary.\n",
    "\n",
    "3. Modify the `age` value in the dictionary from exercise 1 to `35`. Print the updated dictionary.\n",
    "\n",
    "4. Create a dictionary where the keys are the numbers from `1` to `5`, and the values are the squares of those numbers.\n",
    "\n",
    "5. Write a program that returns the sum of all the values in the dictionary.\n",
    "\n",
    "6. Write a program that takes two dictionaries and returns a new dictionary that contains all the key-value pairs from both dictionaries.\n",
    "\n",
    "7. Write a program that reads a file and counts the number of occurrences of each word in the file, using a dictionary to store the counts.\n",
    "\n",
    "8. Write a program that asks the user for their name, age, and favorite color, and stores this information in a dictionary. Print the dictionary.\n",
    "\n",
    "9. Write a program that creates a dictionary where the keys are the names of fruits, and the values are the prices of those fruits. Ask the user to enter a fruit name, and then print the price of that fruit.\n",
    "\n",
    "10. Write a program that creates a dictionary where the keys are the names of students, and the values are lists of their test scores. Ask the user to enter a student name, and then print the average score for that student.\n"
   ]
  },
  {
   "attachments": {},
   "cell_type": "markdown",
   "metadata": {},
   "source": [
    "## Project: Phonebook\n"
   ]
  },
  {
   "attachments": {},
   "cell_type": "markdown",
   "metadata": {},
   "source": [
    "Create a Python program that simulates a phonebook. The program should use a dictionary to store phone numbers and names, and allow the user to add, remove, and look up phone numbers.\n"
   ]
  },
  {
   "attachments": {},
   "cell_type": "markdown",
   "metadata": {},
   "source": [
    "### Project Requirements\n"
   ]
  },
  {
   "attachments": {},
   "cell_type": "markdown",
   "metadata": {},
   "source": [
    "1. The program should allow the user to add phone numbers and names, remove phone numbers, and look up phone numbers.\n",
    "\n",
    "2. The program should use a dictionary to store phone numbers and names.\n",
    "\n",
    "3. The program should handle errors appropriately, for example, when the user enters non-numeric inputs.\n"
   ]
  },
  {
   "attachments": {},
   "cell_type": "markdown",
   "metadata": {},
   "source": [
    "## Example Output\n"
   ]
  },
  {
   "attachments": {},
   "cell_type": "markdown",
   "metadata": {},
   "source": [
    "```\n",
    "Phonebook\n",
    "\n",
    "Choose an option:\n",
    "1. Add phone number\n",
    "2. Remove phone number\n",
    "3. Look up phone number\n",
    "\n",
    "Enter your choice (1/2/3): 1\n",
    "\n",
    "Enter name: John\n",
    "Enter phone number: 1234567890\n",
    "Added John with phone number 1234567890 to phonebook.\n",
    "```\n"
   ]
  },
  {
   "attachments": {},
   "cell_type": "markdown",
   "metadata": {},
   "source": [
    "## Further Reading\n"
   ]
  },
  {
   "attachments": {},
   "cell_type": "markdown",
   "metadata": {},
   "source": [
    "Check out the following resources for more information on dictionaries:\n",
    "\n",
    "- W3Schools\n",
    "  - [Python Dictionaries](https://www.w3schools.com/python/python_dictionaries.asp)\n",
    "  - [Python Dictionary Methods](https://www.w3schools.com/python/python_ref_dictionary.asp)\n",
    "- Real Python\n",
    "  - [Dictionaries in Python](https://realpython.com/python-dicts/)\n",
    "  - [Python Dictionary Methods](https://realpython.com/python-dicts/#dictionary-methods)\n",
    "- Python Documentation\n",
    "  - [Dictionaries](https://docs.python.org/3/tutorial/datastructures.html#dictionaries)\n",
    "  - [Dictionary Methods](https://docs.python.org/3/library/stdtypes.html#dict)\n",
    "  - [Dictionary Views](https://docs.python.org/3/library/stdtypes.html#dictionary-view-objects)\n"
   ]
  }
 ],
 "metadata": {
  "kernelspec": {
   "display_name": "Python 3",
   "language": "python",
   "name": "python3"
  },
  "language_info": {
   "codemirror_mode": {
    "name": "ipython",
    "version": 3
   },
   "file_extension": ".py",
   "mimetype": "text/x-python",
   "name": "python",
   "nbconvert_exporter": "python",
   "pygments_lexer": "ipython3",
   "version": "3.10.6"
  },
  "orig_nbformat": 4,
  "vscode": {
   "interpreter": {
    "hash": "31f2aee4e71d21fbe5cf8b01ff0e069b9275f58929596ceb00d14d90e3e16cd6"
   }
  }
 },
 "nbformat": 4,
 "nbformat_minor": 2
}
