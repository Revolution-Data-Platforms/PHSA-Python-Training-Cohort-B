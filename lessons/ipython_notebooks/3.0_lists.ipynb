{
 "cells": [
  {
   "attachments": {},
   "cell_type": "markdown",
   "metadata": {},
   "source": [
    "# Lists"
   ]
  },
  {
   "attachments": {},
   "cell_type": "markdown",
   "metadata": {},
   "source": [
    "Lists are one of the most essential data structures in Python. They are used to store multiple items in a single variable. A list is created by putting elements inside square brackets (`[]`), separated by commas (`,`). Lists are mutable, meaning that you can change the elements of a list after it has been created.\n",
    "\n",
    "Here's an example of creating a list in Python:"
   ]
  },
  {
   "cell_type": "code",
   "execution_count": null,
   "metadata": {},
   "outputs": [],
   "source": [
    "fruits = [\"apple\", \"banana\", \"cherry\", \"orange\"]\n",
    "print(fruits)"
   ]
  },
  {
   "attachments": {},
   "cell_type": "markdown",
   "metadata": {},
   "source": [
    "In the example above, fruits is a list of strings, but lists can contain elements of any data type, including integers, floats, and even other lists."
   ]
  },
  {
   "attachments": {},
   "cell_type": "markdown",
   "metadata": {},
   "source": [
    "## Accessing Elements of a List"
   ]
  },
  {
   "attachments": {},
   "cell_type": "markdown",
   "metadata": {},
   "source": [
    "You can access individual elements in a list by using the index of the element, which is an integer that specifies the position of the element in the list. Indexing in Python starts from 0, so the first element in the list has an index of 0, the second element has an index of 1, and so on.\n",
    "\n",
    "Here's an example of accessing elements in a list:"
   ]
  },
  {
   "cell_type": "code",
   "execution_count": null,
   "metadata": {},
   "outputs": [],
   "source": [
    "fruits = [\"apple\", \"banana\", \"cherry\", \"orange\"]\n",
    "print(fruits[0])\n",
    "print(fruits[1])\n",
    "print(fruits[2])\n",
    "print(fruits[3])"
   ]
  },
  {
   "attachments": {},
   "cell_type": "markdown",
   "metadata": {},
   "source": [
    "You can also use negative indexing to access elements from the end of the list. The last element in the list has an index of -1, the second-to-last element has an index of -2, and so on."
   ]
  },
  {
   "cell_type": "code",
   "execution_count": null,
   "metadata": {},
   "outputs": [],
   "source": [
    "fruits = [\"apple\", \"banana\", \"cherry\", \"orange\"]\n",
    "print(fruits[-1])\n",
    "print(fruits[-2])\n",
    "print(fruits[-3])\n",
    "print(fruits[-4])"
   ]
  },
  {
   "attachments": {},
   "cell_type": "markdown",
   "metadata": {},
   "source": [
    "## Modifying Elements of a List"
   ]
  },
  {
   "attachments": {},
   "cell_type": "markdown",
   "metadata": {},
   "source": [
    "You can change the elements in a list by assigning new values to them. You can do this by using the index of the element you want to change and the assignment operator (`=`)."
   ]
  },
  {
   "cell_type": "code",
   "execution_count": null,
   "metadata": {},
   "outputs": [],
   "source": [
    "fruits = [\"apple\", \"banana\", \"cherry\", \"orange\"]\n",
    "fruits[1] = \"kiwi\"\n",
    "print(fruits)"
   ]
  },
  {
   "attachments": {},
   "cell_type": "markdown",
   "metadata": {},
   "source": [
    "## Adding Elements to a List"
   ]
  },
  {
   "attachments": {},
   "cell_type": "markdown",
   "metadata": {},
   "source": [
    "You can add elements to a list using the `append()` method, which adds an element to the end of the list."
   ]
  },
  {
   "cell_type": "code",
   "execution_count": null,
   "metadata": {},
   "outputs": [],
   "source": [
    "fruits = [\"apple\", \"banana\", \"cherry\", \"orange\"]\n",
    "fruits.append(\"pear\")\n",
    "print(fruits)"
   ]
  },
  {
   "attachments": {},
   "cell_type": "markdown",
   "metadata": {},
   "source": [
    "You can also add elements to a list using the `insert()` method, which inserts an element at a specified position in the list."
   ]
  },
  {
   "cell_type": "code",
   "execution_count": null,
   "metadata": {},
   "outputs": [],
   "source": [
    "fruits = [\"apple\", \"banana\", \"cherry\", \"orange\"]\n",
    "fruits.insert(1, \"kiwi\")\n",
    "print(fruits)"
   ]
  },
  {
   "attachments": {},
   "cell_type": "markdown",
   "metadata": {},
   "source": [
    "## Removing Elements from a List"
   ]
  },
  {
   "attachments": {},
   "cell_type": "markdown",
   "metadata": {},
   "source": [
    "You can remove elements from a list using the `remove()` method, which removes the first occurrence of the specified element from the list."
   ]
  },
  {
   "cell_type": "code",
   "execution_count": null,
   "metadata": {},
   "outputs": [],
   "source": [
    "fruits = [\"apple\", \"banana\", \"cherry\", \"orange\"]\n",
    "fruits.remove(\"banana\")\n",
    "print(fruits)"
   ]
  },
  {
   "attachments": {},
   "cell_type": "markdown",
   "metadata": {},
   "source": [
    "You can also remove elements from a list using the `pop()` method, which removes the element at a specified position in the list and returns the removed element. If no index is specified, `pop()` removes the last element in the list."
   ]
  },
  {
   "cell_type": "code",
   "execution_count": null,
   "metadata": {},
   "outputs": [],
   "source": [
    "fruits = [\"apple\", \"banana\", \"cherry\", \"orange\"]\n",
    "removed_fruit = fruits.pop(1)\n",
    "print(fruits)\n",
    "print(\"Removed fruit:\", removed_fruit)"
   ]
  },
  {
   "attachments": {},
   "cell_type": "markdown",
   "metadata": {},
   "source": [
    "## Sorting a List"
   ]
  },
  {
   "attachments": {},
   "cell_type": "markdown",
   "metadata": {},
   "source": [
    "You can sort the elements in a list using the `sort()` method, which sorts the elements in ascending order by default."
   ]
  },
  {
   "cell_type": "code",
   "execution_count": null,
   "metadata": {},
   "outputs": [],
   "source": [
    "fruits = [\"cherry\", \"orange\", \"apple\", \"banana\"]\n",
    "fruits.sort()\n",
    "print(fruits)"
   ]
  },
  {
   "attachments": {},
   "cell_type": "markdown",
   "metadata": {},
   "source": [
    "You can sort the elements in descending order by specifying the `reverse=True` argument in the `sort()` method."
   ]
  },
  {
   "cell_type": "code",
   "execution_count": null,
   "metadata": {},
   "outputs": [],
   "source": [
    "fruits = [\"cherry\", \"orange\", \"apple\", \"banana\"]\n",
    "fruits.sort(reverse=True)\n",
    "print(fruits)"
   ]
  },
  {
   "attachments": {},
   "cell_type": "markdown",
   "metadata": {},
   "source": [
    "## List Length"
   ]
  },
  {
   "attachments": {},
   "cell_type": "markdown",
   "metadata": {},
   "source": [
    "You can find the number of elements in a list using the `len()` function."
   ]
  },
  {
   "cell_type": "code",
   "execution_count": null,
   "metadata": {},
   "outputs": [],
   "source": [
    "fruits = [\"apple\", \"banana\", \"cherry\", \"orange\"]\n",
    "num_fruits = len(fruits)\n",
    "print(\"Number of fruits:\", num_fruits)"
   ]
  },
  {
   "attachments": {},
   "cell_type": "markdown",
   "metadata": {},
   "source": [
    "## List of Lists"
   ]
  },
  {
   "attachments": {},
   "cell_type": "markdown",
   "metadata": {},
   "source": [
    "A list of lists is a data structure that contains multiple lists within a single list. This data structure is useful when you want to store a collection of items that can be grouped together, such as a list of students and their grades, a list of items in a grocery store and their prices, etc.\n",
    "\n",
    "Here's an example of how you can create a list of lists in Python:"
   ]
  },
  {
   "cell_type": "code",
   "execution_count": null,
   "metadata": {},
   "outputs": [],
   "source": [
    "students = [['John', 80, 85, 90], ['Jane', 75, 80, 85], ['Jim', 70, 75, 80]]\n",
    "print(students)"
   ]
  },
  {
   "attachments": {},
   "cell_type": "markdown",
   "metadata": {},
   "source": [
    "In the example above, students is a list of lists where each inner list represents a student and their grades.\n",
    "\n",
    "You can access elements in a list of lists by using nested indices. The first index specifies the inner list, and the second index specifies the element within that inner list."
   ]
  },
  {
   "cell_type": "code",
   "execution_count": null,
   "metadata": {},
   "outputs": [],
   "source": [
    "students = [['John', 80, 85, 90], ['Jane', 75, 80, 85], ['Jim', 70, 75, 80]]\n",
    "print(students[0][0])\n",
    "print(students[1][1])\n",
    "print(students[2][2]) "
   ]
  },
  {
   "attachments": {},
   "cell_type": "markdown",
   "metadata": {},
   "source": [
    "You can use loops to iterate over each list in a list of lists."
   ]
  },
  {
   "cell_type": "code",
   "execution_count": null,
   "metadata": {},
   "outputs": [],
   "source": [
    "students = [['John', 80, 85, 90], ['Jane', 75, 80, 85], ['Jim', 70, 75, 80]]\n",
    "\n",
    "for student in students:\n",
    "    print(\"Student Name:\", student[0])\n",
    "    print(\"Grades:\", student[1:])"
   ]
  },
  {
   "attachments": {},
   "cell_type": "markdown",
   "metadata": {},
   "source": [
    "In the example above, the loop iterates over the inner lists of the students list, and the student variable holds the current inner list. The inner lists can further be iterated over using a nested loop. For example:"
   ]
  },
  {
   "cell_type": "code",
   "execution_count": null,
   "metadata": {},
   "outputs": [],
   "source": [
    "students = [['John', 80, 85, 90], ['Jane', 75, 80, 85], ['Jim', 70, 75, 80]]\n",
    "\n",
    "for student in students:\n",
    "    print(\"Student Name:\", student[0])\n",
    "    for grade in student[1:]:\n",
    "        print(grade)"
   ]
  },
  {
   "attachments": {},
   "cell_type": "markdown",
   "metadata": {},
   "source": [
    "In the example above, the first loop iterates over the inner lists of the students list, and the student variable holds the current inner list. The second loop iterates over the elements relating to grade within each inner list."
   ]
  },
  {
   "cell_type": "markdown",
   "metadata": {},
   "source": [
    "\n",
    "You can use the `len()` function to find the number of inner lists in a list of lists."
   ]
  },
  {
   "cell_type": "code",
   "execution_count": null,
   "metadata": {},
   "outputs": [],
   "source": [
    "students = [['John', 80, 85, 90], ['', 75, 80, 85], ['Jim', 70, 75, 80]]\n",
    "\n",
    "num_students = len(students)\n",
    "print(\"Number of students:\", num_students)"
   ]
  },
  {
   "attachments": {},
   "cell_type": "markdown",
   "metadata": {},
   "source": [
    "## List Comprehensions"
   ]
  },
  {
   "attachments": {},
   "cell_type": "markdown",
   "metadata": {},
   "source": [
    "List comprehensions provide a concise and powerful way to create new lists from existing lists. It allows you to create a new list by applying an expression to each element of an existing list.\n",
    "\n",
    "Here's the syntax for a list comprehension:\n",
    "\n",
    "```python\n",
    "new_list = [expression for item in iterable if condition]\n",
    "```\n",
    "\n",
    "- `expression` is the expression that will be applied to each element in the iterable.\n",
    "- `item` is a variable that represents each element in the iterable.\n",
    "- `iterable` is the iterable that contains the elements to be transformed.\n",
    "- `condition` is an optional condition that filters the elements of the iterable based on some criteria.\n",
    "\n",
    "For example, let's say you want to create a new list that contains the squares of the numbers from 1 to 10. You can do this using a list comprehension as follows:"
   ]
  },
  {
   "cell_type": "code",
   "execution_count": null,
   "metadata": {},
   "outputs": [],
   "source": [
    "squares = [x**2 for x in range(1, 11)]\n",
    "print(squares)"
   ]
  },
  {
   "attachments": {},
   "cell_type": "markdown",
   "metadata": {},
   "source": [
    "The example below create a new list that contains only the even numbers from a given list:"
   ]
  },
  {
   "cell_type": "code",
   "execution_count": null,
   "metadata": {},
   "outputs": [],
   "source": [
    "numbers = [1, 2, 3, 4, 5, 6, 7, 8, 9, 10]\n",
    "evens = [x for x in numbers if x % 2 == 0]\n",
    "print(evens)"
   ]
  },
  {
   "attachments": {},
   "cell_type": "markdown",
   "metadata": {},
   "source": [
    "## Exercises"
   ]
  },
  {
   "attachments": {},
   "cell_type": "markdown",
   "metadata": {},
   "source": [
    "1. Create a list of your favorite foods and assign it to a variable called `favorite_foods`.\n",
    "\n",
    "2. Print the length of your `favorite_foods` list.\n",
    "\n",
    "3. Print the second to last element in your `favorite_foods` list.\n",
    "\n",
    "4. Sort your `favorite_foods` list in reverse alphabetical order.\n",
    "\n",
    "5. Modify the first element in your `favorite_foods` list to be a different food.\n",
    "\n",
    "6. Add a new food to the end of your `favorite_foods` list.\n",
    "\n",
    "7. Remove the second element in your `favorite_foods` list.\n",
    "\n",
    "8. Create a list of lists called `people` , where each inner list represents a person's name, age and favorite food.\n",
    "\n",
    "9. Append a new person to the `people` list.\n",
    "\n",
    "10. Print the names of the people in the `people` list.\n",
    "\n",
    "11. Calculate the average age of the people in the `people` list.\n",
    "\n",
    "12. Concatenate the favorite foods of the people in the `people` list into a single string called `people_favorite_foods`.\n",
    "\n",
    "13. Create a new list that contains the squares of the even numbers from a given list.\n",
    "\n",
    "14. Create a new list that contains only the uppercase letters from a given string.\n",
    "\n",
    "15. Create a new list that contains the length of each word in a given sentence."
   ]
  },
  {
   "attachments": {},
   "cell_type": "markdown",
   "metadata": {},
   "source": [
    "## Project: Grocery List"
   ]
  },
  {
   "attachments": {},
   "cell_type": "markdown",
   "metadata": {},
   "source": [
    "### Project Description"
   ]
  },
  {
   "attachments": {},
   "cell_type": "markdown",
   "metadata": {},
   "source": [
    "Create a Python program that acts as a grocery list. The program should allow the user to add and remove items from the list, and display the current list at any time. The program should also allow the user to check whether a particular item is on the list."
   ]
  },
  {
   "attachments": {},
   "cell_type": "markdown",
   "metadata": {},
   "source": [
    "### Project Requirements"
   ]
  },
  {
   "attachments": {},
   "cell_type": "markdown",
   "metadata": {},
   "source": [
    "1. The program should allow the user to add and remove items from the list.\n",
    "2. The program should display the current list at any time.\n",
    "3. The program should allow the user to check whether a particular item is on the list.\n",
    "4. The program should handle errors appropriately, for example, when the user tries to remove an item that is not on the list."
   ]
  },
  {
   "attachments": {},
   "cell_type": "markdown",
   "metadata": {},
   "source": [
    "### Example Output"
   ]
  },
  {
   "attachments": {},
   "cell_type": "markdown",
   "metadata": {},
   "source": [
    "```\n",
    "Welcome to Grocery List!\n",
    "1. Add an item\n",
    "2. Remove an item\n",
    "3. Check if an item is on the list\n",
    "4. Display the current list\n",
    "5. Quit\n",
    "Enter your choice: 1\n",
    "\n",
    "Enter the item to add: Milk\n",
    "Milk has been added to the list.\n",
    "\n",
    "Enter your choice: 1\n",
    "\n",
    "Enter the item to add: Eggs\n",
    "Eggs has been added to the list.\n",
    "\n",
    "Enter your choice: 4\n",
    "\n",
    "Current list: ['Milk', 'Eggs']\n",
    "\n",
    "Enter your choice: 3\n",
    "\n",
    "Enter the item to check: Milk\n",
    "Milk is on the list.\n",
    "\n",
    "Enter your choice: 2\n",
    "\n",
    "Enter the item to remove: Bread\n",
    "Error: Bread is not on the list.\n",
    "\n",
    "Enter your choice: 2\n",
    "\n",
    "Enter the item to remove: Milk\n",
    "Milk has been removed from the list.\n",
    "\n",
    "Enter your choice: 4\n",
    "\n",
    "Current list: ['Eggs']\n",
    "\n",
    "Enter your choice: 5\n",
    "```"
   ]
  },
  {
   "attachments": {},
   "cell_type": "markdown",
   "metadata": {},
   "source": [
    "## Further Reading"
   ]
  },
  {
   "attachments": {},
   "cell_type": "markdown",
   "metadata": {},
   "source": [
    "Check out these following resources to learn more about lists in Python:\n",
    "\n",
    "- W3Schools\n",
    "  - [Python Lists](https://www.w3schools.com/python/python_lists.asp)\n",
    "  - [Python List Methods](https://www.w3schools.com/python/python_ref_list.asp)\n",
    "- Real Python\n",
    "  - [Python Lists and Tuples](https://realpython.com/python-lists-tuples/)\n",
    "- GeeksforGeeks\n",
    "  - [Python Lists](https://www.geeksforgeeks.org/python-list/)\n",
    "- Python Documentation\n",
    "  - [Python List Methods](https://docs.python.org/3/tutorial/datastructures.html#more-on-lists)\n",
    "\n",
    "Additionally, you can use the search terms \"Python lists\" or \"Python list methods\" to find more resources on the internet."
   ]
  }
 ],
 "metadata": {
  "kernelspec": {
   "display_name": "Python 3",
   "language": "python",
   "name": "python3"
  },
  "language_info": {
   "codemirror_mode": {
    "name": "ipython",
    "version": 3
   },
   "file_extension": ".py",
   "mimetype": "text/x-python",
   "name": "python",
   "nbconvert_exporter": "python",
   "pygments_lexer": "ipython3",
   "version": "3.10.6"
  },
  "orig_nbformat": 4,
  "vscode": {
   "interpreter": {
    "hash": "916dbcbb3f70747c44a77c7bcd40155683ae19c65e1c03b4aa3499c5328201f1"
   }
  }
 },
 "nbformat": 4,
 "nbformat_minor": 2
}
