{
 "cells": [
  {
   "attachments": {},
   "cell_type": "markdown",
   "metadata": {},
   "source": [
    "# Strings"
   ]
  },
  {
   "attachments": {},
   "cell_type": "markdown",
   "metadata": {},
   "source": [
    "Strings in Python are sequences of characters. They are immutable, which means that once created, they cannot be changed. Strings are created by enclosing characters in quotes. Single quotes (`'...'`) and double quotes (`\"...\"`) are both used to denote strings, however, it is best to be consistent across your scripts. Here's a quick rundown of the basics of strings in Python:"
   ]
  },
  {
   "attachments": {},
   "cell_type": "markdown",
   "metadata": {},
   "source": [
    "## Creating Strings"
   ]
  },
  {
   "cell_type": "code",
   "execution_count": null,
   "metadata": {},
   "outputs": [],
   "source": [
    "# using single quotes\n",
    "str1 = 'Hello World!'\n",
    "\n",
    "# using double quotes\n",
    "str2 = \"Hello World!\""
   ]
  },
  {
   "attachments": {},
   "cell_type": "markdown",
   "metadata": {},
   "source": [
    "## Accessing Characters"
   ]
  },
  {
   "cell_type": "code",
   "execution_count": null,
   "metadata": {},
   "outputs": [],
   "source": [
    "# access the first character\n",
    "print(str1[0])\n",
    "\n",
    "# access the last character\n",
    "print(str1[-1])"
   ]
  },
  {
   "attachments": {},
   "cell_type": "markdown",
   "metadata": {},
   "source": [
    "## Slicing Strings"
   ]
  },
  {
   "cell_type": "code",
   "execution_count": null,
   "metadata": {},
   "outputs": [],
   "source": [
    "# get a slice of characters from the string\n",
    "print(str1[2:5])"
   ]
  },
  {
   "attachments": {},
   "cell_type": "markdown",
   "metadata": {},
   "source": [
    "## Concatenating Strings"
   ]
  },
  {
   "cell_type": "code",
   "execution_count": null,
   "metadata": {},
   "outputs": [],
   "source": [
    "# using the plus operator\n",
    "str3 = str1 + str2\n",
    "print(str3)"
   ]
  },
  {
   "cell_type": "code",
   "execution_count": null,
   "metadata": {},
   "outputs": [],
   "source": [
    "# using the join method\n",
    "str4 = \" \".join([str1, str2, str3])\n",
    "print(str4)"
   ]
  },
  {
   "attachments": {},
   "cell_type": "markdown",
   "metadata": {},
   "source": [
    "## String Methods"
   ]
  },
  {
   "attachments": {},
   "cell_type": "markdown",
   "metadata": {},
   "source": [
    "Here are some of the most commonly used string methods:"
   ]
  },
  {
   "cell_type": "code",
   "execution_count": null,
   "metadata": {},
   "outputs": [],
   "source": [
    "# lowercase\n",
    "print(str1.lower())"
   ]
  },
  {
   "cell_type": "code",
   "execution_count": null,
   "metadata": {},
   "outputs": [],
   "source": [
    "# uppercase\n",
    "print(str1.upper())"
   ]
  },
  {
   "cell_type": "code",
   "execution_count": null,
   "metadata": {},
   "outputs": [],
   "source": [
    "# replace\n",
    "print(str1.replace(\"World\", \"Universe\"))"
   ]
  },
  {
   "cell_type": "code",
   "execution_count": null,
   "metadata": {},
   "outputs": [],
   "source": [
    "# find\n",
    "print(str1.find(\"World\"))"
   ]
  },
  {
   "cell_type": "code",
   "execution_count": null,
   "metadata": {},
   "outputs": [],
   "source": [
    "# split\n",
    "print(str1.split(\" \"))"
   ]
  },
  {
   "attachments": {},
   "cell_type": "markdown",
   "metadata": {},
   "source": [
    "## String Formatting"
   ]
  },
  {
   "cell_type": "code",
   "execution_count": null,
   "metadata": {},
   "outputs": [],
   "source": [
    "# using f-strings (available in Python 3.6+)\n",
    "name = \"John\"\n",
    "print(f\"Hello, {name}\")\n",
    "\n",
    "# using format method\n",
    "print(\"Hello, {}\".format(name))\n",
    "\n",
    "# using % operator\n",
    "print(\"Hello, %s\" % name)"
   ]
  },
  {
   "attachments": {},
   "cell_type": "markdown",
   "metadata": {},
   "source": [
    "## Exercises\n",
    "\n",
    "Question 5 is intentionally tricky and may require you to do a bit of research on your own to find a solution. If you get stuck, don't be afraid to ask for help!"
   ]
  },
  {
   "attachments": {},
   "cell_type": "markdown",
   "metadata": {},
   "source": [
    "1. Write a program that takes a name as input and greets the user using their name.\n",
    "2. Write a program that takes the string `\"Hello there!\"` and prints the string in all uppercase letters.\n",
    "3. Write a program that splits the string `\"Let's split into groups.\"` into words and prints the result.\n",
    "4. Write a program that takes the string `\"I love blank!\"` and replaces the word `blank` with `Python`.\n",
    "5. Write a program that reverses the string `\"Did Hannah see bees? Hannah did.\"`."
   ]
  },
  {
   "attachments": {},
   "cell_type": "markdown",
   "metadata": {},
   "source": [
    "## Further Reading"
   ]
  },
  {
   "attachments": {},
   "cell_type": "markdown",
   "metadata": {},
   "source": [
    "Check out the following resources for more information on strings in Python:\n",
    "\n",
    "- Python Documentation\n",
    "  - [Python Strings](https://docs.python.org/3/library/stdtypes.html#text-sequence-type-str)\n",
    "  - [Python String Methods](https://docs.python.org/3/library/stdtypes.html#string-methods)\n",
    "  - [Python String Formatting](https://docs.python.org/3/library/stdtypes.html#printf-style-string-formatting)\n",
    "- Real Python\n",
    "  - [Python String Formatting Best Practices](https://realpython.com/python-string-formatting/)\n",
    "- W3Schools\n",
    "  - [Python String Methods](https://www.w3schools.com/python/python_ref_string.asp)\n",
    "- GeeksforGeeks\n",
    "  - [Python Strings](https://www.geeksforgeeks.org/python-strings/)\n",
    "\n",
    "Additionally, you can use search terms like \"python strings\" or \"python string methods\" to find more resources online."
   ]
  }
 ],
 "metadata": {
  "kernelspec": {
   "display_name": "Python 3",
   "language": "python",
   "name": "python3"
  },
  "language_info": {
   "codemirror_mode": {
    "name": "ipython",
    "version": 3
   },
   "file_extension": ".py",
   "mimetype": "text/x-python",
   "name": "python",
   "nbconvert_exporter": "python",
   "pygments_lexer": "ipython3",
   "version": "3.10.6"
  },
  "orig_nbformat": 4,
  "vscode": {
   "interpreter": {
    "hash": "916dbcbb3f70747c44a77c7bcd40155683ae19c65e1c03b4aa3499c5328201f1"
   }
  }
 },
 "nbformat": 4,
 "nbformat_minor": 2
}
