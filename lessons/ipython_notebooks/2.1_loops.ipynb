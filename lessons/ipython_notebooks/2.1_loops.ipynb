{
 "cells": [
  {
   "attachments": {},
   "cell_type": "markdown",
   "metadata": {},
   "source": [
    "# Loops"
   ]
  },
  {
   "attachments": {},
   "cell_type": "markdown",
   "metadata": {},
   "source": [
    "Loops in Python are used to execute a block of code repeatedly for a specified number of times or until a certain condition is met. There are two main types of loops in Python: `for` loops and `while` loops. "
   ]
  },
  {
   "attachments": {},
   "cell_type": "markdown",
   "metadata": {},
   "source": [
    "## `for` Loops"
   ]
  },
  {
   "attachments": {},
   "cell_type": "markdown",
   "metadata": {},
   "source": [
    "For loops in Python are used to iterate over a sequence (such as a list, tuple, or string) or other iterable object and execute a block of code repeatedly for each item in the sequence.\n",
    "\n",
    "Here's the general syntax for a for loop in Python:\n",
    "\n",
    "```python\n",
    "for item in sequence:\n",
    "    # do something with item\n",
    "```\n",
    "\n",
    "The `item` variable is assigned the value of the next item in the sequence on each iteration of the loop. The loop continues until there are no items left in the sequence.\n",
    "\n",
    "Similar to conditional statements, the body inside the `for` loop is consistently indented (typically 4 spaces) and the statement declaring the `for` loop ends with a colon (`:`). "
   ]
  },
  {
   "cell_type": "markdown",
   "metadata": {},
   "source": [
    "Here's a simple example that prints the numbers 0 to 9:"
   ]
  },
  {
   "cell_type": "code",
   "execution_count": null,
   "metadata": {},
   "outputs": [],
   "source": [
    "for i in range(10):\n",
    "    print(i)"
   ]
  },
  {
   "attachments": {},
   "cell_type": "markdown",
   "metadata": {},
   "source": [
    "The `range` function generates a sequence of numbers, starting from 0 and increments by 1 (by default) and stops before a specified number. In this case, `range(10)` generates a sequence of numbers from 0 to 9."
   ]
  },
  {
   "attachments": {},
   "cell_type": "markdown",
   "metadata": {},
   "source": [
    "Here's an example that loops through a list of strings:"
   ]
  },
  {
   "cell_type": "code",
   "execution_count": null,
   "metadata": {},
   "outputs": [],
   "source": [
    "fruits = ['apple', 'banana', 'cherry']\n",
    "for fruit in fruits:\n",
    "    print(fruit)"
   ]
  },
  {
   "attachments": {},
   "cell_type": "markdown",
   "metadata": {},
   "source": [
    "If you need to access the index of each item in the sequence, you can use the `enumerate` function. This returns a tuple containing the index and value of each item in the sequence. Here's an example that uses `enumerate` to loop through a list of strings and print the index and value of each item:"
   ]
  },
  {
   "cell_type": "code",
   "execution_count": null,
   "metadata": {},
   "outputs": [],
   "source": [
    "fruits = ['apple', 'banana', 'cherry']\n",
    "for i, fruit in enumerate(fruits):\n",
    "    print(i, fruit)"
   ]
  },
  {
   "attachments": {},
   "cell_type": "markdown",
   "metadata": {},
   "source": [
    "You can also use conditional statements inside a `for` loop. Here's an example that loops through a list of strings and prints only the items that start with the letter `\"a\"`:"
   ]
  },
  {
   "cell_type": "code",
   "execution_count": null,
   "metadata": {},
   "outputs": [],
   "source": [
    "fruits = ['apple', 'banana', 'cherry']\n",
    "\n",
    "for fruit in fruits:\n",
    "    if fruit[0] == 'a':\n",
    "        print(fruit)"
   ]
  },
  {
   "attachments": {},
   "cell_type": "markdown",
   "metadata": {},
   "source": [
    "## `while` Loops"
   ]
  },
  {
   "attachments": {},
   "cell_type": "markdown",
   "metadata": {},
   "source": [
    "The `for` loop has its limitations, as it assumes how many items are in the sequence. If you don't know how many items are in the sequence, you can use a `while` loop instead.  `while` loops in Python are used to execute a block of code repeatedly until a certain condition is met. The general syntax for a `while` loop in Python is:\n",
    "\n",
    "```python\n",
    "while condition:\n",
    "    # do something\n",
    "```\n",
    "\n",
    "The `condition` is evaluated before each iteration of the loop. If the condition is `True`, the code inside the loop is executed. If the condition is `False`, the code inside the loop is skipped and the program continues executing the code after the loop. For example:"
   ]
  },
  {
   "cell_type": "code",
   "execution_count": null,
   "metadata": {},
   "outputs": [],
   "source": [
    "count = 1\n",
    "while count <= 5:\n",
    "    print(count)\n",
    "    count += 1"
   ]
  },
  {
   "attachments": {},
   "cell_type": "markdown",
   "metadata": {},
   "source": [
    "It is essential to ensure that the `while` loop condition eventually evaluates to `False`, otherwise the loop will run indefinitely. If unchecked, this will eat up computational resources and potentially crash your system entirely. Before constructing a `while` loop, first consider whether the loop could be expressed as an equivalent `for` loop instead."
   ]
  },
  {
   "attachments": {},
   "cell_type": "markdown",
   "metadata": {},
   "source": [
    "## Exiting Out of Loops"
   ]
  },
  {
   "attachments": {},
   "cell_type": "markdown",
   "metadata": {},
   "source": [
    "It's possible to exit out of loops, i.e. before the `for` loop sequence ends, or before the `while` loop condition is met. This is done using the `break` statement. For example:"
   ]
  },
  {
   "cell_type": "code",
   "execution_count": null,
   "metadata": {},
   "outputs": [],
   "source": [
    "fruits = ['apple', 'banana', 'cherry']\n",
    "for fruit in fruits:\n",
    "    if fruit == 'banana':\n",
    "        break\n",
    "    print(fruit)"
   ]
  },
  {
   "cell_type": "code",
   "execution_count": null,
   "metadata": {},
   "outputs": [],
   "source": [
    "count = 1\n",
    "while True:\n",
    "    print(count)\n",
    "    if count == 5:\n",
    "        break\n",
    "    count += 1"
   ]
  },
  {
   "attachments": {},
   "cell_type": "markdown",
   "metadata": {},
   "source": [
    "## Skipping a Loop Iteration"
   ]
  },
  {
   "attachments": {},
   "cell_type": "markdown",
   "metadata": {},
   "source": [
    "Alternatively, you can skip to the next iteration of the loop using the `continue` statement. For example:"
   ]
  },
  {
   "cell_type": "code",
   "execution_count": null,
   "metadata": {},
   "outputs": [],
   "source": [
    "fruits = ['apple', 'banana', 'cherry']\n",
    "for fruit in fruits:\n",
    "    if fruit == 'banana':\n",
    "        continue\n",
    "    print(fruit)"
   ]
  },
  {
   "cell_type": "code",
   "execution_count": null,
   "metadata": {},
   "outputs": [],
   "source": [
    "count = 1\n",
    "while count <= 5:\n",
    "    if count == 3:\n",
    "        count += 1\n",
    "        continue\n",
    "    print(count)\n",
    "    count += 1"
   ]
  },
  {
   "attachments": {},
   "cell_type": "markdown",
   "metadata": {},
   "source": [
    "## Passing Over a Loop Iteration "
   ]
  },
  {
   "attachments": {},
   "cell_type": "markdown",
   "metadata": {},
   "source": [
    "You can use the `pass` statement to pass over a loop iteration without executing any code. This is useful if you want to write the code for a loop later, but don't want to get an error when you run the program. For example:"
   ]
  },
  {
   "cell_type": "code",
   "execution_count": null,
   "metadata": {},
   "outputs": [],
   "source": [
    "fruits = ['apple', 'banana', 'cherry']\n",
    "\n",
    "for fruit in fruits:\n",
    "    if fruit == 'banana':\n",
    "        pass\n",
    "    print(fruit)"
   ]
  },
  {
   "attachments": {},
   "cell_type": "markdown",
   "metadata": {},
   "source": [
    "## Nesting Loops"
   ]
  },
  {
   "attachments": {},
   "cell_type": "markdown",
   "metadata": {},
   "source": [
    "You may have noticed that the `for` loop body can contain any type of code, including conditional statements. We could even include an additional `for` loop inside the body of the first `for` loop. This is called nesting loops. For example:"
   ]
  },
  {
   "cell_type": "code",
   "execution_count": null,
   "metadata": {},
   "outputs": [],
   "source": [
    "colors = ['red', 'green', 'blue']\n",
    "sizes = ['small', 'medium', 'large']\n",
    "\n",
    "for color in colors:\n",
    "    for size in sizes:\n",
    "        print(f\"{color} {size}\")"
   ]
  },
  {
   "attachments": {},
   "cell_type": "markdown",
   "metadata": {},
   "source": [
    "Generally, you should avoid nesting loops if possible, as it can make your code difficult to read and debug. It can also slow down your code, as the inner loop will be executed for each iteration of the outer loop. If you find yourself nesting loops, try to see if you can rewrite your code to avoid nesting loops."
   ]
  },
  {
   "attachments": {},
   "cell_type": "markdown",
   "metadata": {},
   "source": [
    "## Exercises\n",
    "\n",
    "1. Write a program to find the sum of all the numbers in a list using a for loop.\n",
    "\n",
    "2. Write a program to print the multiplication table of a number using a for loop.\n",
    "\n",
    "3. Write a program to print the Fibonacci sequence up to a given number using a while loop.\n",
    "\n",
    "4. Write a program to find the largest number in a list using a for loop.\n",
    "\n",
    "5. Write a program to check if a number is prime or not using a for loop.\n",
    "\n",
    "6. Write a while loop to print the characters in a string, but skip the spaces.\n",
    "\n",
    "7. Write a program to print the first n prime numbers using a while loop.\n",
    "\n",
    "8. Write a for loop to find the index of the first occurrence of a specific word in a list of words.\n",
    "\n",
    "9. Write a program to find the second smallest number in a list using a for loop.\n",
    "\n",
    "10. Write a Python program that generates a multiplication table for the numbers 1 to 5 using nested for loops. The output should be in the following format:\n",
    "\n",
    "    1 x 1 = 1\\\n",
    "    1 x 2 = 2\\\n",
    "    1 x 3 = 3\\\n",
    "    1 x 4 = 4\\\n",
    "    1 x 5 = 5\\\n",
    "    2 x 1 = 2\\\n",
    "    2 x 2 = 4\\\n",
    "    ...\\\n",
    "    5 x 5 = 25"
   ]
  },
  {
   "attachments": {},
   "cell_type": "markdown",
   "metadata": {},
   "source": [
    "## Further Reading"
   ]
  },
  {
   "attachments": {},
   "cell_type": "markdown",
   "metadata": {},
   "source": [
    "Check out these resources for more information on `for` loops in Python:\n",
    "- [W3Schools](https://www.w3schools.com/python/python_for_loops.asp)\n",
    "- [Real Python](https://realpython.com/python-for-loop/)\n",
    "\n",
    "Also, check out these resources for more information on `while` loops in Python:\n",
    "- [W3Schools](https://www.w3schools.com/python/python_while_loops.asp)\n",
    "- [Real Python](https://realpython.com/python-while-loop/)\n",
    "\n",
    "Finally, check out the Python documentation for more information on `break` and `continue` statements:\n",
    "- [Python Documentation](https://docs.python.org/3/tutorial/controlflow.html#break-and-continue-statements-and-else-clauses-on-loops)"
   ]
  }
 ],
 "metadata": {
  "kernelspec": {
   "display_name": "Python 3",
   "language": "python",
   "name": "python3"
  },
  "language_info": {
   "codemirror_mode": {
    "name": "ipython",
    "version": 3
   },
   "file_extension": ".py",
   "mimetype": "text/x-python",
   "name": "python",
   "nbconvert_exporter": "python",
   "pygments_lexer": "ipython3",
   "version": "3.10.6"
  },
  "orig_nbformat": 4,
  "vscode": {
   "interpreter": {
    "hash": "916dbcbb3f70747c44a77c7bcd40155683ae19c65e1c03b4aa3499c5328201f1"
   }
  }
 },
 "nbformat": 4,
 "nbformat_minor": 2
}
