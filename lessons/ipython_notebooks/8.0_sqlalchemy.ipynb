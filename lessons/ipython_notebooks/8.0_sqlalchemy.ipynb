{
 "cells": [
  {
   "attachments": {},
   "cell_type": "markdown",
   "metadata": {},
   "source": [
    "# SQLAlchemy\n"
   ]
  },
  {
   "attachments": {},
   "cell_type": "markdown",
   "metadata": {},
   "source": [
    "SQLAlchemy is a Python SQL toolkit and Object-Relational Mapping (ORM) library that provides a set of high-level API for interacting with databases in Python. SQLAlchemy allows developers to write Python code that interacts with databases using SQL expressions, and also provides an ORM that allows users to interact with the database using Python classes and objects.\n"
   ]
  },
  {
   "attachments": {},
   "cell_type": "markdown",
   "metadata": {},
   "source": [
    "## Installing SQLAlchemy\n"
   ]
  },
  {
   "attachments": {},
   "cell_type": "markdown",
   "metadata": {},
   "source": [
    "You can install SQLAlchemy using pip:\n",
    "\n",
    "```bash\n",
    "pip install sqlalchemy\n",
    "```\n"
   ]
  },
  {
   "attachments": {},
   "cell_type": "markdown",
   "metadata": {},
   "source": [
    "## Connecting to a Database\n"
   ]
  },
  {
   "attachments": {},
   "cell_type": "markdown",
   "metadata": {},
   "source": [
    "To connect to a database using SQLAlchemy, you need to create an instance of the `create_engine` class. The `create_engine` class takes a connection string as an argument. The connection string is a URL that specifies the database driver, username, password, hostname, and database name. The following example shows how to connect to a SQLite database:\n"
   ]
  },
  {
   "cell_type": "code",
   "execution_count": null,
   "metadata": {},
   "outputs": [],
   "source": [
    "from sqlalchemy import create_engine, text\n",
    "\n",
    "engine = create_engine(\"sqlite:///example.db\")\n",
    "\n",
    "# Test the connection\n",
    "with engine.connect() as conn:\n",
    "    result = conn.execute(text(\"SELECT 1\"))\n",
    "    print(result.fetchone())"
   ]
  },
  {
   "attachments": {},
   "cell_type": "markdown",
   "metadata": {},
   "source": [
    "For the sake of simplicity, the examples in this tutorial will use a SQLite database. You can use any other database that SQLAlchemy supports. You can find the list of supported databases [here](https://docs.sqlalchemy.org/en/13/core/engines.html#supported-databases). For example, to connect to a Microsoft SQL Server database using SQLAlchemy, you first need to install the necessary drivers. You can use `pyodbc` or `pymssql` for this purpose. Here's how to install `pyodbc`:\n",
    "\n",
    "```bash\n",
    "pip install pyodbc\n",
    "```\n",
    "\n",
    "After installing the necessary packages, you can connect to the Microsoft SQL Server database using SQLAlchemy. Here's an example of how to do it using `pyodbc`:\n",
    "\n",
    "```python\n",
    "from sqlalchemy import create_engine\n",
    "\n",
    "server = 'server_name'\n",
    "database = 'database_name'\n",
    "username = 'username'\n",
    "password = 'password'\n",
    "driver= '{ODBC Driver 17 for SQL Server}'\n",
    "# or '{SQL Server Native Client 11.0}' depending on your configuration\n",
    "\n",
    "engine = create_engine(\n",
    "    f'mssql+pyodbc://{username}:{password}@{server}/{database}?driver={driver}'\n",
    ")\n",
    "```\n",
    "\n",
    "Before you start, make sure that the SQL Server allows remote connections. If you're having trouble connecting, it might be due to network permissions or firewall settings. Also, keep in mind that the driver name in the connection string depends on the version of the ODBC driver installed on your system, so adjust it accordingly.\n",
    "\n",
    "The examples below should work with any database that SQLAlchemy supports. You just need to change the connection string to match your database configuration.\n"
   ]
  },
  {
   "attachments": {},
   "cell_type": "markdown",
   "metadata": {},
   "source": [
    "## Defining a Table\n"
   ]
  },
  {
   "attachments": {},
   "cell_type": "markdown",
   "metadata": {},
   "source": [
    "Next, we need to define a table in our database. Tables are represented in SQLAlchemy as Python classes that inherit from the `Table` class. Each table class defines the columns of the table, as well as any constraints or indexes.\n",
    "\n",
    "Here's an example table definition for a simple users table:\n"
   ]
  },
  {
   "cell_type": "code",
   "execution_count": null,
   "metadata": {},
   "outputs": [],
   "source": [
    "from sqlalchemy import Column, Integer, String, DateTime\n",
    "from sqlalchemy.orm import declarative_base\n",
    "\n",
    "Base = declarative_base()\n",
    "\n",
    "\n",
    "class User(Base):\n",
    "    __tablename__ = \"users\"\n",
    "\n",
    "    id = Column(Integer, primary_key=True)\n",
    "    age = Column(Integer)\n",
    "    name = Column(String)\n",
    "    email = Column(String)\n",
    "    created_at = Column(DateTime)"
   ]
  },
  {
   "attachments": {},
   "cell_type": "markdown",
   "metadata": {},
   "source": [
    "This defines a table named users with four columns: `id`, `name`, `email`, and `created_at`. The `id` column is the primary key, which means that it uniquely identifies each row in the table.\n"
   ]
  },
  {
   "attachments": {},
   "cell_type": "markdown",
   "metadata": {},
   "source": [
    "## Creating a Table\n"
   ]
  },
  {
   "attachments": {},
   "cell_type": "markdown",
   "metadata": {},
   "source": [
    "Once we've defined our table, we can create it in the database using the `create_all` method of our `Base` object:\n"
   ]
  },
  {
   "cell_type": "code",
   "execution_count": null,
   "metadata": {},
   "outputs": [],
   "source": [
    "# Create the table\n",
    "Base.metadata.create_all(engine)"
   ]
  },
  {
   "attachments": {},
   "cell_type": "markdown",
   "metadata": {},
   "source": [
    "This creates the `users` table in our database.\n"
   ]
  },
  {
   "attachments": {},
   "cell_type": "markdown",
   "metadata": {},
   "source": [
    "## Inserting Data\n"
   ]
  },
  {
   "attachments": {},
   "cell_type": "markdown",
   "metadata": {},
   "source": [
    "Now that we've created our table, we can insert data into it using the `Session` object. The `Session` object represents a transactional scope of the database, and is used to insert, update, and delete data.\n",
    "\n",
    "Here's an example of how to insert a new user into the `users` table:\n"
   ]
  },
  {
   "cell_type": "code",
   "execution_count": null,
   "metadata": {},
   "outputs": [],
   "source": [
    "from sqlalchemy.orm import sessionmaker\n",
    "from datetime import datetime\n",
    "\n",
    "# Create a session\n",
    "Session = sessionmaker(bind=engine)\n",
    "session = Session()\n",
    "\n",
    "# Create a new user\n",
    "new_user = User(\n",
    "    name=\"John Doe\",\n",
    "    age=34,\n",
    "    email=\"john@example.com\",\n",
    "    created_at=datetime.now(),\n",
    ")\n",
    "new_user_2 = User(\n",
    "    name=\"Anthony Joe\",\n",
    "    age=54,\n",
    "    email=\"anthony@example.com\",\n",
    "    created_at=datetime.now(),\n",
    ")\n",
    "\n",
    "# Add the users to the session\n",
    "session.add(new_user)\n",
    "session.add(new_user_2)\n",
    "\n",
    "# Commit the session\n",
    "session.commit()"
   ]
  },
  {
   "attachments": {},
   "cell_type": "markdown",
   "metadata": {},
   "source": [
    "This creates a new user object, adds it to the session, and then commits the transaction to the database.\n"
   ]
  },
  {
   "attachments": {},
   "cell_type": "markdown",
   "metadata": {},
   "source": [
    "## Querying Data\n"
   ]
  },
  {
   "attachments": {},
   "cell_type": "markdown",
   "metadata": {},
   "source": [
    "We can retrieve data from our database using the `query` method of our `Session` object. Here's an example of how to retrieve all users from the `users` table:\n"
   ]
  },
  {
   "cell_type": "code",
   "execution_count": null,
   "metadata": {},
   "outputs": [],
   "source": [
    "def query_all_users(session):\n",
    "    # Query all users\n",
    "    users = session.query(User).all()\n",
    "\n",
    "    # Print the details for each user\n",
    "    for user in users:\n",
    "        print(user.id, user.name, user.age, user.email, user.created_at)\n",
    "\n",
    "\n",
    "query_all_users(session)"
   ]
  },
  {
   "attachments": {},
   "cell_type": "markdown",
   "metadata": {},
   "source": [
    "## Updating Data\n"
   ]
  },
  {
   "attachments": {},
   "cell_type": "markdown",
   "metadata": {},
   "source": [
    "To update data in a table, you can use the `update` method of the table object. The `update` method takes a dictionary of values that map to the columns of the table. The `update` method also takes a `where` clause that specifies the rows to update.\n"
   ]
  },
  {
   "cell_type": "code",
   "execution_count": null,
   "metadata": {},
   "outputs": [],
   "source": [
    "# Retrieve the user we want to update\n",
    "user = session.query(User).filter_by(id=1).first()\n",
    "\n",
    "# Update the user's email address\n",
    "user.email = \"newemail@example.com\"\n",
    "\n",
    "# Commit the changes\n",
    "session.commit()"
   ]
  },
  {
   "cell_type": "code",
   "execution_count": null,
   "metadata": {},
   "outputs": [],
   "source": [
    "query_all_users(session)"
   ]
  },
  {
   "attachments": {},
   "cell_type": "markdown",
   "metadata": {},
   "source": [
    "## Deleting Data\n"
   ]
  },
  {
   "attachments": {},
   "cell_type": "markdown",
   "metadata": {},
   "source": [
    "To delete data from a table, you need to retrieve the data you want to delete using a query, delete the data, and then commit the changes. Here's an example of how to delete a user from the `users` table:\n"
   ]
  },
  {
   "cell_type": "code",
   "execution_count": null,
   "metadata": {},
   "outputs": [],
   "source": [
    "# Retrieve the user we want to delete\n",
    "user = session.query(User).filter_by(id=1).first()\n",
    "\n",
    "# Delete the user\n",
    "session.delete(user)\n",
    "\n",
    "# Commit the changes\n",
    "session.commit()"
   ]
  },
  {
   "cell_type": "code",
   "execution_count": null,
   "metadata": {},
   "outputs": [],
   "source": [
    "query_all_users(session)"
   ]
  },
  {
   "attachments": {},
   "cell_type": "markdown",
   "metadata": {},
   "source": [
    "## Relationships\n"
   ]
  },
  {
   "attachments": {},
   "cell_type": "markdown",
   "metadata": {},
   "source": [
    "Relationships are a key feature of relational databases. They allow you to define relationships between tables, and then use those relationships to retrieve data from multiple tables at once. SQLAlchemy provides a number of different ways to define relationships between tables. In this section, we will explore three types of relationships: one-to-many, many-to-one, and many-to-many.\n"
   ]
  },
  {
   "attachments": {},
   "cell_type": "markdown",
   "metadata": {},
   "source": [
    "### One-to-Many\n"
   ]
  },
  {
   "attachments": {},
   "cell_type": "markdown",
   "metadata": {},
   "source": [
    "In a one-to-many relationship, one record in a table can have multiple related records in another table. For example, let's create a `Post` table with a one-to-many relationship to the `User` table:\n"
   ]
  },
  {
   "cell_type": "code",
   "execution_count": null,
   "metadata": {},
   "outputs": [],
   "source": [
    "from sqlalchemy import ForeignKey, Sequence\n",
    "from sqlalchemy.orm import relationship\n",
    "\n",
    "\n",
    "class Post(Base):\n",
    "    __tablename__ = \"posts\"\n",
    "    id = Column(Integer, Sequence(\"post_id_seq\"), primary_key=True)\n",
    "    title = Column(String(100))\n",
    "    content = Column(String(500))\n",
    "    user_id = Column(Integer, ForeignKey(\"users.id\"))\n",
    "\n",
    "    # Define the relationship between User and Post\n",
    "    author = relationship(\"User\", back_populates=\"posts\")\n",
    "\n",
    "\n",
    "# Add the relationship to the User class\n",
    "User.posts = relationship(\"Post\", back_populates=\"author\")\n",
    "\n",
    "# Create the posts table\n",
    "Base.metadata.create_all(engine)"
   ]
  },
  {
   "attachments": {},
   "cell_type": "markdown",
   "metadata": {},
   "source": [
    "Now, you can create a new post and associate it with a user:\n"
   ]
  },
  {
   "cell_type": "code",
   "execution_count": null,
   "metadata": {},
   "outputs": [],
   "source": [
    "user = User(name=\"Jane Doe\", age=28)\n",
    "post = Post(title=\"My First Post\", content=\"Hello, world!\", author=user)\n",
    "\n",
    "session.add(user)\n",
    "session.add(post)\n",
    "session.commit()"
   ]
  },
  {
   "attachments": {},
   "cell_type": "markdown",
   "metadata": {},
   "source": [
    "To retrieve a user's posts:\n"
   ]
  },
  {
   "cell_type": "code",
   "execution_count": null,
   "metadata": {},
   "outputs": [],
   "source": [
    "user_posts = session.query(Post).filter(Post.author == user).all()\n",
    "\n",
    "for post in user_posts:\n",
    "    print(f\"{post.title}: {post.content}\")"
   ]
  },
  {
   "attachments": {},
   "cell_type": "markdown",
   "metadata": {},
   "source": [
    "A many-to-one relationship is the inverse of a one-to-many relationship. In this case, we have already defined a many-to-one relationship between Post and User.\n",
    "\n",
    "To query the author of a post:\n"
   ]
  },
  {
   "cell_type": "code",
   "execution_count": null,
   "metadata": {},
   "outputs": [],
   "source": [
    "post_author = session.query(User).filter(User.posts.contains(post)).first()\n",
    "print(f\"Author: {post_author.name}\")"
   ]
  },
  {
   "attachments": {},
   "cell_type": "markdown",
   "metadata": {},
   "source": [
    "### Many-to-Many\n"
   ]
  },
  {
   "attachments": {},
   "cell_type": "markdown",
   "metadata": {},
   "source": [
    "In a many-to-many relationship, records in one table can be related to multiple records in another table and vice versa. Let's create a `Tag` table and establish a many-to-many relationship with the `Post` table:\n"
   ]
  },
  {
   "cell_type": "code",
   "execution_count": null,
   "metadata": {},
   "outputs": [],
   "source": [
    "from sqlalchemy import Table\n",
    "\n",
    "# Define the association table for the many-to-many relationship\n",
    "post_tags = Table(\n",
    "    \"post_tags\",\n",
    "    Base.metadata,\n",
    "    Column(\"post_id\", Integer, ForeignKey(\"posts.id\"), primary_key=True),\n",
    "    Column(\"tag_id\", Integer, ForeignKey(\"tags.id\"), primary_key=True),\n",
    ")\n",
    "\n",
    "\n",
    "class Tag(Base):\n",
    "    __tablename__ = \"tags\"\n",
    "    id = Column(Integer, Sequence(\"tag_id_seq\"), primary_key=True)\n",
    "    name = Column(String(20), unique=True)\n",
    "\n",
    "    # Define the relationship between Tag and Post\n",
    "    posts = relationship(\"Post\", secondary=post_tags, back_populates=\"tags\")\n",
    "\n",
    "\n",
    "# Add the relationship to the Post class\n",
    "Post.tags = relationship(\"Tag\", secondary=post_tags, back_populates=\"posts\")\n",
    "\n",
    "# Create the tags table\n",
    "Base.metadata.create_all(engine)"
   ]
  },
  {
   "attachments": {},
   "cell_type": "markdown",
   "metadata": {},
   "source": [
    "Now, you can create new tags and associate them with a post:\n"
   ]
  },
  {
   "cell_type": "code",
   "execution_count": null,
   "metadata": {},
   "outputs": [],
   "source": [
    "tag1 = Tag(name=\"Python\")\n",
    "tag2 = Tag(name=\"Tutorial\")\n",
    "\n",
    "post.tags = [tag1, tag2]\n",
    "\n",
    "session.add(tag1)\n",
    "session.add(tag2)\n",
    "session.add(post)\n",
    "session.commit()"
   ]
  },
  {
   "attachments": {},
   "cell_type": "markdown",
   "metadata": {},
   "source": [
    "To retrieve a post's tags:\n"
   ]
  },
  {
   "cell_type": "code",
   "execution_count": null,
   "metadata": {},
   "outputs": [],
   "source": [
    "post_tags = session.query(Tag).filter(Tag.posts.contains(post)).all()\n",
    "\n",
    "for tag in post_tags:\n",
    "    print(f\"Tag: {tag.name}\")"
   ]
  },
  {
   "attachments": {},
   "cell_type": "markdown",
   "metadata": {},
   "source": [
    "To retrieve all posts with a specific tag:\n"
   ]
  },
  {
   "cell_type": "code",
   "execution_count": null,
   "metadata": {},
   "outputs": [],
   "source": [
    "tag_posts = session.query(Post).filter(Post.tags.contains(tag1)).all()\n",
    "\n",
    "for post in tag_posts:\n",
    "    print(f\"{post.title}: {post.content}\")"
   ]
  },
  {
   "attachments": {},
   "cell_type": "markdown",
   "metadata": {},
   "source": [
    "## Complex Queries\n"
   ]
  },
  {
   "attachments": {},
   "cell_type": "markdown",
   "metadata": {},
   "source": [
    "You can write custom queries using SQLAlchemy's expression language, which allows you to create complex queries with a Pythonic syntax:\n"
   ]
  },
  {
   "cell_type": "code",
   "execution_count": null,
   "metadata": {},
   "outputs": [],
   "source": [
    "from sqlalchemy import and_, or_, not_\n",
    "\n",
    "# Find all users with age between 20 and 40 and a name containing \"Doe\"\n",
    "users = (\n",
    "    session.query(User)\n",
    "    .filter(and_(User.age.between(20, 40), User.name.like(\"%Doe%\")))\n",
    "    .all()\n",
    ")\n",
    "\n",
    "for user in users:\n",
    "    print(f\"User {user.id}: {user.name}, {user.age} years old\")"
   ]
  },
  {
   "attachments": {},
   "cell_type": "markdown",
   "metadata": {},
   "source": [
    "## Aggregations\n"
   ]
  },
  {
   "attachments": {},
   "cell_type": "markdown",
   "metadata": {},
   "source": [
    "SQLAlchemy allows you to perform aggregation operations like COUNT, SUM, MIN, MAX, and AVG:\n"
   ]
  },
  {
   "cell_type": "code",
   "execution_count": null,
   "metadata": {},
   "outputs": [],
   "source": [
    "from sqlalchemy import func\n",
    "\n",
    "# Count the number of users\n",
    "user_count = session.query(func.count(User.id)).scalar()\n",
    "print(f\"Total users: {user_count}\")\n",
    "\n",
    "# Calculate the average age of users\n",
    "average_age = session.query(func.avg(User.age)).scalar()\n",
    "print(f\"Average age: {average_age}\")"
   ]
  },
  {
   "attachments": {},
   "cell_type": "markdown",
   "metadata": {},
   "source": [
    "## Joining Tables\n"
   ]
  },
  {
   "attachments": {},
   "cell_type": "markdown",
   "metadata": {},
   "source": [
    "You can perform joins in SQLAlchemy to combine data from multiple tables:\n"
   ]
  },
  {
   "cell_type": "code",
   "execution_count": null,
   "metadata": {},
   "outputs": [],
   "source": [
    "# Fetch all users along with their posts\n",
    "users_with_posts = (\n",
    "    session.query(User, Post).join(Post, User.id == Post.user_id).all()\n",
    ")\n",
    "\n",
    "for user, post in users_with_posts:\n",
    "    print(f\"User {user.id}: {user.name} - Post {post.id}: {post.title}\")"
   ]
  },
  {
   "attachments": {},
   "cell_type": "markdown",
   "metadata": {},
   "source": [
    "## Closing the Session\n"
   ]
  },
  {
   "attachments": {},
   "cell_type": "markdown",
   "metadata": {},
   "source": [
    "When you're done interacting with the database, you need to close the session to release the database connection. You can do this using the `close` method of the `Session` object:\n"
   ]
  },
  {
   "cell_type": "code",
   "execution_count": null,
   "metadata": {},
   "outputs": [],
   "source": [
    "session.close()"
   ]
  },
  {
   "attachments": {},
   "cell_type": "markdown",
   "metadata": {},
   "source": [
    "## Transactions\n"
   ]
  },
  {
   "attachments": {},
   "cell_type": "markdown",
   "metadata": {},
   "source": [
    "Transactions ensure that a group of SQL statements are executed completely, or not at all. If an error occurs during execution, the transaction can be rolled back to revert any changes.\n",
    "\n",
    "In SQLAlchemy, a transaction is automatically started when you first use the session object. You can also manage transactions explicitly:\n"
   ]
  },
  {
   "cell_type": "code",
   "execution_count": null,
   "metadata": {},
   "outputs": [],
   "source": [
    "# Start a new transaction\n",
    "session.begin()\n",
    "\n",
    "try:\n",
    "    new_user = User(name=\"Bob Smith\", age=40)\n",
    "    session.add(new_user)\n",
    "\n",
    "    new_post = Post(\n",
    "        title=\"My Second Post\", content=\"Another post!\", author=new_user\n",
    "    )\n",
    "    session.add(new_post)\n",
    "\n",
    "    # Commit the transaction\n",
    "    session.commit()\n",
    "    query_all_users(session)\n",
    "except Exception as e:\n",
    "    # Roll back the transaction in case of an error\n",
    "    session.rollback()\n",
    "    print(f\"Error: {e}\")\n",
    "finally:\n",
    "    # Clean up the session\n",
    "    session.close()"
   ]
  },
  {
   "attachments": {},
   "cell_type": "markdown",
   "metadata": {},
   "source": [
    "You could also create a SQLAlchemy session using a context manager. This will automatically handle the session lifecycle (opening, committing, and closing) within the context of the `with` statement (like we did earlier when testing the connection to our database). This is the preferred way to manage transactions in SQLAlchemy, as it ensures that the session is closed when you're done using it. Here's an example of how to do it:\n"
   ]
  },
  {
   "cell_type": "code",
   "execution_count": null,
   "metadata": {},
   "outputs": [],
   "source": [
    "from contextlib import contextmanager\n",
    "\n",
    "# Set up the sessionmaker\n",
    "Session = sessionmaker(bind=engine)\n",
    "\n",
    "\n",
    "@contextmanager\n",
    "def session_scope():\n",
    "    \"\"\"Provide a transactional scope around a series of operations.\"\"\"\n",
    "    session = Session()\n",
    "    try:\n",
    "        # This yields the session to the context manager to perform operations.\n",
    "        yield session\n",
    "        session.commit()\n",
    "    except Exception:\n",
    "        session.rollback()\n",
    "        raise\n",
    "    finally:\n",
    "        session.close()\n",
    "\n",
    "\n",
    "# Then, when you want to use a session:\n",
    "with session_scope() as session:\n",
    "    # Perform operations on the database\n",
    "    my_data = session.query(User).filter(User.name == \"Jane Doe\").first()\n",
    "\n",
    "    print(my_data.name, my_data.age)"
   ]
  },
  {
   "attachments": {},
   "cell_type": "markdown",
   "metadata": {},
   "source": [
    "However, these are very advanced concepts and it is not expected for you to understand them right away. For more information on transactions, see the [SQLAlchemy documentation](https://docs.sqlalchemy.org/en/13/orm/session_transaction.html).\n"
   ]
  },
  {
   "attachments": {},
   "cell_type": "markdown",
   "metadata": {},
   "source": [
    "## Project: Library Management System\n"
   ]
  },
  {
   "attachments": {},
   "cell_type": "markdown",
   "metadata": {},
   "source": [
    "### Objective\n"
   ]
  },
  {
   "attachments": {},
   "cell_type": "markdown",
   "metadata": {},
   "source": [
    "Develop a library management system using SQLAlchemy for a small community library to manage books, members, and borrowing.\n"
   ]
  },
  {
   "attachments": {},
   "cell_type": "markdown",
   "metadata": {},
   "source": [
    "### Requirements\n"
   ]
  },
  {
   "attachments": {},
   "cell_type": "markdown",
   "metadata": {},
   "source": [
    "1. Python 3.7 or higher\n",
    "2. SQLAlchemy 1.4.29 or higher\n",
    "3. SQLite 3\n"
   ]
  },
  {
   "attachments": {},
   "cell_type": "markdown",
   "metadata": {},
   "source": [
    "### Project Structure\n"
   ]
  },
  {
   "attachments": {},
   "cell_type": "markdown",
   "metadata": {},
   "source": [
    "```\n",
    "library_management_system/\n",
    "├── models/\n",
    "│   ├── __init__.py\n",
    "│   ├── base.py\n",
    "│   ├── book.py\n",
    "│   ├── member.py\n",
    "│   └── loan.py\n",
    "├── operations/\n",
    "│   ├── __init__.py\n",
    "│   ├── book_operations.py\n",
    "│   ├── member_operations.py\n",
    "│   └── loan_operations.py\n",
    "├── database.py\n",
    "└── main.py\n",
    "```\n"
   ]
  },
  {
   "attachments": {},
   "cell_type": "markdown",
   "metadata": {},
   "source": [
    "### Instructions\n"
   ]
  },
  {
   "attachments": {},
   "cell_type": "markdown",
   "metadata": {},
   "source": [
    "1. Create the following folder structure for the project:\n",
    "\n",
    "   - Create a project folder with the name `library_management_system`.\n",
    "   - Create a `models` subfolder inside the project folder. Create an empty `__init__.py` file inside the `models` folder.\n",
    "   - Create a `operations` subfolder inside the project folder. Create an empty `__init__.py` file inside the `operations` folder.\n",
    "   - Alternatively, you could create a single `models.py` file and a single `operations.py` file instead of creating separate subfolders/files for each model and operation.\n"
   ]
  },
  {
   "attachments": {},
   "cell_type": "markdown",
   "metadata": {},
   "source": [
    "2. Install the dependencies.\n",
    "\n",
    "   ```bash\n",
    "   pip install sqlalchemy\n",
    "   ```\n",
    "\n",
    "   Should you wish to expand on this project later and add more dependencies, I recommend using a virtual environment. You can create a virtual environment using the following command in your terminal (make sure the project folder is your current working directory):\n",
    "\n",
    "   ```bash\n",
    "   python -m venv .venv\n",
    "   ```\n",
    "\n",
    "   You can activate the virtual environment using the following command (Linux and macOS):\n",
    "\n",
    "   ```bash\n",
    "   source .venv/bin/activate\n",
    "   ```\n",
    "\n",
    "   If you're using Windows, you can activate the virtual environment using the following commands:\n",
    "\n",
    "   PowerShell:\n",
    "\n",
    "   ```PowerShell\n",
    "   .venv\\Scripts\\Activate.ps1\n",
    "   ```\n",
    "\n",
    "   CMD:\n",
    "\n",
    "   ```cmd\n",
    "   .venv\\Scripts\\activate.bat\n",
    "   ```\n",
    "\n",
    "   See the [Python documentation](https://docs.python.org/3/library/venv.html) for more information on virtual environments.\n"
   ]
  },
  {
   "attachments": {},
   "cell_type": "markdown",
   "metadata": {},
   "source": [
    "3. Create the declarative base object `Base` in the `models/base.py` file (or inside the `models.py` file). This object will be used as the base class for all the models in our project. It will also be used to create the database tables.\n"
   ]
  },
  {
   "attachments": {},
   "cell_type": "markdown",
   "metadata": {},
   "source": [
    "4. Create models for the `Book`, `Member`, and `Loan` tables in separate files (`book.py`, `member.py`, `loan.py`) inside the `models` folder (or together inside `models.py`). Each model should inherit from the `Base` object, which can be imported using the following code (assuming the `Base` object is defined in `models/base.py`, otherwise no import is needed):\n",
    "\n",
    "   ```python\n",
    "   from .base import Base\n",
    "   ```\n",
    "\n",
    "   The `Book` model should have the following columns:\n",
    "\n",
    "   - `id`: Integer, primary key\n",
    "   - `title`: String, not null\n",
    "   - `author`: String, not null\n",
    "   - `isbn`: String, not null\n",
    "   - `available`: Integer, not null\n",
    "\n",
    "   The `Member` model should have the following columns:\n",
    "\n",
    "   - `id`: Integer, primary key\n",
    "   - `name`: String, not null\n",
    "   - `email`: String, not null\n",
    "   - `phone`: String, not null\n",
    "\n",
    "   The `Loan` model should have the following columns:\n",
    "\n",
    "   - `id`: Integer, primary key\n",
    "   - `book_id`: Integer, foreign key\n",
    "   - `member_id`: Integer, foreign key\n",
    "   - `start_date`: DateTime, not null\n",
    "   - `due_date`: DateTime, not null\n",
    "   - `return_date`: DateTime, nullable\n",
    "\n",
    "   The `Loan` model should have a many-to-one relationship with the `Book` and `Member` models.\n"
   ]
  },
  {
   "attachments": {},
   "cell_type": "markdown",
   "metadata": {},
   "source": [
    "5. Create a `database.py` file to initialize the database and create the tables. The `database.py` file should contain two functions to be imported in the `main.py` file, or any other file where you want to interact with the database (e.g. a Jupyter notebook):\n",
    "\n",
    "   - `init_db`: This function should be called to initialize the database and create the tables.\n",
    "   - `get_session`: This function should be called to create a session object to interact with the database.\n",
    "\n",
    "   The `init_db` function should do the following:\n",
    "\n",
    "   - Create an `engine` object.\n",
    "   - Create all the tables in the database with the `engine` object as an argument.\n",
    "\n",
    "   The `get_session` function should do the following:\n",
    "\n",
    "   - Create a `Session` object.\n",
    "   - Return the `Session` object.\n",
    "\n",
    "   You can import the `Base` object from the `models/base.py` file using the following code:\n",
    "\n",
    "   ```python\n",
    "   from models.base import Base\n",
    "   ```\n",
    "\n",
    "   or if you're using a single `models.py` file:\n",
    "\n",
    "   ```python\n",
    "   from models import Base\n",
    "   ```\n"
   ]
  },
  {
   "attachments": {},
   "cell_type": "markdown",
   "metadata": {},
   "source": [
    "6. (Optional) Create operations for the `Book`, `Member`, and `Loan` tables using separate files (`book_operations.py`, `member_operations.py`, `loan_operations.py`) inside the `operations` folder (or together inside the `operations.py` file). These operations should include methods to create, retrieve, update, and delete records.\n"
   ]
  },
  {
   "attachments": {},
   "cell_type": "markdown",
   "metadata": {},
   "source": [
    "7. Create a `main.py` file or Jupyter notebook to interact with the database. For example you could do the following:\n",
    "\n",
    "   - Create a new book.\n",
    "   - Create a new member.\n",
    "   - Create a new loan.\n",
    "   - Retrieve all books.\n",
    "   - Retrieve all members.\n",
    "   - Retrieve all loans.\n",
    "   - Retrieve a book by ID.\n",
    "   - Retrieve a member by ID.\n",
    "   - Retrieve a loan by ID.\n",
    "   - Update a book.\n",
    "   - Update a member.\n",
    "   - Update a loan.\n",
    "   - Delete a book.\n",
    "   - Delete a member.\n",
    "   - Delete a loan.\n"
   ]
  },
  {
   "attachments": {},
   "cell_type": "markdown",
   "metadata": {},
   "source": [
    "## Further Reading\n"
   ]
  },
  {
   "attachments": {},
   "cell_type": "markdown",
   "metadata": {},
   "source": [
    "- [SQLAlchemy 2.0 Documentation](https://docs.sqlalchemy.org/en/20/)\n",
    "- [DataCamp: SQLAlchemy Tutorial with Examples](https://www.datacamp.com/tutorial/sqlalchemy-tutorial-examples)\n",
    "- [Real Python: Data Management With Python, SQLite, and SQLAlchemy](https://realpython.com/python-sqlite-sqlalchemy/)\n",
    "- [Tutorialspoint: SQLAlchemy Tutorial](https://www.tutorialspoint.com/sqlalchemy/index.htm)\n",
    "- [Towards Data Science: SQLAlchemy — Python Tutorial](https://towardsdatascience.com/sqlalchemy-python-tutorial-79a577141a91)\n"
   ]
  }
 ],
 "metadata": {
  "kernelspec": {
   "display_name": "Python 3",
   "language": "python",
   "name": "python3"
  },
  "language_info": {
   "codemirror_mode": {
    "name": "ipython",
    "version": 3
   },
   "file_extension": ".py",
   "mimetype": "text/x-python",
   "name": "python",
   "nbconvert_exporter": "python",
   "pygments_lexer": "ipython3",
   "version": "3.10.6"
  },
  "orig_nbformat": 4
 },
 "nbformat": 4,
 "nbformat_minor": 2
}
