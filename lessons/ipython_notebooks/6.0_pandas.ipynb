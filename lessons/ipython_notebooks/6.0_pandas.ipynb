{
 "cells": [
  {
   "attachments": {},
   "cell_type": "markdown",
   "metadata": {},
   "source": [
    "# Pandas\n"
   ]
  },
  {
   "attachments": {},
   "cell_type": "markdown",
   "metadata": {},
   "source": [
    "`pandas` is a popular open-source data analysis and manipulation library for the Python programming language. It is built on top of the NumPy library and provides easy-to-use data structures and data analysis tools for efficient data manipulation and analysis.\n",
    "\n",
    "In this tutorial, we will cover the basic functionality of the pandas package including data structures, data selection and manipulation, and data analysis tools.\n"
   ]
  },
  {
   "attachments": {},
   "cell_type": "markdown",
   "metadata": {},
   "source": [
    "## Installation\n"
   ]
  },
  {
   "attachments": {},
   "cell_type": "markdown",
   "metadata": {},
   "source": [
    "First, you need to install the `pandas` package in your Python environment. You can install `pandas` using the following command in your terminal or command prompt:\n",
    "\n",
    "```bash\n",
    "pip install pandas\n",
    "```\n"
   ]
  },
  {
   "attachments": {},
   "cell_type": "markdown",
   "metadata": {},
   "source": [
    "## Importing the pandas Package\n"
   ]
  },
  {
   "attachments": {},
   "cell_type": "markdown",
   "metadata": {},
   "source": [
    "To import the `pandas` package in your current Python session, use the following command:\n"
   ]
  },
  {
   "cell_type": "code",
   "execution_count": null,
   "metadata": {},
   "outputs": [],
   "source": [
    "import pandas as pd\n"
   ]
  },
  {
   "attachments": {},
   "cell_type": "markdown",
   "metadata": {},
   "source": [
    "Here, we have imported the `pandas` package and assigned it the alias `pd`. This is a common practice in the Python community. You can use any alias you want, but it is recommended to use the alias `pd` for the `pandas` package. This is the standard convention and will be used in remainder of this tutorial.\n"
   ]
  },
  {
   "attachments": {},
   "cell_type": "markdown",
   "metadata": {},
   "source": [
    "## Data Structures\n"
   ]
  },
  {
   "attachments": {},
   "cell_type": "markdown",
   "metadata": {},
   "source": [
    "`pandas` provides two primary data structures: `Series` and `DataFrame`. A `Series` is a one-dimensional labeled array that can hold any data type, while a `DataFrame` is a two-dimensional labeled data structure with columns of potentially different data types.\n"
   ]
  },
  {
   "attachments": {},
   "cell_type": "markdown",
   "metadata": {},
   "source": [
    "### Series\n"
   ]
  },
  {
   "attachments": {},
   "cell_type": "markdown",
   "metadata": {},
   "source": [
    "A `Series` can be created using the `pd.Series()` function. The following example creates a `Series` object from a list:\n"
   ]
  },
  {
   "cell_type": "code",
   "execution_count": null,
   "metadata": {},
   "outputs": [],
   "source": [
    "import pandas as pd\n",
    "\n",
    "data = [1, 2, 3, 4, 5]\n",
    "s = pd.Series(data)\n",
    "\n",
    "print(s)\n"
   ]
  },
  {
   "attachments": {},
   "cell_type": "markdown",
   "metadata": {},
   "source": [
    "In the above code, we first imported pandas and created a list `data` containing some numbers. Then, we created a Series `s` using the `pd.Series()` function and passed the data list to it. Finally, we printed the `Series` to the console.\n"
   ]
  },
  {
   "attachments": {},
   "cell_type": "markdown",
   "metadata": {},
   "source": [
    "### DataFrame\n"
   ]
  },
  {
   "attachments": {},
   "cell_type": "markdown",
   "metadata": {},
   "source": [
    "A DataFrame can be created using the `pd.DataFrame()` function. The following example creates a DataFrame object from a dictionary:\n"
   ]
  },
  {
   "cell_type": "code",
   "execution_count": null,
   "metadata": {},
   "outputs": [],
   "source": [
    "import pandas as pd\n",
    "\n",
    "data = {\n",
    "    \"name\": [\"John\", \"Charlotte\", \"David\", \"Alice\"],\n",
    "    \"age\": [20, 21, 19, 18],\n",
    "    \"country\": [\"USA\", \"UK\", \"Canada\", \"France\"],\n",
    "}\n",
    "\n",
    "df = pd.DataFrame(data)\n",
    "\n",
    "print(df)\n"
   ]
  },
  {
   "attachments": {},
   "cell_type": "markdown",
   "metadata": {},
   "source": [
    "In the above code, we created a dictionary `data` containing three keys `\"name\"`, `\"age\"`, and `\"country\"` and their respective values. Then, we created a `DataFrame` df using the `pd.DataFrame()` function and passed the `data` dictionary to it. Finally, we printed the `DataFrame` to the console.\n"
   ]
  },
  {
   "attachments": {},
   "cell_type": "markdown",
   "metadata": {},
   "source": [
    "## Data Selection and Manipulation\n"
   ]
  },
  {
   "attachments": {},
   "cell_type": "markdown",
   "metadata": {},
   "source": [
    "Pandas provides powerful tools for data selection a manipulation. In this section, we will cover some of the most commonly used tools. For a complete list of tools, refer to the official pandas documentation.\n"
   ]
  },
  {
   "attachments": {},
   "cell_type": "markdown",
   "metadata": {},
   "source": [
    "### Selecting Columns\n"
   ]
  },
  {
   "attachments": {},
   "cell_type": "markdown",
   "metadata": {},
   "source": [
    "You can select one or more columns from a DataFrame by using square selection brackets `[]` with the column name(s). For example:\n"
   ]
  },
  {
   "cell_type": "code",
   "execution_count": null,
   "metadata": {},
   "outputs": [],
   "source": [
    "import pandas as pd\n",
    "\n",
    "data = {\n",
    "    \"name\": [\"John\", \"Charlotte\", \"David\", \"Alice\"],\n",
    "    \"age\": [20, 21, 19, 18],\n",
    "    \"country\": [\"USA\", \"UK\", \"Canada\", \"France\"],\n",
    "}\n",
    "\n",
    "df = pd.DataFrame(data)\n"
   ]
  },
  {
   "cell_type": "code",
   "execution_count": null,
   "metadata": {},
   "outputs": [],
   "source": [
    "# Selecting a single column\n",
    "print(df[\"name\"])\n"
   ]
  },
  {
   "cell_type": "code",
   "execution_count": null,
   "metadata": {},
   "outputs": [],
   "source": [
    "# Selecting multiple columns\n",
    "print(df[[\"name\", \"age\"]])\n"
   ]
  },
  {
   "attachments": {},
   "cell_type": "markdown",
   "metadata": {},
   "source": [
    "Note the usage of double square brackets `[[...]]` to select multiple columns. This is because we are inputting a list of column names inside the selection brackets `[]`. Therefore, if you use a single square bracket to pass multiple column names `[...]`, you will get an error. Notice that the output of `df[...]` is a `Series` object, while the output of `df[[...]]` is a `DataFrame` object.\n"
   ]
  },
  {
   "attachments": {},
   "cell_type": "markdown",
   "metadata": {},
   "source": [
    "You can alternatively use a more object oriented method to select columns using dot (`.`) notation. For example:\n"
   ]
  },
  {
   "cell_type": "code",
   "execution_count": null,
   "metadata": {},
   "outputs": [],
   "source": [
    "import pandas as pd\n",
    "\n",
    "data = {\n",
    "    \"name\": [\"John\", \"Charlotte\", \"David\", \"Alice\"],\n",
    "    \"age\": [20, 21, 19, 18],\n",
    "    \"country\": [\"USA\", \"UK\", \"Canada\", \"France\"],\n",
    "}\n",
    "\n",
    "df = pd.DataFrame(data)\n",
    "\n",
    "# Selecting a single column\n",
    "print(df.name)\n"
   ]
  },
  {
   "attachments": {},
   "cell_type": "markdown",
   "metadata": {},
   "source": [
    "However, this method has caveats. For example, it can cause problems when column names contain spaces or special characters. For example, if you have a column named `\"first name\"`, you cannot use `.` notation to select it. You will have to use selection brackets `[]` instead. Also note that `.` notation is not designed for selecting multiple columns. Selecting columns through `.` notation is arguably less readable and powerful than using selection brackets `[]`. Therefore, it is recommended for most use cases to use selection brackets `[]` for selecting columns.\n"
   ]
  },
  {
   "attachments": {},
   "cell_type": "markdown",
   "metadata": {},
   "source": [
    "### Filtering Rows\n"
   ]
  },
  {
   "attachments": {},
   "cell_type": "markdown",
   "metadata": {},
   "source": [
    "You can filter rows using conditional statements/boolean arrays within selection brackets `[]`. For example:\n"
   ]
  },
  {
   "cell_type": "code",
   "execution_count": null,
   "metadata": {},
   "outputs": [],
   "source": [
    "import pandas as pd\n",
    "\n",
    "data = {\n",
    "    \"name\": [\"John\", \"Charlotte\", \"David\", \"Alice\"],\n",
    "    \"age\": [20, 21, 19, 18],\n",
    "    \"country\": [\"USA\", \"UK\", \"Canada\", \"France\"],\n",
    "}\n",
    "\n",
    "df = pd.DataFrame(data)\n"
   ]
  },
  {
   "cell_type": "code",
   "execution_count": null,
   "metadata": {},
   "outputs": [],
   "source": [
    "# Creating a mask to filter rows\n",
    "print(df[\"age\"] > 19)\n"
   ]
  },
  {
   "cell_type": "code",
   "execution_count": null,
   "metadata": {},
   "outputs": [],
   "source": [
    "# Filtering rows based on a condition\n",
    "print(df[df[\"age\"] > 19])\n"
   ]
  },
  {
   "attachments": {},
   "cell_type": "markdown",
   "metadata": {},
   "source": [
    "### Selecting Rows and Columns\n"
   ]
  },
  {
   "attachments": {},
   "cell_type": "markdown",
   "metadata": {},
   "source": [
    "The `iloc[]` and `loc[]` operators can be used to select rows and columns simultaneously, making them very powerful tools for data selection and manipulation. The `iloc[]` operator is used to select rows and columns by their integer positions, while the `loc[]` operator is used to select rows and columns by their labels, or by a boolean array/conditional expression. The following example demonstrate the use of `iloc[]`:\n"
   ]
  },
  {
   "cell_type": "code",
   "execution_count": null,
   "metadata": {},
   "outputs": [],
   "source": [
    "import pandas as pd\n",
    "\n",
    "data = {\n",
    "    \"name\": [\"John\", \"Charlotte\", \"David\", \"Alice\"],\n",
    "    \"age\": [20, 21, 19, 18],\n",
    "    \"country\": [\"USA\", \"UK\", \"Canada\", \"France\"],\n",
    "}\n",
    "\n",
    "df = pd.DataFrame(data)\n"
   ]
  },
  {
   "cell_type": "code",
   "execution_count": null,
   "metadata": {},
   "outputs": [],
   "source": [
    "# Selecting a single row\n",
    "print(df.iloc[0])\n"
   ]
  },
  {
   "cell_type": "code",
   "execution_count": null,
   "metadata": {},
   "outputs": [],
   "source": [
    "# Selecting a single element\n",
    "print(df.iloc[0, 1])\n"
   ]
  },
  {
   "cell_type": "code",
   "execution_count": null,
   "metadata": {},
   "outputs": [],
   "source": [
    "# Selecting multiple rows\n",
    "print(df.iloc[1:3])\n"
   ]
  },
  {
   "cell_type": "code",
   "execution_count": null,
   "metadata": {},
   "outputs": [],
   "source": [
    "# Selecting multiple columns\n",
    "print(df.iloc[:, 1:3])\n"
   ]
  },
  {
   "attachments": {},
   "cell_type": "markdown",
   "metadata": {},
   "source": [
    "Note that the `iloc[]` operator follows the same rules as indexing and slicing a Python object like a list or a NumPy array. However, the `loc[]` operator is arguably more powerful, as it allows you to access data through labels and booleans. This approach is considerably more intuitive and readable than the `iloc[]` operator. Allowed inputs can be a number, a string, a list, a slice object, or a boolean array/conditional expression. Therefore for most use cases, the `loc[]` operator is the preferred way of selecting rows and columns. The following example demonstrate the use of `loc[]`:\n"
   ]
  },
  {
   "cell_type": "code",
   "execution_count": null,
   "metadata": {},
   "outputs": [],
   "source": [
    "import pandas as pd\n",
    "\n",
    "data = {\n",
    "    \"name\": [\"John\", \"Charlotte\", \"David\", \"Alice\"],\n",
    "    \"age\": [20, 21, 19, 18],\n",
    "    \"country\": [\"USA\", \"UK\", \"Canada\", \"France\"],\n",
    "}\n",
    "\n",
    "df = pd.DataFrame(data)\n"
   ]
  },
  {
   "cell_type": "code",
   "execution_count": null,
   "metadata": {},
   "outputs": [],
   "source": [
    "# Selecting a single row by an integer label\n",
    "print(df.loc[0])\n"
   ]
  },
  {
   "cell_type": "code",
   "execution_count": null,
   "metadata": {},
   "outputs": [],
   "source": [
    "# Selecting a single element by an integer label and a string label\n",
    "print(df.loc[0, \"age\"])\n"
   ]
  },
  {
   "cell_type": "code",
   "execution_count": null,
   "metadata": {},
   "outputs": [],
   "source": [
    "# Selecting multiple rows by a slice object\n",
    "print(df.loc[1:2])\n"
   ]
  },
  {
   "cell_type": "code",
   "execution_count": null,
   "metadata": {},
   "outputs": [],
   "source": [
    "# Selecting multiple columns by a list of string labels\n",
    "print(df.loc[:, [\"age\", \"country\"]])\n"
   ]
  },
  {
   "cell_type": "code",
   "execution_count": null,
   "metadata": {},
   "outputs": [],
   "source": [
    "# Selecting multiple rows by a conditional expression and multiple columns by a list of string labels\n",
    "print(df.loc[df[\"age\"] > 19, [\"name\", \"age\"]])\n"
   ]
  },
  {
   "attachments": {},
   "cell_type": "markdown",
   "metadata": {},
   "source": [
    "### Modifying Data\n"
   ]
  },
  {
   "attachments": {},
   "cell_type": "markdown",
   "metadata": {},
   "source": [
    "The operations covered so far are not only useful for selecting data, but also for modifying data. For example:\n"
   ]
  },
  {
   "cell_type": "code",
   "execution_count": null,
   "metadata": {},
   "outputs": [],
   "source": [
    "import pandas as pd\n",
    "\n",
    "data = {\n",
    "    \"name\": [\"John\", \"Charlotte\", \"David\", \"Alice\"],\n",
    "    \"age\": [20, 21, 19, 18],\n",
    "    \"country\": [\"USA\", \"UK\", \"Canada\", \"France\"],\n",
    "}\n",
    "\n",
    "df = pd.DataFrame(data)\n",
    "\n",
    "print(df)\n"
   ]
  },
  {
   "cell_type": "code",
   "execution_count": null,
   "metadata": {},
   "outputs": [],
   "source": [
    "# Modifying a single element using the loc operator\n",
    "df.loc[0, \"name\"] = \"Sam\"\n",
    "\n",
    "print(df)\n"
   ]
  },
  {
   "cell_type": "code",
   "execution_count": null,
   "metadata": {},
   "outputs": [],
   "source": [
    "# Modifying a single column using selection brackets [].\n",
    "df[\"age\"] = [25, 26, 24, 23]\n",
    "\n",
    "print(df)\n"
   ]
  },
  {
   "cell_type": "code",
   "execution_count": null,
   "metadata": {},
   "outputs": [],
   "source": [
    "# Modifying a selection of rows in a single column using the loc operator and a conditional expression\n",
    "df.loc[df[\"age\"] > 24, \"country\"] = \"Germany\"\n",
    "\n",
    "print(df)\n"
   ]
  },
  {
   "attachments": {},
   "cell_type": "markdown",
   "metadata": {},
   "source": [
    "### Adding Columns and Rows\n"
   ]
  },
  {
   "attachments": {},
   "cell_type": "markdown",
   "metadata": {},
   "source": [
    "You can add a new column to a DataFrame by assigning a value to a new column name. This behavior is similar to adding a new key to a dictionary. There are multitude ways to add a new column to a DataFrame. The following example demonstrates three different ways to add a new column to a DataFrame:\n"
   ]
  },
  {
   "cell_type": "code",
   "execution_count": null,
   "metadata": {},
   "outputs": [],
   "source": [
    "import pandas as pd\n",
    "\n",
    "data = {\n",
    "    \"name\": [\"John\", \"Charlotte\", \"David\", \"Alice\"],\n",
    "    \"age\": [20, 21, 19, 18],\n",
    "    \"country\": [\"USA\", \"UK\", \"Canada\", \"France\"],\n",
    "}\n",
    "\n",
    "df = pd.DataFrame(data)\n",
    "\n",
    "print(df)\n"
   ]
  },
  {
   "cell_type": "code",
   "execution_count": null,
   "metadata": {},
   "outputs": [],
   "source": [
    "# Adding a new column\n",
    "df[\"height\"] = [180, 165, 175, 160]\n",
    "\n",
    "print(df)\n"
   ]
  },
  {
   "cell_type": "code",
   "execution_count": null,
   "metadata": {},
   "outputs": [],
   "source": [
    "# Adding a new column using the loc operator\n",
    "df.loc[:, \"weight\"] = [80, 55, 65, 50]\n",
    "\n",
    "print(df)\n"
   ]
  },
  {
   "cell_type": "code",
   "execution_count": null,
   "metadata": {},
   "outputs": [],
   "source": [
    "# Adding a new column through a calculation of existing columns\n",
    "df[\"bmi\"] = df[\"weight\"] / (df[\"height\"] / 100) ** 2\n",
    "\n",
    "print(df)\n"
   ]
  },
  {
   "attachments": {},
   "cell_type": "markdown",
   "metadata": {},
   "source": [
    "Adding a new row to a DataFrame is a bit more complicated. Again, there are multiple ways to add a new row to a DataFrame. The following example demonstrates two different ways to add a new row to a DataFrame:\n"
   ]
  },
  {
   "cell_type": "code",
   "execution_count": null,
   "metadata": {},
   "outputs": [],
   "source": [
    "import pandas as pd\n",
    "\n",
    "data = {\n",
    "    \"name\": [\"John\", \"Charlotte\", \"David\", \"Alice\"],\n",
    "    \"age\": [20, 21, 19, 18],\n",
    "    \"country\": [\"USA\", \"UK\", \"Canada\", \"France\"],\n",
    "}\n",
    "\n",
    "df = pd.DataFrame(data)\n",
    "\n",
    "print(df)\n"
   ]
  },
  {
   "cell_type": "code",
   "execution_count": null,
   "metadata": {},
   "outputs": [],
   "source": [
    "# Adding a new row using the loc operator\n",
    "df.loc[4] = [\"Bob\", 22, \"Germany\"]\n",
    "\n",
    "print(df)\n"
   ]
  },
  {
   "cell_type": "code",
   "execution_count": null,
   "metadata": {},
   "outputs": [],
   "source": [
    "# Adding a new row using the concat method\n",
    "df = pd.concat([df, pd.DataFrame([[\"Sam\", 25, \"Canada\"]], columns=df.columns)])\n",
    "\n",
    "print(df)\n"
   ]
  },
  {
   "attachments": {},
   "cell_type": "markdown",
   "metadata": {},
   "source": [
    "### Deleting Data\n"
   ]
  },
  {
   "attachments": {},
   "cell_type": "markdown",
   "metadata": {},
   "source": [
    "You can delete data from a DataFrame using the `drop()` function. The `drop()` function takes two arguments: `labels` and `axis`. The `labels` argument specifies the row label(s) or column name(s) to be dropped, while the `axis` argument specifies the axis along which the labels are to be dropped. The `axis` argument can take two values: `0` for rows and `1` for columns. The following example demonstrates the use of the `drop()` function:\n"
   ]
  },
  {
   "cell_type": "code",
   "execution_count": null,
   "metadata": {},
   "outputs": [],
   "source": [
    "import pandas as pd\n",
    "\n",
    "data = {\n",
    "    \"name\": [\"John\", \"Charlotte\", \"David\", \"Alice\"],\n",
    "    \"age\": [20, 21, 19, 18],\n",
    "    \"country\": [\"USA\", \"UK\", \"Canada\", \"France\"],\n",
    "}\n",
    "\n",
    "df = pd.DataFrame(data)\n",
    "\n",
    "print(df)\n"
   ]
  },
  {
   "cell_type": "code",
   "execution_count": null,
   "metadata": {},
   "outputs": [],
   "source": [
    "# Dropping a column\n",
    "df = df.drop(\"age\", axis=1)\n",
    "\n",
    "print(df)\n"
   ]
  },
  {
   "cell_type": "code",
   "execution_count": null,
   "metadata": {},
   "outputs": [],
   "source": [
    "# Dropping a row\n",
    "df = df.drop(0, axis=0)\n",
    "\n",
    "print(df)\n"
   ]
  },
  {
   "attachments": {},
   "cell_type": "markdown",
   "metadata": {},
   "source": [
    "`pandas` provides an alternative way of deleting data using the `drop()` function. You can use the `inplace` argument to delete data in-place. The `inplace` argument takes a boolean value. If `inplace=True`, the data will be deleted in-place, otherwise, a copy of the DataFrame will be returned which will have to be assigned to a variable. The following example demonstrates the use of the `inplace` argument:\n"
   ]
  },
  {
   "cell_type": "code",
   "execution_count": null,
   "metadata": {},
   "outputs": [],
   "source": [
    "import pandas as pd\n",
    "\n",
    "data = {\n",
    "    \"name\": [\"John\", \"Charlotte\", \"David\", \"Alice\"],\n",
    "    \"age\": [20, 21, 19, 18],\n",
    "    \"country\": [\"USA\", \"UK\", \"Canada\", \"France\"],\n",
    "}\n",
    "\n",
    "df = pd.DataFrame(data)\n",
    "\n",
    "print(df)\n"
   ]
  },
  {
   "cell_type": "code",
   "execution_count": null,
   "metadata": {},
   "outputs": [],
   "source": [
    "# Dropping a column\n",
    "df.drop(\"age\", axis=1, inplace=True)\n",
    "\n",
    "print(df)\n"
   ]
  },
  {
   "cell_type": "code",
   "execution_count": null,
   "metadata": {},
   "outputs": [],
   "source": [
    "# Dropping a row\n",
    "df.drop(0, axis=0, inplace=True)\n",
    "\n",
    "print(df)\n"
   ]
  },
  {
   "attachments": {},
   "cell_type": "markdown",
   "metadata": {},
   "source": [
    "If you wish to delete multiple rows or columns, you can pass a list of labels to the `labels` argument.\n"
   ]
  },
  {
   "attachments": {},
   "cell_type": "markdown",
   "metadata": {},
   "source": [
    "### Sorting Data\n"
   ]
  },
  {
   "attachments": {},
   "cell_type": "markdown",
   "metadata": {},
   "source": [
    "You can sort data in a DataFrame using the `sort_values()` function. The `sort_values()` function takes two arguments: `by` and `ascending`. The `by` argument specifies the column name(s) by which the data will be sorted, while the `ascending` argument specifies whether the data will be sorted in ascending or descending order. The `ascending` argument can take two values: `True` for ascending order and `False` for descending order. The following example demonstrates the use of the `sort_values()` function:\n"
   ]
  },
  {
   "cell_type": "code",
   "execution_count": null,
   "metadata": {},
   "outputs": [],
   "source": [
    "import pandas as pd\n",
    "\n",
    "data = {\n",
    "    \"name\": [\"John\", \"Charlotte\", \"David\", \"Alice\", \"Bob\", \"Sam\"],\n",
    "    \"age\": [20, 21, 19, 18, 22, 25],\n",
    "    \"country\": [\"USA\", \"UK\", \"Canada\", \"France\", \"Germany\", \"Canada\"],\n",
    "}\n",
    "\n",
    "df = pd.DataFrame(data)\n",
    "\n",
    "print(df)\n"
   ]
  },
  {
   "cell_type": "code",
   "execution_count": null,
   "metadata": {},
   "outputs": [],
   "source": [
    "# Sorting by a single column\n",
    "df = df.sort_values(\"age\")\n",
    "\n",
    "print(df)\n"
   ]
  },
  {
   "cell_type": "code",
   "execution_count": null,
   "metadata": {},
   "outputs": [],
   "source": [
    "# Sorting by multiple columns\n",
    "df = df.sort_values([\"country\", \"age\"])\n",
    "\n",
    "print(df)\n"
   ]
  },
  {
   "cell_type": "code",
   "execution_count": null,
   "metadata": {},
   "outputs": [],
   "source": [
    "# Sorting by multiple columns in descending order\n",
    "df = df.sort_values([\"country\", \"age\"], ascending=False)\n",
    "\n",
    "print(df)\n"
   ]
  },
  {
   "cell_type": "code",
   "execution_count": null,
   "metadata": {},
   "outputs": [],
   "source": [
    "# Sorting by multiple columns\n",
    "df = df.sort_values([\"country\", \"age\"])\n",
    "\n",
    "print(df)\n"
   ]
  },
  {
   "cell_type": "code",
   "execution_count": null,
   "metadata": {},
   "outputs": [],
   "source": [
    "# Sorting by multiple columns in descending order\n",
    "df = df.sort_values([\"country\", \"age\"], ascending=False)\n",
    "\n",
    "print(df)\n"
   ]
  },
  {
   "cell_type": "code",
   "execution_count": null,
   "metadata": {},
   "outputs": [],
   "source": [
    "# Sorting by a single column in-place\n",
    "print(df.sort_values(\"age\", inplace=True))\n"
   ]
  },
  {
   "attachments": {},
   "cell_type": "markdown",
   "metadata": {},
   "source": [
    "### Grouping Data\n"
   ]
  },
  {
   "attachments": {},
   "cell_type": "markdown",
   "metadata": {},
   "source": [
    "You can group a DataFrame by one or more columns and perform aggregation operations on the groups using the `groupby()` function. The `groupby()` function takes one argument: `by`. The `by` argument specifies the column name(s) by which the data will be grouped. The following example demonstrates the use of the `groupby()` function:\n"
   ]
  },
  {
   "cell_type": "code",
   "execution_count": null,
   "metadata": {},
   "outputs": [],
   "source": [
    "import pandas as pd\n",
    "\n",
    "data = {\n",
    "    \"name\": [\"John\", \"Charlotte\", \"David\", \"Alice\", \"Bob\", \"Sam\"],\n",
    "    \"age\": [20, 21, 19, 18, 22, 25],\n",
    "    \"country\": [\"USA\", \"UK\", \"Canada\", \"UK\", \"USA\", \"Canada\"],\n",
    "}\n",
    "\n",
    "df = pd.DataFrame(data)\n"
   ]
  },
  {
   "cell_type": "code",
   "execution_count": null,
   "metadata": {},
   "outputs": [],
   "source": [
    "# Grouping by country and calculating the number of rows in each group\n",
    "print(df.groupby(\"country\").size())\n"
   ]
  },
  {
   "cell_type": "code",
   "execution_count": null,
   "metadata": {},
   "outputs": [],
   "source": [
    "# Grouping by country and calculating the mean age of each group\n",
    "print(df.groupby(\"country\")[\"age\"].mean())\n"
   ]
  },
  {
   "cell_type": "code",
   "execution_count": null,
   "metadata": {},
   "outputs": [],
   "source": [
    "# Grouping by country and counting the number of unique names in each group\n",
    "print(df.groupby(\"country\")[\"name\"].nunique())\n"
   ]
  },
  {
   "attachments": {},
   "cell_type": "markdown",
   "metadata": {},
   "source": [
    "This feature is extremely powerful and can be used to perform a wide variety of data analysis tasks. The number of ways in which you can use the `groupby()` function is limited only by your imagination. For a complete list of aggregation functions, refer to the official pandas documentation.\n"
   ]
  },
  {
   "attachments": {},
   "cell_type": "markdown",
   "metadata": {},
   "source": [
    "### Merging Data\n"
   ]
  },
  {
   "attachments": {},
   "cell_type": "markdown",
   "metadata": {},
   "source": [
    "The last feature we will cover in this tutorial is merging `DataFrames`. You can merge two `DataFrames` using the `merge()` function. The `merge()` function takes three arguments: `left`, `right`, and `on`. The `left` and `right` arguments specify the left and right DataFrames to be merged, while the `on` argument specifies the column name(s) on which the DataFrames will be merged. You can also use use the `left_on` and `right_on` arguments to specify the column names on which the DataFrames will be merged, if the column names are different in the two DataFrames. The following examples demonstrate the use of the `merge()` function:\n"
   ]
  },
  {
   "cell_type": "code",
   "execution_count": null,
   "metadata": {},
   "outputs": [],
   "source": [
    "import pandas as pd\n",
    "\n",
    "data1 = {\n",
    "    \"name\": [\"Alice\", \"Bob\", \"Charlie\", \"David\"],\n",
    "    \"age\": [25, 30, 35, 40],\n",
    "    \"country\": [\"USA\", \"Canada\", \"France\", \"UK\"],\n",
    "}\n",
    "\n",
    "data2 = {\n",
    "    \"name\": [\"Alice\", \"Bob\", \"Charlie\", \"David\"],\n",
    "    \"salary\": [50000, 60000, 70000, 80000],\n",
    "}\n",
    "\n",
    "data3 = {\n",
    "    \"first_name\": [\"Alice\", \"Bob\", \"Charlie\", \"David\"],\n",
    "    \"salary\": [50000, 60000, 70000, 80000],\n",
    "}\n",
    "\n",
    "df1 = pd.DataFrame(data1)\n",
    "df2 = pd.DataFrame(data2)\n",
    "df3 = pd.DataFrame(data3)\n"
   ]
  },
  {
   "cell_type": "code",
   "execution_count": null,
   "metadata": {},
   "outputs": [],
   "source": [
    "# Merging the two DataFrames on the 'name' column\n",
    "merged = pd.merge(df1, df2, on=\"name\")\n",
    "\n",
    "print(merged)\n"
   ]
  },
  {
   "cell_type": "code",
   "execution_count": null,
   "metadata": {},
   "outputs": [],
   "source": [
    "# Alternative syntax for merging the two DataFrames on the 'name' column - notice that the `left` argument is not needed\n",
    "merged = df1.merge(df2, on=\"name\")\n",
    "\n",
    "print(merged)\n"
   ]
  },
  {
   "cell_type": "code",
   "execution_count": null,
   "metadata": {},
   "outputs": [],
   "source": [
    "# Merging the two DataFrames where the column names are different.\n",
    "merged = pd.merge(df1, df3, left_on=\"name\", right_on=\"first_name\")\n",
    "\n",
    "print(merged)\n"
   ]
  },
  {
   "attachments": {},
   "cell_type": "markdown",
   "metadata": {},
   "source": [
    "An optional `how` argument can be used to specify the type of merge. The `how` argument can take four values: `\"left\"`, `\"right\"`, `\"outer\"`, and `\"inner\"`. The `\"left\"` value specifies a left merge, the `\"right\"` value specifies a right merge, the `\"outer\"` value specifies an outer merge, and the `\"inner\"` value specifies an inner merge.\n"
   ]
  },
  {
   "attachments": {},
   "cell_type": "markdown",
   "metadata": {},
   "source": [
    "When you first acquire a new dataset, it is important to explore the data to get a better understanding of the data. This process is often referred to as data exploration. Data exploration is an iterative process. You will often have to go back and forth between data exploration and data cleaning. This tutorial will cover some of the very basics, with more advanced techniques covered in future tutorials.\n"
   ]
  },
  {
   "attachments": {},
   "cell_type": "markdown",
   "metadata": {},
   "source": [
    "## Exercises\n"
   ]
  },
  {
   "attachments": {},
   "cell_type": "markdown",
   "metadata": {},
   "source": [
    "This tutorial covered but a mere fraction of the features of the `pandas` library. The `pandas` library is extremely powerful and can be used to perform a wide variety of data analysis tasks. The following exercises will sometimes cover topics that were not covered in this tutorial, giving you a chance to learn new features of the `pandas` library. If you get stuck, you can refer to the official pandas documentation, or you can ask for help. Create your first DataFrame by running the following code:\n",
    "\n",
    "```python\n",
    "import pandas as pd\n",
    "import numpy as np\n",
    "\n",
    "# Generating random data for the first DataFrame\n",
    "np.random.seed(123)\n",
    "df1 = pd.DataFrame({\n",
    "    'ID': np.arange(1000),\n",
    "    'Age': np.random.randint(18, 65, 1000),\n",
    "    'Country': np.random.choice(\n",
    "        ['USA', 'Canada', 'France', 'UK'], 1000\n",
    "    )\n",
    "})\n",
    "```\n",
    "\n",
    "1. Display the first 10 rows of the DataFrame.\n",
    "\n",
    "2. Display the number of rows and columns in the DataFrame.\n",
    "\n",
    "3. Select the `Age` column from the DataFrame and display its values.\n",
    "\n",
    "4. Select the `ID` and `Country` columns from the DataFrame and display their values.\n",
    "\n",
    "5. Filter the DataFrame to only include rows where the age of the employee is less than or equal to 60.\n",
    "\n",
    "6. Create another DataFrame using the code below and merge it to the original DataFrame. We will be using the merged DataFrame for the rest of the exercises.\n",
    "\n",
    "   ```python\n",
    "   np.random.seed(456)\n",
    "   df2 = pd.DataFrame({\n",
    "       'ID': np.arange(1000),\n",
    "       'Department': np.random.choice(\n",
    "           ['Sales', 'Marketing', 'Engineering', 'Finance'], 1000\n",
    "       )\n",
    "   })\n",
    "   ```\n",
    "\n",
    "7. Create a new column called `Bonus` that is 10% of the `Salary` column for each employee.\n",
    "\n",
    "8. Sort the DataFrame by department and salary in descending order.\n",
    "\n",
    "9. Calculate the mean, median, and standard deviation of the salary for each department.\n",
    "\n",
    "10. Give a 10% raise to all employees in the Sales department.\n",
    "\n",
    "11. Set the salaries of all Canadian engineers to 100,000.\n",
    "\n",
    "12. Create a new column in the DataFrame called `salary_range` that contains the salary range for each employee. The salary range should be one of the following: `low`, `medium`, or `high`. The salary range should be determined by the following rules:\n",
    "\n",
    "    - If the salary is less than 60,000, the salary range is `low`.\n",
    "    - If the salary is greater than or equal to 60,000 and less than 80,000, the salary range is `medium`.\n",
    "    - If the salary is greater than or equal to 80,000, the salary range is `high`.\n",
    "\n",
    "    Hint: You can use the `apply()` function to apply a function to each row or column of a DataFrame.\n",
    "\n",
    "13. Create a pivot table with Department as the and Age as the columns, and the mean Salary as the values.\n",
    "\n",
    "14. Explore the `pandas` documentation to see what other techniques you can use to manipulate the data. For example:\n",
    "\n",
    "    - How can you create bins for the `Age` column?\n",
    "    - How can we find the correlation between the `Age` and `Salary` columns?\n",
    "    - How can we save the DataFrame to a CSV file?\n",
    "\n",
    "    `pandas` is a very powerful library and can be used to perform a wide variety of data analysis tasks. The number of ways in which you can use the `pandas` library is limited only by your imagination. The more you explore the `pandas` library, the more you will learn about its capabilities.\n"
   ]
  },
  {
   "attachments": {},
   "cell_type": "markdown",
   "metadata": {},
   "source": [
    "## Further Reading\n"
   ]
  },
  {
   "attachments": {},
   "cell_type": "markdown",
   "metadata": {},
   "source": [
    "Check out the following resources for more information on the `pandas` library:\n",
    "\n",
    "- [Official pandas documentation](https://pandas.pydata.org/pandas-docs/stable/index.html)\n",
    "- [pandas Cheat Sheet](https://pandas.pydata.org/Pandas_Cheat_Sheet.pdf)\n",
    "- [pandas Cookbook](https://pandas.pydata.org/pandas-docs/stable/user_guide/cookbook.html)\n",
    "\n",
    "Tutorials:\n",
    "\n",
    "- [W3Schools](https://www.w3schools.com/python/pandas/default.asp)\n",
    "- [DataCamp](https://www.datacamp.com/community/tutorials/pandas-tutorial-dataframe-python)\n",
    "- [Real Python](https://realpython.com/pandas-python-explore-dataset/)\n",
    "- [Python Data Science Handbook](https://jakevdp.github.io/PythonDataScienceHandbook/03.00-introduction-to-pandas.html)\n",
    "- [kaggle](https://www.kaggle.com/learn/pandas)\n"
   ]
  }
 ],
 "metadata": {
  "kernelspec": {
   "display_name": "Python 3",
   "language": "python",
   "name": "python3"
  },
  "language_info": {
   "codemirror_mode": {
    "name": "ipython",
    "version": 3
   },
   "file_extension": ".py",
   "mimetype": "text/x-python",
   "name": "python",
   "nbconvert_exporter": "python",
   "pygments_lexer": "ipython3",
   "version": "3.10.6"
  },
  "orig_nbformat": 4,
  "vscode": {
   "interpreter": {
    "hash": "31f2aee4e71d21fbe5cf8b01ff0e069b9275f58929596ceb00d14d90e3e16cd6"
   }
  }
 },
 "nbformat": 4,
 "nbformat_minor": 2
}
