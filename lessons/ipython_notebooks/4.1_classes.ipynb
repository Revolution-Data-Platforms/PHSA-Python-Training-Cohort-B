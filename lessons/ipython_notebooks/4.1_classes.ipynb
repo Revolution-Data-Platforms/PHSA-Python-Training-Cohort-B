{
 "cells": [
  {
   "attachments": {},
   "cell_type": "markdown",
   "metadata": {},
   "source": [
    "# Classes\n"
   ]
  },
  {
   "attachments": {},
   "cell_type": "markdown",
   "metadata": {},
   "source": [
    "Classes and methods are fundamental concepts in object-oriented programming (OOP) and are a key feature of the Python language. Classes allow you to define your own data types and methods, which are functions that operate on those data types. The syntax for defining classes is similar to that of functions and is as follows:\n",
    "\n",
    "```python\n",
    "class ClassName:\n",
    "    \"\"\"Optional documentation string.\"\"\"\n",
    "    # Class body\n",
    "```\n"
   ]
  },
  {
   "attachments": {},
   "cell_type": "markdown",
   "metadata": {},
   "source": [
    "## Defining a Class\n"
   ]
  },
  {
   "attachments": {},
   "cell_type": "markdown",
   "metadata": {},
   "source": [
    "To define a class, we use the `class` keyword. The name of the class should be in `CamelCase` format, and the body of the class should be indented. For example:\n"
   ]
  },
  {
   "cell_type": "code",
   "execution_count": null,
   "metadata": {},
   "outputs": [],
   "source": [
    "class Dog:\n",
    "    pass"
   ]
  },
  {
   "attachments": {},
   "cell_type": "markdown",
   "metadata": {},
   "source": [
    "In this example, we've defined a class called `Dog`. The `pass` statement is a placeholder that tells Python to do nothing. We'll fill in the class later.\n"
   ]
  },
  {
   "attachments": {},
   "cell_type": "markdown",
   "metadata": {},
   "source": [
    "## Creating an Instance of a Class\n"
   ]
  },
  {
   "attachments": {},
   "cell_type": "markdown",
   "metadata": {},
   "source": [
    "Now we've designed a class, we can create an instance of that class. An instance is an object that is constructed from a class. For example:\n"
   ]
  },
  {
   "cell_type": "code",
   "execution_count": null,
   "metadata": {},
   "outputs": [],
   "source": [
    "my_dog = Dog()"
   ]
  },
  {
   "attachments": {},
   "cell_type": "markdown",
   "metadata": {},
   "source": [
    "In this example, we've created an instance of the `Dog` class and assigned it to the variable `my_dog`.\n"
   ]
  },
  {
   "attachments": {},
   "cell_type": "markdown",
   "metadata": {},
   "source": [
    "## Attributes\n"
   ]
  },
  {
   "attachments": {},
   "cell_type": "markdown",
   "metadata": {},
   "source": [
    "### Instance Attributes\n"
   ]
  },
  {
   "attachments": {},
   "cell_type": "markdown",
   "metadata": {},
   "source": [
    "Now that we have an object, we can assign instance attributes to that object. Instance attributes are variables that are specific to each instance of a class. For example:\n"
   ]
  },
  {
   "cell_type": "code",
   "execution_count": null,
   "metadata": {},
   "outputs": [],
   "source": [
    "class Dog:\n",
    "    def __init__(self, name, age):\n",
    "        self.name = name\n",
    "        self.age = age\n",
    "\n",
    "my_dog = Dog('Rex', 2)\n",
    "print(my_dog.name, my_dog.age)"
   ]
  },
  {
   "attachments": {},
   "cell_type": "markdown",
   "metadata": {},
   "source": [
    "In this example, we've defined an `__init__` method for our `Dog` class. `__init__` is a special method that gets called when an object is created. It takes the parameters `name` and `age` and assigns them to the instance attributes `self.name` and `self.age` respectively. The `self` parameter is a reference to the current instance of the class, and is used to access variables that belong to the class.\n"
   ]
  },
  {
   "attachments": {},
   "cell_type": "markdown",
   "metadata": {},
   "source": [
    "### Class Attributes\n"
   ]
  },
  {
   "attachments": {},
   "cell_type": "markdown",
   "metadata": {},
   "source": [
    "Class variables are variables that are shared by all instances of a class. To define a class variable, we define a variable inside the class but outside of any methods. For example:\n"
   ]
  },
  {
   "cell_type": "code",
   "execution_count": null,
   "metadata": {},
   "outputs": [],
   "source": [
    "class Dog:\n",
    "    num_legs = 4\n",
    "\n",
    "    def __init__(self, name, age):\n",
    "        self.name = name\n",
    "        self.age = age\n",
    "\n",
    "my_dog = Dog('Rex', 2)\n",
    "print(my_dog.num_legs)"
   ]
  },
  {
   "attachments": {},
   "cell_type": "markdown",
   "metadata": {},
   "source": [
    "In this example, we've defined a class variable `num_legs` with a value of `4`. This is unaffected by our choice of input parameters when creating an instance of the class.\n"
   ]
  },
  {
   "attachments": {},
   "cell_type": "markdown",
   "metadata": {},
   "source": [
    "## Methods\n"
   ]
  },
  {
   "attachments": {},
   "cell_type": "markdown",
   "metadata": {},
   "source": [
    "Methods are functions that are defined inside the body of a class using the `def` keyword. They are used to define the behaviors of the class. For example:\n"
   ]
  },
  {
   "cell_type": "code",
   "execution_count": null,
   "metadata": {},
   "outputs": [],
   "source": [
    "class Dog:\n",
    "    num_legs = 4\n",
    "\n",
    "    def __init__(self, name, age):\n",
    "        self.name = name\n",
    "        self.age = age\n",
    "        \n",
    "    def bark(self):\n",
    "        print(\"Woof!\")\n",
    "\n",
    "my_dog = Dog('Rex', 2)\n",
    "my_dog.bark()"
   ]
  },
  {
   "attachments": {},
   "cell_type": "markdown",
   "metadata": {},
   "source": [
    "In this example, we've defined a method called `bark` that takes the parameter `self`. The `self` parameter references the current instance of the class, and allows the method to access the instance variables that belong to the class. The `bark` method prints the string `\"Woof!\"` to the console.\n"
   ]
  },
  {
   "attachments": {},
   "cell_type": "markdown",
   "metadata": {},
   "source": [
    "## Inheritance\n"
   ]
  },
  {
   "attachments": {},
   "cell_type": "markdown",
   "metadata": {},
   "source": [
    "Class inheritance is a mechanism that allows you to create a new class that is a modified version of an existing class. The new class, known as the subclass, inherits attributes and behaviors from the existing class, known as the superclass. In Python, you can create a subclass by using the class keyword and specifying the superclass in parentheses after the subclass name.\n",
    "Here's an example of how to create a subclass:\n"
   ]
  },
  {
   "cell_type": "code",
   "execution_count": null,
   "metadata": {},
   "outputs": [],
   "source": [
    "class Animal:\n",
    "    def __init__(self, name, species):\n",
    "        self.name = name\n",
    "        self.species = species\n",
    "    \n",
    "    def speak(self):\n",
    "        print(\"Hello!\")\n",
    "\n",
    "class Dog(Animal):\n",
    "    def __init__(self, name, breed):\n",
    "        super().__init__(name, species='dog')\n",
    "        self.breed = breed\n",
    "        \n",
    "    def speak(self):\n",
    "        print(\"Woof!\")\n"
   ]
  },
  {
   "attachments": {},
   "cell_type": "markdown",
   "metadata": {},
   "source": [
    "In this example, we define an `Animal` class with instance variables name and species. We then define a `Dog` subclass that inherits from `Animal` and has an additional instance variable `breed`. In the Dog class's `__init__` method, we use `super()` to call the `__init__` method of the `Animal` superclass, passing in the name argument and setting the species argument to `'dog'`.\n"
   ]
  },
  {
   "attachments": {},
   "cell_type": "markdown",
   "metadata": {},
   "source": [
    "### Overriding Methods and Attributes\n"
   ]
  },
  {
   "attachments": {},
   "cell_type": "markdown",
   "metadata": {},
   "source": [
    "In the above example, we defined a `Dog` class that inherits from the `Animal` class. We have overridden the attributes `name` and `species` from the `Animal` class, and we have overridden the `__init__` method from the `Animal` class. We have also added a new attribute `breed` and overridden the `speak` method. For example:\n"
   ]
  },
  {
   "cell_type": "code",
   "execution_count": null,
   "metadata": {},
   "outputs": [],
   "source": [
    "human = Animal('John', 'human')\n",
    "print(human.name, human.species)\n",
    "human.speak()"
   ]
  },
  {
   "cell_type": "code",
   "execution_count": null,
   "metadata": {},
   "outputs": [],
   "source": [
    "dog = Dog('Rex', 'lab')\n",
    "print(dog.name, dog.species, dog.breed)\n",
    "dog.speak()"
   ]
  },
  {
   "attachments": {},
   "cell_type": "markdown",
   "metadata": {},
   "source": [
    "## Exercises\n"
   ]
  },
  {
   "attachments": {},
   "cell_type": "markdown",
   "metadata": {},
   "source": [
    "1. Define a class `Rectangle` with instance variables `length` and `width`, and a method `area` that returns the area of the rectangle.\n",
    "\n",
    "2. Define a class `Circle` with instance variable `radius`, and methods `area` and `circumference` that return the area and circumference of the circle, respectively.\n",
    "\n",
    "3. Define a class `Person` with instance variables `name` and `age`, and a method `greet` that prints a greeting message with the person's name.\n",
    "\n",
    "4. Define a class `Student` that inherits from `Person`, with an additional instance variable `major`, and a method `study` that prints a message that the student is studying their major.\n",
    "\n",
    "5. Define a class `Car` with instance variables `make`, `model`, and `year`, and a method `get_age` that returns the age of the car in years (based on the current year).\n",
    "\n",
    "6. Define a class `Employee` with instance variables `name`, `salary`, and `bonus`, and a method `total_pay` that returns the total pay (salary plus bonus) for the employee.\n",
    "\n",
    "7. Define a class `BankAccount` with instance variables balance and `interest_rate`, and methods `deposit` and `withdraw` that modify the balance, and a method `add_interest` that adds interest to the balance based on the interest rate.\n",
    "\n",
    "8. Define a class `ShoppingCart` with a list instance variable `items`, and methods `add_item` and `remove_item` that add and remove items from the list, and a method `total_cost` that returns the total cost of all the items in the list.\n",
    "\n",
    "9. Define a `Person` class with instance variables `name` and `age` and a `greet` method that prints a greeting. Then define an `Employee` subclass that inherits from `Person` and adds an instance variable `salary` and a `work` method that prints a message indicating the employee is working. You can use your code from Exercise 3 as a starting point for your subclass.\n",
    "\n",
    "10. Using the `BankAccount` class from Exercise 7, define two subclasses, `CheckingAccount` and `SavingsAccount`, that inherit from `BankAccount` and add instance variables `overdraft_fee` for checking accounts and `minimum_balance` for savings accounts. Implement the `withdraw` method in each subclass to include any additional fees or restrictions.\n"
   ]
  },
  {
   "attachments": {},
   "cell_type": "markdown",
   "metadata": {},
   "source": [
    "# Project: Car Rental System\n"
   ]
  },
  {
   "attachments": {},
   "cell_type": "markdown",
   "metadata": {},
   "source": [
    "Create a Python program that simulates a car rental system. The program should use a class to define a car, and allow the user to rent a car and return it.\n"
   ]
  },
  {
   "attachments": {},
   "cell_type": "markdown",
   "metadata": {},
   "source": [
    "## Project Requirements\n"
   ]
  },
  {
   "attachments": {},
   "cell_type": "markdown",
   "metadata": {},
   "source": [
    "1. The program should define a class named Car with methods to rent and return a car.\n",
    "\n",
    "2. The program should handle errors appropriately, for example, when the user attempts to rent a car that is already rented.\n"
   ]
  },
  {
   "attachments": {},
   "cell_type": "markdown",
   "metadata": {},
   "source": [
    "## Example Output\n"
   ]
  },
  {
   "attachments": {},
   "cell_type": "markdown",
   "metadata": {},
   "source": [
    "```\n",
    "Car Rental System\n",
    "\n",
    "Available cars:\n",
    "1. Toyota Corolla\n",
    "2. Honda Civic\n",
    "3. Mazda3\n",
    "\n",
    "Choose a car to rent (1/2/3): 2\n",
    "\n",
    "Rented car: Honda Civic.\n",
    "\n",
    "Available cars:\n",
    "1. Toyota Corolla\n",
    "3. Mazda3\n",
    "\n",
    "Return the rented car (y/n)? y\n",
    "\n",
    "Car returned. Thank you for renting from us!\n",
    "```\n"
   ]
  },
  {
   "attachments": {},
   "cell_type": "markdown",
   "metadata": {},
   "source": [
    "## Further Reading\n"
   ]
  },
  {
   "attachments": {},
   "cell_type": "markdown",
   "metadata": {},
   "source": [
    "Check out these following resources for more information on classes and methods:\n",
    "\n",
    "- W3Schools\n",
    "  - [Python Classes and Objects](https://www.w3schools.com/python/python_classes.asp)\n",
    "- RealPython\n",
    "  - [Python Classes and Objects](https://realpython.com/python3-object-oriented-programming/)\n",
    "- Python Docs\n",
    "  - [Classes](https://docs.python.org/3/tutorial/classes.html)\n",
    "  - [Data Model](https://docs.python.org/3/reference/datamodel.html)\n",
    "  - [Special method names](https://docs.python.org/3/reference/datamodel.html#special-method-names)\n",
    "\n",
    "You can also use the search terms \"python classes\" or \"python methods\" to find more resources online.\n"
   ]
  }
 ],
 "metadata": {
  "kernelspec": {
   "display_name": "Python 3",
   "language": "python",
   "name": "python3"
  },
  "language_info": {
   "codemirror_mode": {
    "name": "ipython",
    "version": 3
   },
   "file_extension": ".py",
   "mimetype": "text/x-python",
   "name": "python",
   "nbconvert_exporter": "python",
   "pygments_lexer": "ipython3",
   "version": "3.10.6"
  },
  "orig_nbformat": 4,
  "vscode": {
   "interpreter": {
    "hash": "31f2aee4e71d21fbe5cf8b01ff0e069b9275f58929596ceb00d14d90e3e16cd6"
   }
  }
 },
 "nbformat": 4,
 "nbformat_minor": 2
}
