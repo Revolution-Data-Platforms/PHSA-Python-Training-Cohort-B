{
 "cells": [
  {
   "attachments": {},
   "cell_type": "markdown",
   "metadata": {},
   "source": [
    "# External Packages"
   ]
  },
  {
   "attachments": {},
   "cell_type": "markdown",
   "metadata": {},
   "source": [
    "Python has a vast ecosystem of external packages that you can use to extend the functionality of your programs. These packages are collections of related modules that provide a wide range of features, from scientific computing to web development, machine learning, and more.\n",
    "\n",
    "In this tutorial section, we'll cover how to use external packages in Python, including how to install them, import them into your code, and use their modules, functions, and classes."
   ]
  },
  {
   "attachments": {},
   "cell_type": "markdown",
   "metadata": {},
   "source": [
    "## Installing External Packages"
   ]
  },
  {
   "attachments": {},
   "cell_type": "markdown",
   "metadata": {},
   "source": [
    "Before you can use an external package in your Python code, you need to install it. You can use pip, which is included with Python, to install external packages.\n",
    "\n",
    "To install a package using pip, open a terminal or command prompt and run the following command:\n",
    "\n",
    "```bash\n",
    "pip install <package_name>\n",
    "```\n",
    "\n",
    "Replace `<package_name>` with the name of the package you want to install. For example, to install the latest version of the NumPy package, you would run:\n",
    "\n",
    "```bash\n",
    "pip install numpy\n",
    "```"
   ]
  },
  {
   "attachments": {},
   "cell_type": "markdown",
   "metadata": {},
   "source": [
    "### Installing a Specific Version "
   ]
  },
  {
   "attachments": {},
   "cell_type": "markdown",
   "metadata": {},
   "source": [
    "\n",
    "If you want to install a specific version of a package, you can do so by appending the version number to the package name, like this:\n",
    "\n",
    "```bash\n",
    "pip install numpy==1.19.3\n",
    "```\n",
    "This will install version 1.19.3 of the NumPy package. "
   ]
  },
  {
   "attachments": {},
   "cell_type": "markdown",
   "metadata": {},
   "source": [
    "### Installing a Minimum Version"
   ]
  },
  {
   "attachments": {},
   "cell_type": "markdown",
   "metadata": {},
   "source": [
    "\n",
    "You can also use the `>=` operator to install a minimum version of a package, like this:\n",
    "\n",
    "```bash\n",
    "pip install numpy>=1.19.3\n",
    "```\n",
    "\n",
    "This will install the latest version of the NumPy package that is greater than or equal to version 1.19.3."
   ]
  },
  {
   "attachments": {},
   "cell_type": "markdown",
   "metadata": {},
   "source": [
    "### Installing a Maximum Version"
   ]
  },
  {
   "attachments": {},
   "cell_type": "markdown",
   "metadata": {},
   "source": [
    "\n",
    "You can also use the `>=` operator to install a maximum version of a package, like this:\n",
    "\n",
    "```bash\n",
    "pip install numpy<=1.19.3\n",
    "```\n",
    "\n",
    "This will install the latest version of the NumPy package that is less than or equal to version 1.19.3."
   ]
  },
  {
   "attachments": {},
   "cell_type": "markdown",
   "metadata": {},
   "source": [
    "### Installing a Range of Versions"
   ]
  },
  {
   "attachments": {},
   "cell_type": "markdown",
   "metadata": {},
   "source": [
    "You can also use the `>=` operator to install between a range of versions of a package, like this:\n",
    "\n",
    "```bash\n",
    "pip install numpy>=1.19.3,<=1.19.5\n",
    "```\n",
    "\n",
    "This will install the latest version of the NumPy package that is greater than or equal to version 1.19.3 and less than or equal to version 1.19.5."
   ]
  },
  {
   "attachments": {},
   "cell_type": "markdown",
   "metadata": {},
   "source": [
    "### Installing Multiple Packages"
   ]
  },
  {
   "attachments": {},
   "cell_type": "markdown",
   "metadata": {},
   "source": [
    "\n",
    "You can also install multiple packages at once by separating them with spaces, like this:\n",
    "\n",
    "```bash\n",
    "pip install numpy pandas matplotlib\n",
    "```\n",
    "\n",
    "This will install the latest versions of the `NumPy`, `pandas`, and `Matplotlib` packages.\n"
   ]
  },
  {
   "attachments": {},
   "cell_type": "markdown",
   "metadata": {},
   "source": [
    "### Installing from a Requirements File"
   ]
  },
  {
   "attachments": {},
   "cell_type": "markdown",
   "metadata": {},
   "source": [
    "You can also install packages from a text file that lists the packages you want to install. To do this, create a text file named `requirements.txt` and add the names of the packages you want to install to it, one per line, using the above conventions. Then, run the following command:\n",
    "\n",
    "```bash\n",
    "pip install -r requirements.txt\n",
    "```\n",
    "\n",
    "This will install all of the packages listed in the `requirements.txt` file. \n",
    "\n",
    "There are many other ways to install external packages, including using a package manager like Anaconda or Miniconda. For more information, see the [Installing Packages](https://packaging.python.org/tutorials/installing-packages/) tutorial on the Python Packaging User Guide."
   ]
  },
  {
   "attachments": {},
   "cell_type": "markdown",
   "metadata": {},
   "source": [
    "## Importing External Packages"
   ]
  },
  {
   "attachments": {},
   "cell_type": "markdown",
   "metadata": {},
   "source": [
    "Once you have installed a package, you can import it into your Python code using the `import` statement. For example, to import the `NumPy` package, you would run:"
   ]
  },
  {
   "cell_type": "code",
   "execution_count": null,
   "metadata": {},
   "outputs": [],
   "source": [
    "import numpy"
   ]
  },
  {
   "attachments": {},
   "cell_type": "markdown",
   "metadata": {},
   "source": [
    "This will import the `NumPy` package into your code and make it available for use. You can then use the modules, functions, and classes that are included in the package."
   ]
  },
  {
   "attachments": {},
   "cell_type": "markdown",
   "metadata": {},
   "source": [
    "### Package Aliases"
   ]
  },
  {
   "attachments": {},
   "cell_type": "markdown",
   "metadata": {},
   "source": [
    "You can also use an alias when importing a package. For example, to import the `NumPy` package and use the alias `np`, you would run:"
   ]
  },
  {
   "cell_type": "code",
   "execution_count": null,
   "metadata": {},
   "outputs": [],
   "source": [
    "import numpy as np"
   ]
  },
  {
   "attachments": {},
   "cell_type": "markdown",
   "metadata": {},
   "source": [
    "This will import the `NumPy` package into your code and make it available for use, but you will need to use the alias `np` to access the package's modules, functions, and classes."
   ]
  },
  {
   "attachments": {},
   "cell_type": "markdown",
   "metadata": {},
   "source": [
    "## Using External Packages"
   ]
  },
  {
   "attachments": {},
   "cell_type": "markdown",
   "metadata": {},
   "source": [
    "To use the modules, functions, and classes provided by an external package, you need to understand its API (Application Programming Interface). The API describes the modules, functions, classes, and objects that the package provides and how to use them.\n",
    "\n",
    "To use a module from a package, you need to import it using the import statement. For example, to use the random module from the `NumPy` package to generate random numbers, you would write:"
   ]
  },
  {
   "cell_type": "code",
   "execution_count": null,
   "metadata": {},
   "outputs": [],
   "source": [
    "import numpy as np\n",
    "\n",
    "x = np.random.rand(5)\n",
    "print(x)"
   ]
  },
  {
   "attachments": {},
   "cell_type": "markdown",
   "metadata": {},
   "source": [
    "This will generate an array of five random numbers between 0 and 1 and print it to the console."
   ]
  },
  {
   "attachments": {},
   "cell_type": "markdown",
   "metadata": {},
   "source": [
    "### Importing Specific Functions and Classes"
   ]
  },
  {
   "attachments": {},
   "cell_type": "markdown",
   "metadata": {},
   "source": [
    "To import a specific function or class from a module, you can use the `from` keyword. For example:"
   ]
  },
  {
   "cell_type": "code",
   "execution_count": null,
   "metadata": {},
   "outputs": [],
   "source": [
    "from numpy import random\n",
    "\n",
    "x = random.rand(5)\n",
    "print(x)"
   ]
  },
  {
   "attachments": {},
   "cell_type": "markdown",
   "metadata": {},
   "source": [
    "This method is useful if you only need to use a few functions or classes from a module. It also makes it easier to read your code, because you don't need to include the module name when you use the function or class."
   ]
  },
  {
   "attachments": {},
   "cell_type": "markdown",
   "metadata": {},
   "source": [
    "## Summary\n",
    "\n",
    "In this tutorial section, you learned the basics on how to use external packages in Python, including how to install them, import them into your code, and use their modules, functions, and classes. By using external packages, you can extend the functionality of your Python programs and save time and effort by reusing code written by others."
   ]
  },
  {
   "attachments": {},
   "cell_type": "markdown",
   "metadata": {},
   "source": [
    "## Further Reading"
   ]
  },
  {
   "attachments": {},
   "cell_type": "markdown",
   "metadata": {},
   "source": [
    "Check out the following resources to learn more about external packages in Python:\n",
    "\n",
    "- [Python Modules and Packages – An Introduction](https://realpython.com/python-modules-packages/) - A guide to Python modules and packages by Real Python.\n",
    "- [Installing Packages](https://packaging.python.org/tutorials/installing-packages/) on the Python Packaging User Guide\n",
    "- [Python Package Index](https://pypi.org/) - The official Python Package Index\n",
    "- [Anaconda](https://www.anaconda.com/) - A package manager for Python and R\n",
    "- [Miniconda](https://docs.conda.io/en/latest/miniconda.html) - A minimal version of Anaconda"
   ]
  }
 ],
 "metadata": {
  "kernelspec": {
   "display_name": "Python 3",
   "language": "python",
   "name": "python3"
  },
  "language_info": {
   "codemirror_mode": {
    "name": "ipython",
    "version": 3
   },
   "file_extension": ".py",
   "mimetype": "text/x-python",
   "name": "python",
   "nbconvert_exporter": "python",
   "pygments_lexer": "ipython3",
   "version": "3.10.6"
  },
  "orig_nbformat": 4,
  "vscode": {
   "interpreter": {
    "hash": "31f2aee4e71d21fbe5cf8b01ff0e069b9275f58929596ceb00d14d90e3e16cd6"
   }
  }
 },
 "nbformat": 4,
 "nbformat_minor": 2
}
