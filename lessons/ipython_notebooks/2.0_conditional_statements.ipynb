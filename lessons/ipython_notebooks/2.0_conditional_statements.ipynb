{
 "cells": [
  {
   "attachments": {},
   "cell_type": "markdown",
   "metadata": {},
   "source": [
    "# Conditional Statements"
   ]
  },
  {
   "attachments": {},
   "cell_type": "markdown",
   "metadata": {},
   "source": [
    "Conditional statements in Python allow you to execute code only if certain conditions are met. They are useful for controlling the flow of a program based on specific conditions.\n",
    "\n",
    "There are three types of conditional statements in Python: `if`, `elif`, and `else`."
   ]
  },
  {
   "attachments": {},
   "cell_type": "markdown",
   "metadata": {},
   "source": [
    "## `if` Statements"
   ]
  },
  {
   "attachments": {},
   "cell_type": "markdown",
   "metadata": {},
   "source": [
    "An `if` statement is used to execute code if a certain condition is met. The syntax for an `if` statement is:\n",
    "\n",
    "```python\n",
    "if condition:\n",
    "    # do something\n",
    "```"
   ]
  },
  {
   "attachments": {},
   "cell_type": "markdown",
   "metadata": {},
   "source": [
    "The `condition` is a boolean expression that evaluates to `True` or `False`. If the condition is `True`, the code indented below the `if` statement is executed. If the condition is `False`, the code is skipped. For example:"
   ]
  },
  {
   "cell_type": "code",
   "execution_count": null,
   "metadata": {},
   "outputs": [],
   "source": [
    "x = 10\n",
    "if x > 5:\n",
    "    print(\"x is greater than 5\")"
   ]
  },
  {
   "attachments": {},
   "cell_type": "markdown",
   "metadata": {},
   "source": [
    "\n",
    "The indentation is important here, as it tells Python which code to execute if the condition is `True`. The indentation is four spaces by default, but you can use any number of spaces or tabs. The important thing is that you are consistent. You can also use the `tab` key to indent.\n",
    "\n",
    "Also, note that the colon (`:`) at the end of the `if` statement is required."
   ]
  },
  {
   "attachments": {},
   "cell_type": "markdown",
   "metadata": {},
   "source": [
    "## `if`-`else` Statements"
   ]
  },
  {
   "attachments": {},
   "cell_type": "markdown",
   "metadata": {},
   "source": [
    "An `if`-`else` statement is used to execute one block of code if a certain condition is `True`, and another block of code if the condition is `False`. The basic syntax for an `if`-`else` statement is as follows:\n",
    "\n",
    "```python\n",
    "if condition:\n",
    "    # do something if condition is True\n",
    "else:\n",
    "    # do something else if condition is False\n",
    "```\n",
    "\n",
    "Again, note the usage of indentation and colons. This applies to all conditional statements in Python."
   ]
  },
  {
   "attachments": {},
   "cell_type": "markdown",
   "metadata": {},
   "source": [
    "Here's an example to demonstrate the usage of an if-else statement:"
   ]
  },
  {
   "cell_type": "code",
   "execution_count": null,
   "metadata": {},
   "outputs": [],
   "source": [
    "x = 10\n",
    "\n",
    "if x > 5:\n",
    "    print(\"x is greater than 5\")\n",
    "else:\n",
    "    print(\"x is not greater than 5\")"
   ]
  },
  {
   "attachments": {},
   "cell_type": "markdown",
   "metadata": {},
   "source": [
    "## `if`-`elif`-`else` Statements"
   ]
  },
  {
   "attachments": {},
   "cell_type": "markdown",
   "metadata": {},
   "source": [
    "You can also use multiple conditions in an `if`-`else` statement by using the `elif` keyword.\n",
    "\n",
    "Here's the syntax for an `if`-`elif`-`else` statement in Python:\n",
    "\n",
    "```python\n",
    "if condition1:\n",
    "    # do something if condition1 is True\n",
    "elif condition2:\n",
    "    # do something different if condition1 is False and condition2 is True\n",
    "else:\n",
    "    # do something else if both condition1 and condition2 are False\n",
    "```"
   ]
  },
  {
   "attachments": {},
   "cell_type": "markdown",
   "metadata": {},
   "source": [
    "Here's an example to demonstrate the usage of an `if`-`elif`-`else` statement:"
   ]
  },
  {
   "cell_type": "code",
   "execution_count": null,
   "metadata": {},
   "outputs": [],
   "source": [
    "x = 10\n",
    "\n",
    "if x < 5:\n",
    "    print(\"x is less than 5\")\n",
    "elif x == 5:\n",
    "    print(\"x is equal to 5\")\n",
    "else:\n",
    "    print(\"x is greater than 5\")"
   ]
  },
  {
   "attachments": {},
   "cell_type": "markdown",
   "metadata": {},
   "source": [
    "Note that only one block of code among the `if`, `elif`, and `else` blocks will be executed, depending on the conditions. The order of the conditions matters here. If the first condition is `True`, the code in the `if` block will be executed, and the rest of the conditions will be skipped. If the first condition is `False`, the next condition will be checked, and so on. If none of the conditions are `True`, the code in the `else` block will be executed. If there is no `else` block, nothing will be executed if none of the conditions are `True`."
   ]
  },
  {
   "attachments": {},
   "cell_type": "markdown",
   "metadata": {},
   "source": [
    "## Nested `if` Statements"
   ]
  },
  {
   "attachments": {},
   "cell_type": "markdown",
   "metadata": {},
   "source": [
    "You can use nested conditional statements to create complex decision-making logic. A nested conditional statement is a conditional statement that is nested inside another conditional statement. In other words, the nested statement is executed only when the condition of the outer statement is met. For example:"
   ]
  },
  {
   "cell_type": "code",
   "execution_count": null,
   "metadata": {},
   "outputs": [],
   "source": [
    "x = 5\n",
    "y = -10\n",
    "\n",
    "if x > 0:\n",
    "    if y > 0:\n",
    "        print(\"x and y are both positive\")\n",
    "    else:\n",
    "        print(\"x is positive, but y is negative\")\n",
    "else:\n",
    "    print(\"x is negative\")"
   ]
  },
  {
   "attachments": {},
   "cell_type": "markdown",
   "metadata": {},
   "source": [
    "Note that the indentation is important here. The code in the `if` block is indented by four spaces, and the code in the nested `if` block is indented by eight spaces. This is because the nested `if` statement is nested inside the outer `if` statement. The outer `if` statement is executed only if the condition is `True`, and the nested `if` statement is executed only if the outer `if` statement is executed."
   ]
  },
  {
   "attachments": {},
   "cell_type": "markdown",
   "metadata": {},
   "source": [
    "## Multiple Conditions"
   ]
  },
  {
   "attachments": {},
   "cell_type": "markdown",
   "metadata": {},
   "source": [
    "You can use multiple conditions in a conditional statement by using the `and`, `or` or `not` keywords. The `and` keyword is used to check if all the conditions are `True`. The `or` keyword is used to check if any of the conditions is `True`. The `not` keyword is used to check if a condition is `False`. For example:"
   ]
  },
  {
   "cell_type": "code",
   "execution_count": null,
   "metadata": {},
   "outputs": [],
   "source": [
    "x = 5\n",
    "y = -10\n",
    "\n",
    "if x > 0 and y > 0:\n",
    "    print(\"x and y are both positive\")"
   ]
  },
  {
   "attachments": {},
   "cell_type": "markdown",
   "metadata": {},
   "source": [
    "Remember the order of precedence of the `and`, `or` and `not` keywords. The `not` keyword has the highest precedence, followed by `and`, and then `or`. This means that `not` is evaluated first, then `and`, and then `or`. You can use parentheses to override the order of precedence."
   ]
  },
  {
   "attachments": {},
   "cell_type": "markdown",
   "metadata": {},
   "source": [
    "## Exercises\n",
    "\n",
    "**Note:** Exercise 10 requires a function not covered so far in this course. Try to think how you would solve it by hand, then research the internet to try and find a way to codify your solution.\n",
    "\n",
    "1. Write a program that takes a temperature as input and prints \"too hot\" if the temperature is greater than 90, \"too cold\" if the temperature is less than 60, and \"just right\" otherwise.\n",
    "\n",
    "2. Write a program that takes a number as input and prints \"positive\" if the number is positive, \"negative\" if the number is negative, and \"zero\" if the number is zero.\n",
    "\n",
    "3. Write a program that takes a character as input and prints \"uppercase\" if the character is an uppercase letter, \"lowercase\" if the character is a lowercase letter, and \"not a letter\" otherwise.\n",
    "\n",
    "4. Write a program that takes a year as input and prints \"leap year\" if the year is a leap year, and \"not a leap year\" otherwise. A leap year is a year that is divisible by 4, except for century years. Century years are leap years only if they are divisible by 400.\n",
    "\n",
    "5. Write a program that takes two numbers as input and prints \"both positive\" if both numbers are positive, \"both negative\" if both numbers are negative, and \"mixed\" otherwise.\n",
    "\n",
    "6. Write a program that takes an integer as input and prints \"even\" if the number is even, and \"odd\" otherwise.\n",
    "\n",
    "7. Write a program that takes a number as input and prints \"multiple of 3\" if the number is divisible by 3, \"multiple of 5\" if the number is divisible by 5, \"multiple of both 3 and 5\" if the number is divisible by both 3 and 5, and \"not a multiple of 3 or 5\" otherwise.\n",
    "\n",
    "8. Write a program that takes a string as input and prints \"palindrome\" if the string is a palindrome (reads the same forwards and backwards), and \"not a palindrome\" otherwise.\n",
    "\n",
    "9. Write a program that takes a grade as input and prints \"A\" if the grade is greater than or equal to 90, \"B\" if the grade is greater than or equal to 80, \"C\" if the grade is greater than or equal to 70, \"D\" if the grade is greater than or equal to 60, and \"F\" otherwise.\n",
    "\n",
    "10. Write a program that takes two strings as input and prints \"anagram\" if the strings are anagrams (contain the same letters in a different order), and \"not anagram\" otherwise."
   ]
  },
  {
   "cell_type": "markdown",
   "metadata": {},
   "source": [
    "## Project: Simple Calculator\n"
   ]
  },
  {
   "attachments": {},
   "cell_type": "markdown",
   "metadata": {},
   "source": [
    "### Project Description\n",
    "Create a Python program that acts as a simple calculator. The program should ask the user to enter two numbers, and then ask which operation they want to perform: addition, subtraction, multiplication, or division. The program should then perform the selected operation and display the result to the user.\n"
   ]
  },
  {
   "attachments": {},
   "cell_type": "markdown",
   "metadata": {},
   "source": [
    "### Project Requirements\n",
    "1. The program should ask the user to enter two numbers.\n",
    "2. The program should ask the user which operation they want to perform: addition, subtraction, multiplication, or division.\n",
    "   - Feel free to expand this list of operations if you want to!\n",
    "3. The program should perform the selected operation and display the result to the user.\n",
    "4. The program should handle errors appropriately, for example, division by zero."
   ]
  },
  {
   "attachments": {},
   "cell_type": "markdown",
   "metadata": {},
   "source": [
    "### Example Output"
   ]
  },
  {
   "attachments": {},
   "cell_type": "markdown",
   "metadata": {},
   "source": [
    "```\n",
    "Welcome to Simple Calculator!\n",
    "Please enter the first number: 10\n",
    "Please enter the second number: 5\n",
    "Please select the operation to perform:\n",
    "1. Addition\n",
    "2. Subtraction\n",
    "3. Multiplication\n",
    "4. Division\n",
    "Enter your choice: 3\n",
    "\n",
    "The result is: 50\n",
    "```"
   ]
  },
  {
   "attachments": {},
   "cell_type": "markdown",
   "metadata": {},
   "source": [
    "## Further Reading"
   ]
  },
  {
   "attachments": {},
   "cell_type": "markdown",
   "metadata": {},
   "source": [
    "Check out the following resources for more information on conditional statements in Python:\n",
    "\n",
    "- W3Schools\n",
    "  - [Python If...Else](https://www.w3schools.com/python/python_conditions.asp)\n",
    "- Real Python\n",
    "  - [Conditional Statements in Python](https://realpython.com/python-conditional-statements/)\n",
    "- Python Documentation\n",
    "  - [The `if` Statement](https://docs.python.org/3/tutorial/controlflow.html#if-statements)\n",
    "  - [The `if`-`else` Statement](https://docs.python.org/3/tutorial/controlflow.html#if-statements)\n",
    "  - [The `if`-`elif`-`else` Statement](https://docs.python.org/3/tutorial/controlflow.html#if-statements)"
   ]
  }
 ],
 "metadata": {
  "kernelspec": {
   "display_name": "Python 3",
   "language": "python",
   "name": "python3"
  },
  "language_info": {
   "codemirror_mode": {
    "name": "ipython",
    "version": 3
   },
   "file_extension": ".py",
   "mimetype": "text/x-python",
   "name": "python",
   "nbconvert_exporter": "python",
   "pygments_lexer": "ipython3",
   "version": "3.10.6"
  },
  "orig_nbformat": 4,
  "vscode": {
   "interpreter": {
    "hash": "31f2aee4e71d21fbe5cf8b01ff0e069b9275f58929596ceb00d14d90e3e16cd6"
   }
  }
 },
 "nbformat": 4,
 "nbformat_minor": 2
}
