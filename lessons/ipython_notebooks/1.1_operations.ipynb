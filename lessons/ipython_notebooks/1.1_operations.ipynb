{
 "cells": [
  {
   "attachments": {},
   "cell_type": "markdown",
   "metadata": {},
   "source": [
    "# Operations"
   ]
  },
  {
   "attachments": {},
   "cell_type": "markdown",
   "metadata": {},
   "source": [
    "Operations are a fundamental aspect of programming and are used to perform mathematical logical and comparison operations in Python. This lesson will cover some of the most commonly used operations in Python."
   ]
  },
  {
   "attachments": {},
   "cell_type": "markdown",
   "metadata": {},
   "source": [
    "## Arithmetic Operations"
   ]
  },
  {
   "attachments": {},
   "cell_type": "markdown",
   "metadata": {},
   "source": [
    "Arithmetic operations are used to perform mathematical operations in Python. These include:\n",
    "\n",
    "- Addition (`+`)\n",
    "- Subtraction (`-`)\n",
    "- Multiplication (`*`)\n",
    "- Division (`/`)\n",
    "- Floor Division (`//`)\n",
    "- Modulus (`%`)\n",
    "- Exponentiation (`**`)"
   ]
  },
  {
   "attachments": {},
   "cell_type": "markdown",
   "metadata": {},
   "source": [
    "### Addition"
   ]
  },
  {
   "cell_type": "code",
   "execution_count": null,
   "metadata": {},
   "outputs": [],
   "source": [
    "a = 2\n",
    "b = 3\n",
    "c = a + b\n",
    "print(c)"
   ]
  },
  {
   "attachments": {},
   "cell_type": "markdown",
   "metadata": {},
   "source": [
    "### Subtraction"
   ]
  },
  {
   "cell_type": "code",
   "execution_count": null,
   "metadata": {},
   "outputs": [],
   "source": [
    "a = 4\n",
    "b = 2\n",
    "c = a - b\n",
    "print(c)"
   ]
  },
  {
   "attachments": {},
   "cell_type": "markdown",
   "metadata": {},
   "source": [
    "### Multiplication"
   ]
  },
  {
   "cell_type": "code",
   "execution_count": null,
   "metadata": {},
   "outputs": [],
   "source": [
    "a = 2\n",
    "b = 3\n",
    "c = a * b\n",
    "print(c)"
   ]
  },
  {
   "attachments": {},
   "cell_type": "markdown",
   "metadata": {},
   "source": [
    "### Division"
   ]
  },
  {
   "cell_type": "code",
   "execution_count": null,
   "metadata": {},
   "outputs": [],
   "source": [
    "a = 8\n",
    "b = 4\n",
    "c = a / b\n",
    "print(c)"
   ]
  },
  {
   "attachments": {},
   "cell_type": "markdown",
   "metadata": {},
   "source": [
    "### Floor Division"
   ]
  },
  {
   "cell_type": "code",
   "execution_count": null,
   "metadata": {},
   "outputs": [],
   "source": [
    "a = 9\n",
    "b = 4\n",
    "c = a // b\n",
    "print(c)"
   ]
  },
  {
   "attachments": {},
   "cell_type": "markdown",
   "metadata": {},
   "source": [
    "### Modulus / Remainder"
   ]
  },
  {
   "cell_type": "code",
   "execution_count": null,
   "metadata": {},
   "outputs": [],
   "source": [
    "a = 5\n",
    "b = 2\n",
    "c = a % b\n",
    "print(c)"
   ]
  },
  {
   "attachments": {},
   "cell_type": "markdown",
   "metadata": {},
   "source": [
    "### Exponentiation"
   ]
  },
  {
   "cell_type": "code",
   "execution_count": null,
   "metadata": {},
   "outputs": [],
   "source": [
    "a = 2\n",
    "b = 3\n",
    "c = a ** b\n",
    "print(c)"
   ]
  },
  {
   "cell_type": "markdown",
   "metadata": {},
   "source": [
    "### Assignment Operators"
   ]
  },
  {
   "attachments": {},
   "cell_type": "markdown",
   "metadata": {},
   "source": [
    "All of the above examples use the `=` assignment operator to assign the result of the operation to a new variable. However, when updating variables, there are other assignment operators that can be used to perform operations and assign the result to the same variable - in a single step. These include:\n",
    "\n",
    "- Addition (`+=`)\n",
    "- Subtraction (`-=`)\n",
    "- Multiplication (`*=`)\n",
    "- Division (`/=`)\n",
    "- Modulus (`%=`)\n",
    "- Exponentiation (`**=`)\n",
    "\n",
    "For example:"
   ]
  },
  {
   "cell_type": "code",
   "execution_count": null,
   "metadata": {},
   "outputs": [],
   "source": [
    "a = 2\n",
    "b = 3\n",
    "a += b\n",
    "print(a)"
   ]
  },
  {
   "attachments": {},
   "cell_type": "markdown",
   "metadata": {},
   "source": [
    "## Comparison Operations"
   ]
  },
  {
   "attachments": {},
   "cell_type": "markdown",
   "metadata": {},
   "source": [
    "Comparison operations are used to compare two values and return a boolean value. These include:\n",
    "\n",
    "- Less than (`<`)\n",
    "- Less than or equal to (`<=`)\n",
    "- Equal to (`==`)\n",
    "- Not equal to (`!=`)\n",
    "- Greater than (`>`)\n",
    "- Greater than or equal to (`>=`)"
   ]
  },
  {
   "attachments": {},
   "cell_type": "markdown",
   "metadata": {},
   "source": [
    "### Less than"
   ]
  },
  {
   "cell_type": "code",
   "execution_count": null,
   "metadata": {},
   "outputs": [],
   "source": [
    "a = 2\n",
    "b = 3\n",
    "c = a < b\n",
    "print(c)"
   ]
  },
  {
   "attachments": {},
   "cell_type": "markdown",
   "metadata": {},
   "source": [
    "### Less than or equal to"
   ]
  },
  {
   "cell_type": "code",
   "execution_count": null,
   "metadata": {},
   "outputs": [],
   "source": [
    "a = 2\n",
    "b = 3\n",
    "c = a <= b\n",
    "print(c)"
   ]
  },
  {
   "attachments": {},
   "cell_type": "markdown",
   "metadata": {},
   "source": [
    "### Equal to"
   ]
  },
  {
   "cell_type": "code",
   "execution_count": null,
   "metadata": {},
   "outputs": [],
   "source": [
    "a = 2\n",
    "b = 2\n",
    "c = a == b\n",
    "print(c)"
   ]
  },
  {
   "attachments": {},
   "cell_type": "markdown",
   "metadata": {},
   "source": [
    "### Not equal to"
   ]
  },
  {
   "cell_type": "code",
   "execution_count": null,
   "metadata": {},
   "outputs": [],
   "source": [
    "a = 2\n",
    "b = 3\n",
    "c = a != b\n",
    "print(c)"
   ]
  },
  {
   "attachments": {},
   "cell_type": "markdown",
   "metadata": {},
   "source": [
    "### Greater than"
   ]
  },
  {
   "cell_type": "code",
   "execution_count": null,
   "metadata": {},
   "outputs": [],
   "source": [
    "a = 2\n",
    "b = 3\n",
    "c = a > b\n",
    "print(c)"
   ]
  },
  {
   "attachments": {},
   "cell_type": "markdown",
   "metadata": {},
   "source": [
    "### Greater than or equal to"
   ]
  },
  {
   "cell_type": "code",
   "execution_count": null,
   "metadata": {},
   "outputs": [],
   "source": [
    "a = 2\n",
    "b = 3\n",
    "c = a >= b\n",
    "print(c)"
   ]
  },
  {
   "attachments": {},
   "cell_type": "markdown",
   "metadata": {},
   "source": [
    "## Logical Operations"
   ]
  },
  {
   "attachments": {},
   "cell_type": "markdown",
   "metadata": {},
   "source": [
    "Logical operations are used to combine boolean values. These include:\n",
    "\n",
    "- And (`and`)\n",
    "- Or (`or`)\n",
    "- Not (`not`)"
   ]
  },
  {
   "attachments": {},
   "cell_type": "markdown",
   "metadata": {},
   "source": [
    "### And"
   ]
  },
  {
   "cell_type": "code",
   "execution_count": null,
   "metadata": {},
   "outputs": [],
   "source": [
    "a = True\n",
    "b = False\n",
    "c = a and b\n",
    "print(c)"
   ]
  },
  {
   "attachments": {},
   "cell_type": "markdown",
   "metadata": {},
   "source": [
    "### Or"
   ]
  },
  {
   "cell_type": "code",
   "execution_count": null,
   "metadata": {},
   "outputs": [],
   "source": [
    "a = True\n",
    "b = False\n",
    "c = a or b\n",
    "print(c)"
   ]
  },
  {
   "attachments": {},
   "cell_type": "markdown",
   "metadata": {},
   "source": [
    "### Not"
   ]
  },
  {
   "cell_type": "code",
   "execution_count": null,
   "metadata": {},
   "outputs": [],
   "source": [
    "a = True\n",
    "b = not a\n",
    "print(b)"
   ]
  },
  {
   "attachments": {},
   "cell_type": "markdown",
   "metadata": {},
   "source": [
    "## Order of Operations "
   ]
  },
  {
   "attachments": {},
   "cell_type": "markdown",
   "metadata": {},
   "source": [
    "Python follows the PEDMAS order of operations for arithmetic expressions, which is as follows:\n",
    "\n",
    "1. Parentheses (`()`)\n",
    "2. Exponents (`**`)\n",
    "3. Division (`/`)\n",
    "    - Floor Division (`//`) and Modulus (`%`) are also considered division operations.\n",
    "4. Multiplication (`*`)\n",
    "5. Addition (`+`)\n",
    "6. Subtraction (`-`)\n",
    "\n",
    "For example, `2 + 3 * 4` is evaluated as `2 + (3 * 4) = 14` and not `(2 + 3) * 4 = 20`.\n",
    "\n",
    "Arithmetic operations take precedence before logical operations. Of the logic operations we covered so far, the order of operations is as follows:\n",
    "\n",
    "1. Equality Operators (`==`, `!=`)\n",
    "2. Comparison Operators (`<`, `<=`, `>`, `>=`)\n",
    "3. Boolean NOT (`not`)\n",
    "4. Boolean AND (`and`)\n",
    "5. Boolean OR (`or`)\n",
    "\n",
    "For example `4 < 3 and 3 > 4 or 4 > 3` is evaluated as `((4 < 3) and (3 > 4)) or (4 > 3) = True` and not `(4 < 3) and ((3 > 4) or (4 > 3)) = False`."
   ]
  },
  {
   "attachments": {},
   "cell_type": "markdown",
   "metadata": {},
   "source": [
    "## Exercises\n",
    "\n",
    "For each expression, first write down your prediction. Then, evaluate the expression in Python and compare your answer to your written prediction. Try to understand why the result is what it is."
   ]
  },
  {
   "attachments": {},
   "cell_type": "markdown",
   "metadata": {},
   "source": [
    "1. What are the results of the following operations?\n",
    "    - `5 + 6`\n",
    "    - `1 - 3`\n",
    "    - `4 * 4`\n",
    "    - `8 / 10`\n",
    "    - `11 // 4`\n",
    "    - `16 % 3`\n",
    "    - `4 ** 2`\n",
    "    - `6 < 2`\n",
    "    - `8 <= 8`\n",
    "    - `4 == 9`\n",
    "    - `9 != 8`\n",
    "    - `8 > 1`\n",
    "    - `3 >= 4`\n",
    "    - `True and False`\n",
    "    - `False or False`\n",
    "    - `not False`\n",
    "<pre>\n",
    "</pre>\n",
    "2. What are the results of the following operations?\n",
    "    - `5 + 6 * 2`\n",
    "    - `(5 + 6) * 2`\n",
    "    - `5 + 6 * 2 == 17`\n",
    "    - `5 + 6 * 2 == 18`\n",
    "    - `5 + 6 * 2 == 17 and 5 + 6 * 2 == 18`\n",
    "    - `5 + 6 * 2 == 17 or 5 + 6 * 2 == 18`\n",
    "    - `not 5 + 6 * 2 == 17`\n",
    "<pre>\n",
    "</pre>\n",
    "3. What are the results of the following operations?\n",
    "    - `5 + 6 * 2 == 17 and 5 + 6 * 2 == 18 or 5 + 6 * 2 == 17`\n",
    "    - `5 + 6 * 2 == 17 or 5 + 6 * 2 == 18 and 5 + 6 * 2 == 17`\n",
    "    - `not 5 + 6 * 2 == 17 and 5 + 6 * 2 == 18 or 5 + 6 * 2 == 17`\n",
    "    - `not 5 + 6 * 2 == 17 or 5 + 6 * 2 == 18 and 5 + 6 * 2 == 17`\n",
    "    - `not 5 + 6 * 2 == 17 and 5 + 6 * 2 == 18 or not 5 + 6 * 2 == 17`\n",
    "    - `not 5 + 6 * 2 == 17 or 5 + 6 * 2 == 18 and not 5 + 6 * 2 == 17`\n",
    "    - `not 5 + 6 * 2 == 17 and not 5 + 6 * 2 == 18 or not 5 + 6 * 2 == 17`\n",
    "    - `not 5 + 6 * 2 == 17 or not 5 + 6 * 2 == 18 and not 5 + 6 * 2 == 17`"
   ]
  },
  {
   "cell_type": "markdown",
   "metadata": {},
   "source": [
    "## Further Reading"
   ]
  },
  {
   "attachments": {},
   "cell_type": "markdown",
   "metadata": {},
   "source": [
    "Check out these links for further reading on operations in Python:\n",
    "\n",
    "- [W3Schools](https://www.w3schools.com/python/python_operators.asp)\n",
    "- [Programiz](https://www.programiz.com/python-programming/operators)\n",
    "- [Real Python](https://realpython.com/python-operators-expressions/)\n",
    "- [GeeksforGeeks](https://www.geeksforgeeks.org/python-operators/)\n",
    "- [Python Documentation](https://docs.python.org/3/library/stdtypes.html#numeric-types-int-float-complex)\n",
    "\n",
    "Also, check out these links for further reading on assignment operators in Python:\n",
    "- [GeeksforGeeks](https://www.geeksforgeeks.org/assignment-operators-in-python/)\n",
    "- [Real Python](https://realpython.com/python-assignment-operator/#assignment-statements-and-the-assignment-operator)\n",
    "- [Python Documentation](https://docs.python.org/3/reference/simple_stmts.html#assignment-statements)\n",
    "\n",
    "Finally, check out these links for further reading on order of operations in Python:\n",
    "- [GeeksforGeeks](https://www.geeksforgeeks.org/precedence-and-associativity-of-operators-in-python/)\n",
    "- [Real Python](https://realpython.com/python-operators-expressions/#order-of-operations)\n",
    "- [Python Documentation](https://docs.python.org/3/reference/expressions.html#operator-precedence)\n",
    "\n",
    "Additionally, you can use search terms such as \"Python operators\" or \"Python operations\" to find more resources online. Remember, there are many ways to learn Python and you should always try to find the resources that work best for you."
   ]
  }
 ],
 "metadata": {
  "kernelspec": {
   "display_name": "Python 3",
   "language": "python",
   "name": "python3"
  },
  "language_info": {
   "codemirror_mode": {
    "name": "ipython",
    "version": 3
   },
   "file_extension": ".py",
   "mimetype": "text/x-python",
   "name": "python",
   "nbconvert_exporter": "python",
   "pygments_lexer": "ipython3",
   "version": "3.10.6"
  },
  "orig_nbformat": 4,
  "vscode": {
   "interpreter": {
    "hash": "31f2aee4e71d21fbe5cf8b01ff0e069b9275f58929596ceb00d14d90e3e16cd6"
   }
  }
 },
 "nbformat": 4,
 "nbformat_minor": 2
}
